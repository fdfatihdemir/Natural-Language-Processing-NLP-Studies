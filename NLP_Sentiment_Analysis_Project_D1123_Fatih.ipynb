{
  "cells": [
    {
      "cell_type": "markdown",
      "metadata": {
        "id": "view-in-github",
        "colab_type": "text"
      },
      "source": [
        "<a href=\"https://colab.research.google.com/github/fdfatihdemir/Natural-Language-Processing-NLP-Studies/blob/main/NLP_Sentiment_Analysis_Project_D1123_Fatih.ipynb\" target=\"_parent\"><img src=\"https://colab.research.google.com/assets/colab-badge.svg\" alt=\"Open In Colab\"/></a>"
      ]
    },
    {
      "cell_type": "markdown",
      "metadata": {
        "id": "FW69LDoO6Z_Y"
      },
      "source": [
        "___\n",
        "\n",
        "<p style=\"text-align: center;\"><img src=\"https://docs.google.com/uc?id=1lY0Uj5R04yMY3-ZppPWxqCr5pvBLYPnV\" class=\"img-fluid\" alt=\"CLRSWY\"></p>\n",
        "\n",
        "___"
      ]
    },
    {
      "cell_type": "markdown",
      "metadata": {
        "id": "itfQYyjN6Z_h"
      },
      "source": [
        "# WELCOME!"
      ]
    },
    {
      "cell_type": "markdown",
      "metadata": {
        "id": "yDR3fiwm6Z_i"
      },
      "source": [
        "Welcome to the \"***Sentiment Analysis and Classification Project***\" project, the first and only project of the ***Natural Language Processing (NLP)*** course.\n",
        "\n",
        "This analysis will focus on using Natural Language techniques to find broad trends in the written thoughts of the customers. \n",
        "The goal in this project is to predict whether customers recommend the product they purchased using the information in their review text.\n",
        "\n",
        "One of the challenges in this project is to extract useful information from the *Review Text* variable using text mining techniques. The other challenge is that you need to convert text files into numeric feature vectors to run machine learning algorithms.\n",
        "\n",
        "At the end of this project, you will learn how to build sentiment classification models using Machine Learning algorithms (***Logistic Regression, Naive Bayes, Support Vector Machine, Random Forest*** and ***Ada Boosting***), **Deep Learning algorithms** and **BERT algorithm**.\n",
        "\n",
        "Before diving into the project, please take a look at the Determines and Tasks.\n",
        "\n",
        "- ***NOTE:*** *This tutorial assumes that you already know the basics of coding in Python and are familiar with the theory behind the algorithms mentioned above as well as NLP techniques.*\n",
        "\n"
      ]
    },
    {
      "cell_type": "markdown",
      "metadata": {
        "id": "f8CkjmIb6Z_k"
      },
      "source": [
        "---\n",
        "---\n"
      ]
    },
    {
      "cell_type": "markdown",
      "metadata": {
        "id": "nlxPfZMl6Z_l"
      },
      "source": [
        "# #Determines\n",
        "The data is a collection of 22641 Rows and 10 column variables. Each row includes a written comment as well as additional customer information. \n",
        "Also each row corresponds to a customer review, and includes the variables:\n",
        "\n",
        "\n",
        "**Feature Information:**\n",
        "\n",
        "**Clothing ID:** Integer Categorical variable that refers to the specific piece being reviewed.\n",
        "\n",
        "**Age:** Positive Integer variable of the reviewers age.\n",
        "\n",
        "**Title:** String variable for the title of the review.\n",
        "\n",
        "**Review Text:** String variable for the review body.\n",
        "\n",
        "**Rating:** Positive Ordinal Integer variable for the product score granted by the customer from 1 Worst, to 5 Best.\n",
        "\n",
        "**Recommended IND:** Binary variable stating where the customer recommends the product where 1 is recommended, 0 is not recommended.\n",
        "\n",
        "**Positive Feedback Count:** Positive Integer documenting the number of other customers who found this review positive.\n",
        "\n",
        "**Division Name:** Categorical name of the product high level division.\n",
        "\n",
        "**Department Name:** Categorical name of the product department name.\n",
        "\n",
        "**Class Name:** Categorical name of the product class name.\n",
        "\n",
        "---\n",
        "\n",
        "The basic goal in this project is to predict whether customers recommend the product they purchased using the information in their *Review Text*.\n",
        "Especially, it should be noted that the expectation in this project is to use only the \"Review Text\" variable and neglect the other ones. \n",
        "Of course, if you want, you can work on other variables individually.\n",
        "\n",
        "Project Structure is separated in five tasks: ***EDA, Feature Selection and Data Cleaning , Text Mining, Word Cloud*** and ***Sentiment Classification with Machine Learning, Deep Learning and BERT model***.\n",
        "\n",
        "Classically, you can start to know the data after doing the import and load operations. \n",
        "You need to do missing value detection for Review Text, which is the only variable you need to care about. You can drop other variables.\n",
        "\n",
        "You will need to apply ***noise removal*** and ***lexicon normalization*** processes by using the capabilities of the ***nltk*** library to the data set that is ready for text mining.\n",
        "\n",
        "Afterwards, you will implement ***Word Cloud*** as a visual analysis of word repetition.\n",
        "\n",
        "Finally, You will build models with five different algorithms and compare their performance. Thus, you will determine the algorithm that makes the most accurate emotion estimation by using the information obtained from the * Review Text * variable.\n",
        "\n",
        "\n",
        "\n",
        "\n"
      ]
    },
    {
      "cell_type": "markdown",
      "metadata": {
        "id": "A0ovB17G6Z_n"
      },
      "source": [
        "---\n",
        "---\n"
      ]
    },
    {
      "cell_type": "markdown",
      "metadata": {
        "id": "5KvbexBw6Z_n"
      },
      "source": [
        "# #Tasks\n",
        "\n",
        "#### 1. Exploratory Data Analysis\n",
        "\n",
        "- Import Modules, Load Discover the Data\n",
        "\n",
        "#### 2. Feature Selection and Data Cleaning\n",
        "\n",
        "- Feature Selection and Rename Column Name\n",
        "- Missing Value Detection\n",
        "\n",
        "#### 3. Text Mining\n",
        "\n",
        "- Tokenization\n",
        "- Noise Removal\n",
        "- Lexicon Normalization\n",
        "\n",
        "#### 4. WordCloud - Repetition of Words\n",
        "\n",
        "- Detect Reviews\n",
        "- Collect Words \n",
        "- Create Word Cloud \n",
        "\n",
        "\n",
        "#### 5. Sentiment Classification with Machine Learning, Deep Learning and BERT Model\n",
        "\n",
        "- Train - Test Split\n",
        "- Vectorization\n",
        "- TF-IDF\n",
        "- Logistic Regression\n",
        "- Naive Bayes\n",
        "- Support Vector Machine\n",
        "- Random Forest\n",
        "- AdaBoost\n",
        "- Deep Learning Model\n",
        "- BERT Model\n",
        "- Model Comparison"
      ]
    },
    {
      "cell_type": "markdown",
      "metadata": {
        "id": "FCrs-bQS6Z_o"
      },
      "source": [
        "---\n",
        "---\n"
      ]
    },
    {
      "cell_type": "markdown",
      "metadata": {
        "id": "HOkP9vyYCV31"
      },
      "source": [
        "# Sentiment analysis of women's clothes reviews\n",
        "\n",
        "\n",
        "In this project we used sentiment analysis to determined whether the product is recommended or not. We used different machine learning algorithms to get more accurate predictions. The following classification algorithms have been used: ML algorithms(Logistic Regression, Naive Bayes, Support Vector Machine (SVM), Random Forest and Ada Boosting), Deep learning algorithm and BERT algorithm. The dataset comes from Woman Clothing Review that can be find at (https://www.kaggle.com/nicapotato/womens-ecommerce-clothing-reviews. \n"
      ]
    },
    {
      "cell_type": "markdown",
      "metadata": {
        "id": "uUO2do4Z6Z_q"
      },
      "source": [
        "## 1. Exploratory Data Analysis"
      ]
    },
    {
      "cell_type": "markdown",
      "metadata": {
        "id": "FXzFEeYkCV32"
      },
      "source": [
        "### Import Libraries, Load and Discover the Data"
      ]
    },
    {
      "cell_type": "code",
      "execution_count": 285,
      "metadata": {
        "colab": {
          "base_uri": "https://localhost:8080/"
        },
        "id": "VB66vG8I6Z_s",
        "outputId": "622d1728-862c-4ed5-a75a-3217bceb64de"
      },
      "outputs": [
        {
          "output_type": "stream",
          "name": "stdout",
          "text": [
            "Looking in indexes: https://pypi.org/simple, https://us-python.pkg.dev/colab-wheels/public/simple/\n",
            "Requirement already satisfied: matplotlib in /usr/local/lib/python3.7/dist-packages (3.4.0)\n",
            "Requirement already satisfied: kiwisolver>=1.0.1 in /usr/local/lib/python3.7/dist-packages (from matplotlib) (1.4.4)\n",
            "Requirement already satisfied: pyparsing>=2.2.1 in /usr/local/lib/python3.7/dist-packages (from matplotlib) (3.0.9)\n",
            "Requirement already satisfied: numpy>=1.16 in /usr/local/lib/python3.7/dist-packages (from matplotlib) (1.21.6)\n",
            "Requirement already satisfied: pillow>=6.2.0 in /usr/local/lib/python3.7/dist-packages (from matplotlib) (7.1.2)\n",
            "Requirement already satisfied: cycler>=0.10 in /usr/local/lib/python3.7/dist-packages (from matplotlib) (0.11.0)\n",
            "Requirement already satisfied: python-dateutil>=2.7 in /usr/local/lib/python3.7/dist-packages (from matplotlib) (2.8.2)\n",
            "Requirement already satisfied: typing-extensions in /usr/local/lib/python3.7/dist-packages (from kiwisolver>=1.0.1->matplotlib) (4.1.1)\n",
            "Requirement already satisfied: six>=1.5 in /usr/local/lib/python3.7/dist-packages (from python-dateutil>=2.7->matplotlib) (1.15.0)\n"
          ]
        }
      ],
      "source": [
        "!pip install matplotlib==3.4.0"
      ]
    },
    {
      "cell_type": "code",
      "execution_count": 75,
      "metadata": {
        "colab": {
          "base_uri": "https://localhost:8080/"
        },
        "id": "_1MOlVI26Z_t",
        "outputId": "014a32f6-dcc9-452a-eeab-4b1d2e9d9480"
      },
      "outputs": [
        {
          "output_type": "stream",
          "name": "stdout",
          "text": [
            "Drive already mounted at /content/drive; to attempt to forcibly remount, call drive.mount(\"/content/drive\", force_remount=True).\n"
          ]
        }
      ],
      "source": [
        "from google.colab import drive\n",
        "drive.mount('/content/drive')\n"
      ]
    },
    {
      "cell_type": "code",
      "source": [
        "import tensorflow as tf\n",
        "import os\n",
        "\n",
        "# Note that the `tpu` argument is for Colab-only\n",
        "resolver = tf.distribute.cluster_resolver.TPUClusterResolver(tpu='grpc://' + os.environ['COLAB_TPU_ADDR'])\n",
        "\n",
        "tf.config.experimental_connect_to_cluster(resolver)\n",
        "tf.tpu.experimental.initialize_tpu_system(resolver)\n",
        "print(\"All devices: \", tf.config.list_logical_devices('TPU'))"
      ],
      "metadata": {
        "colab": {
          "base_uri": "https://localhost:8080/"
        },
        "id": "BcUxQXpz8MQL",
        "outputId": "f62358bb-efd4-4fad-d8d4-1026d487dda3"
      },
      "execution_count": 76,
      "outputs": [
        {
          "output_type": "stream",
          "name": "stdout",
          "text": [
            "INFO:tensorflow:Deallocate tpu buffers before initializing tpu system.\n"
          ]
        },
        {
          "output_type": "stream",
          "name": "stderr",
          "text": [
            "INFO:tensorflow:Deallocate tpu buffers before initializing tpu system.\n"
          ]
        },
        {
          "output_type": "stream",
          "name": "stdout",
          "text": [
            "WARNING:tensorflow:TPU system grpc://10.75.29.250:8470 has already been initialized. Reinitializing the TPU can cause previously created variables on TPU to be lost.\n"
          ]
        },
        {
          "output_type": "stream",
          "name": "stderr",
          "text": [
            "WARNING:tensorflow:TPU system grpc://10.75.29.250:8470 has already been initialized. Reinitializing the TPU can cause previously created variables on TPU to be lost.\n"
          ]
        },
        {
          "output_type": "stream",
          "name": "stdout",
          "text": [
            "INFO:tensorflow:Initializing the TPU system: grpc://10.75.29.250:8470\n"
          ]
        },
        {
          "output_type": "stream",
          "name": "stderr",
          "text": [
            "INFO:tensorflow:Initializing the TPU system: grpc://10.75.29.250:8470\n"
          ]
        },
        {
          "output_type": "stream",
          "name": "stdout",
          "text": [
            "INFO:tensorflow:Finished initializing TPU system.\n"
          ]
        },
        {
          "output_type": "stream",
          "name": "stderr",
          "text": [
            "INFO:tensorflow:Finished initializing TPU system.\n"
          ]
        },
        {
          "output_type": "stream",
          "name": "stdout",
          "text": [
            "All devices:  [LogicalDevice(name='/job:worker/replica:0/task:0/device:TPU:0', device_type='TPU'), LogicalDevice(name='/job:worker/replica:0/task:0/device:TPU:1', device_type='TPU'), LogicalDevice(name='/job:worker/replica:0/task:0/device:TPU:2', device_type='TPU'), LogicalDevice(name='/job:worker/replica:0/task:0/device:TPU:3', device_type='TPU'), LogicalDevice(name='/job:worker/replica:0/task:0/device:TPU:4', device_type='TPU'), LogicalDevice(name='/job:worker/replica:0/task:0/device:TPU:5', device_type='TPU'), LogicalDevice(name='/job:worker/replica:0/task:0/device:TPU:6', device_type='TPU'), LogicalDevice(name='/job:worker/replica:0/task:0/device:TPU:7', device_type='TPU')]\n"
          ]
        }
      ]
    },
    {
      "cell_type": "code",
      "source": [
        "strategy = tf.distribute.TPUStrategy(resolver)"
      ],
      "metadata": {
        "colab": {
          "base_uri": "https://localhost:8080/"
        },
        "id": "MMZQn1Q-8NEz",
        "outputId": "0f881c63-4d11-43ce-b9da-cb93643a133a"
      },
      "execution_count": 77,
      "outputs": [
        {
          "output_type": "stream",
          "name": "stdout",
          "text": [
            "INFO:tensorflow:Found TPU system:\n"
          ]
        },
        {
          "output_type": "stream",
          "name": "stderr",
          "text": [
            "INFO:tensorflow:Found TPU system:\n"
          ]
        },
        {
          "output_type": "stream",
          "name": "stdout",
          "text": [
            "INFO:tensorflow:*** Num TPU Cores: 8\n"
          ]
        },
        {
          "output_type": "stream",
          "name": "stderr",
          "text": [
            "INFO:tensorflow:*** Num TPU Cores: 8\n"
          ]
        },
        {
          "output_type": "stream",
          "name": "stdout",
          "text": [
            "INFO:tensorflow:*** Num TPU Workers: 1\n"
          ]
        },
        {
          "output_type": "stream",
          "name": "stderr",
          "text": [
            "INFO:tensorflow:*** Num TPU Workers: 1\n"
          ]
        },
        {
          "output_type": "stream",
          "name": "stdout",
          "text": [
            "INFO:tensorflow:*** Num TPU Cores Per Worker: 8\n"
          ]
        },
        {
          "output_type": "stream",
          "name": "stderr",
          "text": [
            "INFO:tensorflow:*** Num TPU Cores Per Worker: 8\n"
          ]
        },
        {
          "output_type": "stream",
          "name": "stdout",
          "text": [
            "INFO:tensorflow:*** Available Device: _DeviceAttributes(/job:localhost/replica:0/task:0/device:CPU:0, CPU, 0, 0)\n"
          ]
        },
        {
          "output_type": "stream",
          "name": "stderr",
          "text": [
            "INFO:tensorflow:*** Available Device: _DeviceAttributes(/job:localhost/replica:0/task:0/device:CPU:0, CPU, 0, 0)\n"
          ]
        },
        {
          "output_type": "stream",
          "name": "stdout",
          "text": [
            "INFO:tensorflow:*** Available Device: _DeviceAttributes(/job:worker/replica:0/task:0/device:CPU:0, CPU, 0, 0)\n"
          ]
        },
        {
          "output_type": "stream",
          "name": "stderr",
          "text": [
            "INFO:tensorflow:*** Available Device: _DeviceAttributes(/job:worker/replica:0/task:0/device:CPU:0, CPU, 0, 0)\n"
          ]
        },
        {
          "output_type": "stream",
          "name": "stdout",
          "text": [
            "INFO:tensorflow:*** Available Device: _DeviceAttributes(/job:worker/replica:0/task:0/device:TPU:0, TPU, 0, 0)\n"
          ]
        },
        {
          "output_type": "stream",
          "name": "stderr",
          "text": [
            "INFO:tensorflow:*** Available Device: _DeviceAttributes(/job:worker/replica:0/task:0/device:TPU:0, TPU, 0, 0)\n"
          ]
        },
        {
          "output_type": "stream",
          "name": "stdout",
          "text": [
            "INFO:tensorflow:*** Available Device: _DeviceAttributes(/job:worker/replica:0/task:0/device:TPU:1, TPU, 0, 0)\n"
          ]
        },
        {
          "output_type": "stream",
          "name": "stderr",
          "text": [
            "INFO:tensorflow:*** Available Device: _DeviceAttributes(/job:worker/replica:0/task:0/device:TPU:1, TPU, 0, 0)\n"
          ]
        },
        {
          "output_type": "stream",
          "name": "stdout",
          "text": [
            "INFO:tensorflow:*** Available Device: _DeviceAttributes(/job:worker/replica:0/task:0/device:TPU:2, TPU, 0, 0)\n"
          ]
        },
        {
          "output_type": "stream",
          "name": "stderr",
          "text": [
            "INFO:tensorflow:*** Available Device: _DeviceAttributes(/job:worker/replica:0/task:0/device:TPU:2, TPU, 0, 0)\n"
          ]
        },
        {
          "output_type": "stream",
          "name": "stdout",
          "text": [
            "INFO:tensorflow:*** Available Device: _DeviceAttributes(/job:worker/replica:0/task:0/device:TPU:3, TPU, 0, 0)\n"
          ]
        },
        {
          "output_type": "stream",
          "name": "stderr",
          "text": [
            "INFO:tensorflow:*** Available Device: _DeviceAttributes(/job:worker/replica:0/task:0/device:TPU:3, TPU, 0, 0)\n"
          ]
        },
        {
          "output_type": "stream",
          "name": "stdout",
          "text": [
            "INFO:tensorflow:*** Available Device: _DeviceAttributes(/job:worker/replica:0/task:0/device:TPU:4, TPU, 0, 0)\n"
          ]
        },
        {
          "output_type": "stream",
          "name": "stderr",
          "text": [
            "INFO:tensorflow:*** Available Device: _DeviceAttributes(/job:worker/replica:0/task:0/device:TPU:4, TPU, 0, 0)\n"
          ]
        },
        {
          "output_type": "stream",
          "name": "stdout",
          "text": [
            "INFO:tensorflow:*** Available Device: _DeviceAttributes(/job:worker/replica:0/task:0/device:TPU:5, TPU, 0, 0)\n"
          ]
        },
        {
          "output_type": "stream",
          "name": "stderr",
          "text": [
            "INFO:tensorflow:*** Available Device: _DeviceAttributes(/job:worker/replica:0/task:0/device:TPU:5, TPU, 0, 0)\n"
          ]
        },
        {
          "output_type": "stream",
          "name": "stdout",
          "text": [
            "INFO:tensorflow:*** Available Device: _DeviceAttributes(/job:worker/replica:0/task:0/device:TPU:6, TPU, 0, 0)\n"
          ]
        },
        {
          "output_type": "stream",
          "name": "stderr",
          "text": [
            "INFO:tensorflow:*** Available Device: _DeviceAttributes(/job:worker/replica:0/task:0/device:TPU:6, TPU, 0, 0)\n"
          ]
        },
        {
          "output_type": "stream",
          "name": "stdout",
          "text": [
            "INFO:tensorflow:*** Available Device: _DeviceAttributes(/job:worker/replica:0/task:0/device:TPU:7, TPU, 0, 0)\n"
          ]
        },
        {
          "output_type": "stream",
          "name": "stderr",
          "text": [
            "INFO:tensorflow:*** Available Device: _DeviceAttributes(/job:worker/replica:0/task:0/device:TPU:7, TPU, 0, 0)\n"
          ]
        },
        {
          "output_type": "stream",
          "name": "stdout",
          "text": [
            "INFO:tensorflow:*** Available Device: _DeviceAttributes(/job:worker/replica:0/task:0/device:TPU_SYSTEM:0, TPU_SYSTEM, 0, 0)\n"
          ]
        },
        {
          "output_type": "stream",
          "name": "stderr",
          "text": [
            "INFO:tensorflow:*** Available Device: _DeviceAttributes(/job:worker/replica:0/task:0/device:TPU_SYSTEM:0, TPU_SYSTEM, 0, 0)\n"
          ]
        },
        {
          "output_type": "stream",
          "name": "stdout",
          "text": [
            "INFO:tensorflow:*** Available Device: _DeviceAttributes(/job:worker/replica:0/task:0/device:XLA_CPU:0, XLA_CPU, 0, 0)\n"
          ]
        },
        {
          "output_type": "stream",
          "name": "stderr",
          "text": [
            "INFO:tensorflow:*** Available Device: _DeviceAttributes(/job:worker/replica:0/task:0/device:XLA_CPU:0, XLA_CPU, 0, 0)\n"
          ]
        }
      ]
    },
    {
      "cell_type": "code",
      "source": [
        "from nltk.tokenize import sent_tokenize, word_tokenize\n",
        "from nltk.stem import WordNetLemmatizer\n",
        "from nltk.corpus import stopwords\n",
        "from warnings import filterwarnings\n",
        "filterwarnings('ignore')\n",
        "import nltk\n",
        "import matplotlib.pyplot as plt\n",
        "import seaborn as sns\n",
        "import pandas as pd\n",
        "import numpy as np"
      ],
      "metadata": {
        "id": "PC8J8shb8NO6"
      },
      "execution_count": 109,
      "outputs": []
    },
    {
      "cell_type": "code",
      "source": [
        "nltk.download(\"punkt\")\n",
        "nltk.download('stopwords')\n",
        "nltk.download('wordnet')"
      ],
      "metadata": {
        "colab": {
          "base_uri": "https://localhost:8080/"
        },
        "id": "E62liq_t8pfD",
        "outputId": "3ffefe71-4a76-42e7-a46b-ae3366f4851f"
      },
      "execution_count": 127,
      "outputs": [
        {
          "output_type": "stream",
          "name": "stderr",
          "text": [
            "[nltk_data] Downloading package punkt to /root/nltk_data...\n",
            "[nltk_data]   Package punkt is already up-to-date!\n",
            "[nltk_data] Downloading package stopwords to /root/nltk_data...\n",
            "[nltk_data]   Package stopwords is already up-to-date!\n",
            "[nltk_data] Downloading package wordnet to /root/nltk_data...\n",
            "[nltk_data]   Package wordnet is already up-to-date!\n"
          ]
        },
        {
          "output_type": "execute_result",
          "data": {
            "text/plain": [
              "True"
            ]
          },
          "metadata": {},
          "execution_count": 127
        }
      ]
    },
    {
      "cell_type": "code",
      "source": [
        "# CSV dosyasını Colab Sample data klasörüne yükledim. Drive den okumadı.\n",
        "\n",
        "df = pd.read_csv(\"/content/sample_data/Womens Clothing E-Commerce Reviews.csv\", index_col=0)\n",
        "df.head(5)\n"
      ],
      "metadata": {
        "colab": {
          "base_uri": "https://localhost:8080/",
          "height": 354
        },
        "id": "HmYfXdYR8piJ",
        "outputId": "941032dd-6d49-4535-92cf-885d4bd2f13a"
      },
      "execution_count": 80,
      "outputs": [
        {
          "output_type": "execute_result",
          "data": {
            "text/plain": [
              "   Clothing ID  Age                    Title  \\\n",
              "0          767   33                      NaN   \n",
              "1         1080   34                      NaN   \n",
              "2         1077   60  Some major design flaws   \n",
              "3         1049   50         My favorite buy!   \n",
              "4          847   47         Flattering shirt   \n",
              "\n",
              "                                         Review Text  Rating  Recommended IND  \\\n",
              "0  Absolutely wonderful - silky and sexy and comf...       4                1   \n",
              "1  Love this dress!  it's sooo pretty.  i happene...       5                1   \n",
              "2  I had such high hopes for this dress and reall...       3                0   \n",
              "3  I love, love, love this jumpsuit. it's fun, fl...       5                1   \n",
              "4  This shirt is very flattering to all due to th...       5                1   \n",
              "\n",
              "   Positive Feedback Count   Division Name Department Name Class Name  \n",
              "0                        0       Initmates        Intimate  Intimates  \n",
              "1                        4         General         Dresses    Dresses  \n",
              "2                        0         General         Dresses    Dresses  \n",
              "3                        0  General Petite         Bottoms      Pants  \n",
              "4                        6         General            Tops    Blouses  "
            ],
            "text/html": [
              "\n",
              "  <div id=\"df-f1631e27-6e4e-4f61-93bb-ce25dcb3b36c\">\n",
              "    <div class=\"colab-df-container\">\n",
              "      <div>\n",
              "<style scoped>\n",
              "    .dataframe tbody tr th:only-of-type {\n",
              "        vertical-align: middle;\n",
              "    }\n",
              "\n",
              "    .dataframe tbody tr th {\n",
              "        vertical-align: top;\n",
              "    }\n",
              "\n",
              "    .dataframe thead th {\n",
              "        text-align: right;\n",
              "    }\n",
              "</style>\n",
              "<table border=\"1\" class=\"dataframe\">\n",
              "  <thead>\n",
              "    <tr style=\"text-align: right;\">\n",
              "      <th></th>\n",
              "      <th>Clothing ID</th>\n",
              "      <th>Age</th>\n",
              "      <th>Title</th>\n",
              "      <th>Review Text</th>\n",
              "      <th>Rating</th>\n",
              "      <th>Recommended IND</th>\n",
              "      <th>Positive Feedback Count</th>\n",
              "      <th>Division Name</th>\n",
              "      <th>Department Name</th>\n",
              "      <th>Class Name</th>\n",
              "    </tr>\n",
              "  </thead>\n",
              "  <tbody>\n",
              "    <tr>\n",
              "      <th>0</th>\n",
              "      <td>767</td>\n",
              "      <td>33</td>\n",
              "      <td>NaN</td>\n",
              "      <td>Absolutely wonderful - silky and sexy and comf...</td>\n",
              "      <td>4</td>\n",
              "      <td>1</td>\n",
              "      <td>0</td>\n",
              "      <td>Initmates</td>\n",
              "      <td>Intimate</td>\n",
              "      <td>Intimates</td>\n",
              "    </tr>\n",
              "    <tr>\n",
              "      <th>1</th>\n",
              "      <td>1080</td>\n",
              "      <td>34</td>\n",
              "      <td>NaN</td>\n",
              "      <td>Love this dress!  it's sooo pretty.  i happene...</td>\n",
              "      <td>5</td>\n",
              "      <td>1</td>\n",
              "      <td>4</td>\n",
              "      <td>General</td>\n",
              "      <td>Dresses</td>\n",
              "      <td>Dresses</td>\n",
              "    </tr>\n",
              "    <tr>\n",
              "      <th>2</th>\n",
              "      <td>1077</td>\n",
              "      <td>60</td>\n",
              "      <td>Some major design flaws</td>\n",
              "      <td>I had such high hopes for this dress and reall...</td>\n",
              "      <td>3</td>\n",
              "      <td>0</td>\n",
              "      <td>0</td>\n",
              "      <td>General</td>\n",
              "      <td>Dresses</td>\n",
              "      <td>Dresses</td>\n",
              "    </tr>\n",
              "    <tr>\n",
              "      <th>3</th>\n",
              "      <td>1049</td>\n",
              "      <td>50</td>\n",
              "      <td>My favorite buy!</td>\n",
              "      <td>I love, love, love this jumpsuit. it's fun, fl...</td>\n",
              "      <td>5</td>\n",
              "      <td>1</td>\n",
              "      <td>0</td>\n",
              "      <td>General Petite</td>\n",
              "      <td>Bottoms</td>\n",
              "      <td>Pants</td>\n",
              "    </tr>\n",
              "    <tr>\n",
              "      <th>4</th>\n",
              "      <td>847</td>\n",
              "      <td>47</td>\n",
              "      <td>Flattering shirt</td>\n",
              "      <td>This shirt is very flattering to all due to th...</td>\n",
              "      <td>5</td>\n",
              "      <td>1</td>\n",
              "      <td>6</td>\n",
              "      <td>General</td>\n",
              "      <td>Tops</td>\n",
              "      <td>Blouses</td>\n",
              "    </tr>\n",
              "  </tbody>\n",
              "</table>\n",
              "</div>\n",
              "      <button class=\"colab-df-convert\" onclick=\"convertToInteractive('df-f1631e27-6e4e-4f61-93bb-ce25dcb3b36c')\"\n",
              "              title=\"Convert this dataframe to an interactive table.\"\n",
              "              style=\"display:none;\">\n",
              "        \n",
              "  <svg xmlns=\"http://www.w3.org/2000/svg\" height=\"24px\"viewBox=\"0 0 24 24\"\n",
              "       width=\"24px\">\n",
              "    <path d=\"M0 0h24v24H0V0z\" fill=\"none\"/>\n",
              "    <path d=\"M18.56 5.44l.94 2.06.94-2.06 2.06-.94-2.06-.94-.94-2.06-.94 2.06-2.06.94zm-11 1L8.5 8.5l.94-2.06 2.06-.94-2.06-.94L8.5 2.5l-.94 2.06-2.06.94zm10 10l.94 2.06.94-2.06 2.06-.94-2.06-.94-.94-2.06-.94 2.06-2.06.94z\"/><path d=\"M17.41 7.96l-1.37-1.37c-.4-.4-.92-.59-1.43-.59-.52 0-1.04.2-1.43.59L10.3 9.45l-7.72 7.72c-.78.78-.78 2.05 0 2.83L4 21.41c.39.39.9.59 1.41.59.51 0 1.02-.2 1.41-.59l7.78-7.78 2.81-2.81c.8-.78.8-2.07 0-2.86zM5.41 20L4 18.59l7.72-7.72 1.47 1.35L5.41 20z\"/>\n",
              "  </svg>\n",
              "      </button>\n",
              "      \n",
              "  <style>\n",
              "    .colab-df-container {\n",
              "      display:flex;\n",
              "      flex-wrap:wrap;\n",
              "      gap: 12px;\n",
              "    }\n",
              "\n",
              "    .colab-df-convert {\n",
              "      background-color: #E8F0FE;\n",
              "      border: none;\n",
              "      border-radius: 50%;\n",
              "      cursor: pointer;\n",
              "      display: none;\n",
              "      fill: #1967D2;\n",
              "      height: 32px;\n",
              "      padding: 0 0 0 0;\n",
              "      width: 32px;\n",
              "    }\n",
              "\n",
              "    .colab-df-convert:hover {\n",
              "      background-color: #E2EBFA;\n",
              "      box-shadow: 0px 1px 2px rgba(60, 64, 67, 0.3), 0px 1px 3px 1px rgba(60, 64, 67, 0.15);\n",
              "      fill: #174EA6;\n",
              "    }\n",
              "\n",
              "    [theme=dark] .colab-df-convert {\n",
              "      background-color: #3B4455;\n",
              "      fill: #D2E3FC;\n",
              "    }\n",
              "\n",
              "    [theme=dark] .colab-df-convert:hover {\n",
              "      background-color: #434B5C;\n",
              "      box-shadow: 0px 1px 3px 1px rgba(0, 0, 0, 0.15);\n",
              "      filter: drop-shadow(0px 1px 2px rgba(0, 0, 0, 0.3));\n",
              "      fill: #FFFFFF;\n",
              "    }\n",
              "  </style>\n",
              "\n",
              "      <script>\n",
              "        const buttonEl =\n",
              "          document.querySelector('#df-f1631e27-6e4e-4f61-93bb-ce25dcb3b36c button.colab-df-convert');\n",
              "        buttonEl.style.display =\n",
              "          google.colab.kernel.accessAllowed ? 'block' : 'none';\n",
              "\n",
              "        async function convertToInteractive(key) {\n",
              "          const element = document.querySelector('#df-f1631e27-6e4e-4f61-93bb-ce25dcb3b36c');\n",
              "          const dataTable =\n",
              "            await google.colab.kernel.invokeFunction('convertToInteractive',\n",
              "                                                     [key], {});\n",
              "          if (!dataTable) return;\n",
              "\n",
              "          const docLinkHtml = 'Like what you see? Visit the ' +\n",
              "            '<a target=\"_blank\" href=https://colab.research.google.com/notebooks/data_table.ipynb>data table notebook</a>'\n",
              "            + ' to learn more about interactive tables.';\n",
              "          element.innerHTML = '';\n",
              "          dataTable['output_type'] = 'display_data';\n",
              "          await google.colab.output.renderOutput(dataTable, element);\n",
              "          const docLink = document.createElement('div');\n",
              "          docLink.innerHTML = docLinkHtml;\n",
              "          element.appendChild(docLink);\n",
              "        }\n",
              "      </script>\n",
              "    </div>\n",
              "  </div>\n",
              "  "
            ]
          },
          "metadata": {},
          "execution_count": 80
        }
      ]
    },
    {
      "cell_type": "markdown",
      "metadata": {
        "id": "T54GVJwICV36"
      },
      "source": [
        "### Data Wrangling"
      ]
    },
    {
      "cell_type": "code",
      "execution_count": 82,
      "metadata": {
        "colab": {
          "base_uri": "https://localhost:8080/"
        },
        "id": "36d0yvh46Z_u",
        "outputId": "71e9506e-5eec-4d28-ed05-73ff604a2b32"
      },
      "outputs": [
        {
          "output_type": "execute_result",
          "data": {
            "text/plain": [
              "array([1, 0])"
            ]
          },
          "metadata": {},
          "execution_count": 82
        }
      ],
      "source": [
        "df[\"Recommended IND\"].unique()"
      ]
    },
    {
      "cell_type": "code",
      "source": [
        "len(df)"
      ],
      "metadata": {
        "colab": {
          "base_uri": "https://localhost:8080/"
        },
        "id": "8YW-M2PPBgsW",
        "outputId": "81868d1a-3bd5-4907-9740-02c889409bae"
      },
      "execution_count": 83,
      "outputs": [
        {
          "output_type": "execute_result",
          "data": {
            "text/plain": [
              "23486"
            ]
          },
          "metadata": {},
          "execution_count": 83
        }
      ]
    },
    {
      "cell_type": "code",
      "source": [
        "df[(df[\"Rating\"] == 1) & (df[\"Recommended IND\"] == 1)][\"Review Text\"].loc[5570]"
      ],
      "metadata": {
        "colab": {
          "base_uri": "https://localhost:8080/",
          "height": 53
        },
        "id": "EymqhQFZBgvV",
        "outputId": "c7cbacca-8787-40eb-b7dd-30d2dd6f5400"
      },
      "execution_count": 84,
      "outputs": [
        {
          "output_type": "execute_result",
          "data": {
            "text/plain": [
              "'I love this t-shirt because it has the combination of elegance and relazation to a \"t\".\\r\\nit\\'s soft, pretty and covers my wide bottom well.'"
            ],
            "application/vnd.google.colaboratory.intrinsic+json": {
              "type": "string"
            }
          },
          "metadata": {},
          "execution_count": 84
        }
      ]
    },
    {
      "cell_type": "code",
      "source": [
        "len(df[~((df[\"Rating\"] == 1) & (df[\"Recommended IND\"] == 1))])"
      ],
      "metadata": {
        "colab": {
          "base_uri": "https://localhost:8080/"
        },
        "id": "eHMoazM6BgyF",
        "outputId": "5b6bca15-e70c-4222-bb9e-bef87a8f2074"
      },
      "execution_count": 85,
      "outputs": [
        {
          "output_type": "execute_result",
          "data": {
            "text/plain": [
              "23470"
            ]
          },
          "metadata": {},
          "execution_count": 85
        }
      ]
    },
    {
      "cell_type": "code",
      "source": [
        "df = df[~((df[\"Rating\"] == 1) & (df[\"Recommended IND\"] == 1))]\n",
        "df = df[~((df[\"Rating\"] == 2) & (df[\"Recommended IND\"] == 1))]\n",
        "df = df[~((df[\"Rating\"] == 3) & (df[\"Recommended IND\"] == 1))]\n",
        "df = df[~((df[\"Rating\"] == 4) & (df[\"Recommended IND\"] == 0))]\n",
        "df = df[~((df[\"Rating\"] == 5) & (df[\"Recommended IND\"] == 0))]"
      ],
      "metadata": {
        "id": "uMPV7oVNGekW"
      },
      "execution_count": 86,
      "outputs": []
    },
    {
      "cell_type": "markdown",
      "metadata": {
        "id": "AQuhTpcwCV38"
      },
      "source": [
        "#### Check Proportion of Target Class Variable:"
      ]
    },
    {
      "cell_type": "markdown",
      "metadata": {
        "id": "0YXKZ5QgCV39"
      },
      "source": [
        "The target class variable is imbalanced, where \"Recommended\" values are more dominating then \"Not Recommendation\"."
      ]
    },
    {
      "cell_type": "code",
      "execution_count": null,
      "metadata": {
        "id": "9tKKT9b16Z_v"
      },
      "outputs": [],
      "source": [
        ""
      ]
    },
    {
      "cell_type": "markdown",
      "metadata": {
        "id": "cPEVV0JGCV37"
      },
      "source": [
        "## 2. Feature Selection and Data Cleaning\n",
        "\n",
        "From now on, the DataFrame you will work with should contain two columns: **\"Review Text\"** and **\"Recommended IND\"**. You can do the missing value detection operations from now on. You can also rename the column names if you want.\n",
        "\n"
      ]
    },
    {
      "cell_type": "markdown",
      "metadata": {
        "id": "VEwxyBnX6Z_w"
      },
      "source": [
        "### Feature Selection and Rename Column Name"
      ]
    },
    {
      "cell_type": "code",
      "execution_count": 102,
      "metadata": {
        "id": "73yvlMsS6Z_w"
      },
      "outputs": [],
      "source": [
        "df.rename(columns={\"Review Text\":\"text\", \"Recommended IND\":\"label\"}, inplace=True)"
      ]
    },
    {
      "cell_type": "code",
      "execution_count": 103,
      "metadata": {
        "colab": {
          "base_uri": "https://localhost:8080/",
          "height": 257
        },
        "id": "mLkOXL_e6Z_w",
        "outputId": "7278ab8b-ac85-4de9-e5bb-46f6d4f2181d"
      },
      "outputs": [
        {
          "output_type": "execute_result",
          "data": {
            "text/plain": [
              "   Clothing ID  Age                    Title  \\\n",
              "0          767   33                      NaN   \n",
              "1         1080   34                      NaN   \n",
              "2         1077   60  Some major design flaws   \n",
              "\n",
              "                                                text  Rating  label  \\\n",
              "0  Absolutely wonderful - silky and sexy and comf...       4      1   \n",
              "1  Love this dress!  it's sooo pretty.  i happene...       5      1   \n",
              "2  I had such high hopes for this dress and reall...       3      0   \n",
              "\n",
              "   Positive Feedback Count Division Name Department Name Class Name  \n",
              "0                        0     Initmates        Intimate  Intimates  \n",
              "1                        4       General         Dresses    Dresses  \n",
              "2                        0       General         Dresses    Dresses  "
            ],
            "text/html": [
              "\n",
              "  <div id=\"df-6946c42d-915a-4f76-8fe6-6f381157b494\">\n",
              "    <div class=\"colab-df-container\">\n",
              "      <div>\n",
              "<style scoped>\n",
              "    .dataframe tbody tr th:only-of-type {\n",
              "        vertical-align: middle;\n",
              "    }\n",
              "\n",
              "    .dataframe tbody tr th {\n",
              "        vertical-align: top;\n",
              "    }\n",
              "\n",
              "    .dataframe thead th {\n",
              "        text-align: right;\n",
              "    }\n",
              "</style>\n",
              "<table border=\"1\" class=\"dataframe\">\n",
              "  <thead>\n",
              "    <tr style=\"text-align: right;\">\n",
              "      <th></th>\n",
              "      <th>Clothing ID</th>\n",
              "      <th>Age</th>\n",
              "      <th>Title</th>\n",
              "      <th>text</th>\n",
              "      <th>Rating</th>\n",
              "      <th>label</th>\n",
              "      <th>Positive Feedback Count</th>\n",
              "      <th>Division Name</th>\n",
              "      <th>Department Name</th>\n",
              "      <th>Class Name</th>\n",
              "    </tr>\n",
              "  </thead>\n",
              "  <tbody>\n",
              "    <tr>\n",
              "      <th>0</th>\n",
              "      <td>767</td>\n",
              "      <td>33</td>\n",
              "      <td>NaN</td>\n",
              "      <td>Absolutely wonderful - silky and sexy and comf...</td>\n",
              "      <td>4</td>\n",
              "      <td>1</td>\n",
              "      <td>0</td>\n",
              "      <td>Initmates</td>\n",
              "      <td>Intimate</td>\n",
              "      <td>Intimates</td>\n",
              "    </tr>\n",
              "    <tr>\n",
              "      <th>1</th>\n",
              "      <td>1080</td>\n",
              "      <td>34</td>\n",
              "      <td>NaN</td>\n",
              "      <td>Love this dress!  it's sooo pretty.  i happene...</td>\n",
              "      <td>5</td>\n",
              "      <td>1</td>\n",
              "      <td>4</td>\n",
              "      <td>General</td>\n",
              "      <td>Dresses</td>\n",
              "      <td>Dresses</td>\n",
              "    </tr>\n",
              "    <tr>\n",
              "      <th>2</th>\n",
              "      <td>1077</td>\n",
              "      <td>60</td>\n",
              "      <td>Some major design flaws</td>\n",
              "      <td>I had such high hopes for this dress and reall...</td>\n",
              "      <td>3</td>\n",
              "      <td>0</td>\n",
              "      <td>0</td>\n",
              "      <td>General</td>\n",
              "      <td>Dresses</td>\n",
              "      <td>Dresses</td>\n",
              "    </tr>\n",
              "  </tbody>\n",
              "</table>\n",
              "</div>\n",
              "      <button class=\"colab-df-convert\" onclick=\"convertToInteractive('df-6946c42d-915a-4f76-8fe6-6f381157b494')\"\n",
              "              title=\"Convert this dataframe to an interactive table.\"\n",
              "              style=\"display:none;\">\n",
              "        \n",
              "  <svg xmlns=\"http://www.w3.org/2000/svg\" height=\"24px\"viewBox=\"0 0 24 24\"\n",
              "       width=\"24px\">\n",
              "    <path d=\"M0 0h24v24H0V0z\" fill=\"none\"/>\n",
              "    <path d=\"M18.56 5.44l.94 2.06.94-2.06 2.06-.94-2.06-.94-.94-2.06-.94 2.06-2.06.94zm-11 1L8.5 8.5l.94-2.06 2.06-.94-2.06-.94L8.5 2.5l-.94 2.06-2.06.94zm10 10l.94 2.06.94-2.06 2.06-.94-2.06-.94-.94-2.06-.94 2.06-2.06.94z\"/><path d=\"M17.41 7.96l-1.37-1.37c-.4-.4-.92-.59-1.43-.59-.52 0-1.04.2-1.43.59L10.3 9.45l-7.72 7.72c-.78.78-.78 2.05 0 2.83L4 21.41c.39.39.9.59 1.41.59.51 0 1.02-.2 1.41-.59l7.78-7.78 2.81-2.81c.8-.78.8-2.07 0-2.86zM5.41 20L4 18.59l7.72-7.72 1.47 1.35L5.41 20z\"/>\n",
              "  </svg>\n",
              "      </button>\n",
              "      \n",
              "  <style>\n",
              "    .colab-df-container {\n",
              "      display:flex;\n",
              "      flex-wrap:wrap;\n",
              "      gap: 12px;\n",
              "    }\n",
              "\n",
              "    .colab-df-convert {\n",
              "      background-color: #E8F0FE;\n",
              "      border: none;\n",
              "      border-radius: 50%;\n",
              "      cursor: pointer;\n",
              "      display: none;\n",
              "      fill: #1967D2;\n",
              "      height: 32px;\n",
              "      padding: 0 0 0 0;\n",
              "      width: 32px;\n",
              "    }\n",
              "\n",
              "    .colab-df-convert:hover {\n",
              "      background-color: #E2EBFA;\n",
              "      box-shadow: 0px 1px 2px rgba(60, 64, 67, 0.3), 0px 1px 3px 1px rgba(60, 64, 67, 0.15);\n",
              "      fill: #174EA6;\n",
              "    }\n",
              "\n",
              "    [theme=dark] .colab-df-convert {\n",
              "      background-color: #3B4455;\n",
              "      fill: #D2E3FC;\n",
              "    }\n",
              "\n",
              "    [theme=dark] .colab-df-convert:hover {\n",
              "      background-color: #434B5C;\n",
              "      box-shadow: 0px 1px 3px 1px rgba(0, 0, 0, 0.15);\n",
              "      filter: drop-shadow(0px 1px 2px rgba(0, 0, 0, 0.3));\n",
              "      fill: #FFFFFF;\n",
              "    }\n",
              "  </style>\n",
              "\n",
              "      <script>\n",
              "        const buttonEl =\n",
              "          document.querySelector('#df-6946c42d-915a-4f76-8fe6-6f381157b494 button.colab-df-convert');\n",
              "        buttonEl.style.display =\n",
              "          google.colab.kernel.accessAllowed ? 'block' : 'none';\n",
              "\n",
              "        async function convertToInteractive(key) {\n",
              "          const element = document.querySelector('#df-6946c42d-915a-4f76-8fe6-6f381157b494');\n",
              "          const dataTable =\n",
              "            await google.colab.kernel.invokeFunction('convertToInteractive',\n",
              "                                                     [key], {});\n",
              "          if (!dataTable) return;\n",
              "\n",
              "          const docLinkHtml = 'Like what you see? Visit the ' +\n",
              "            '<a target=\"_blank\" href=https://colab.research.google.com/notebooks/data_table.ipynb>data table notebook</a>'\n",
              "            + ' to learn more about interactive tables.';\n",
              "          element.innerHTML = '';\n",
              "          dataTable['output_type'] = 'display_data';\n",
              "          await google.colab.output.renderOutput(dataTable, element);\n",
              "          const docLink = document.createElement('div');\n",
              "          docLink.innerHTML = docLinkHtml;\n",
              "          element.appendChild(docLink);\n",
              "        }\n",
              "      </script>\n",
              "    </div>\n",
              "  </div>\n",
              "  "
            ]
          },
          "metadata": {},
          "execution_count": 103
        }
      ],
      "source": [
        "df.head(3)"
      ]
    },
    {
      "cell_type": "code",
      "source": [
        "df=df[['text','label']]\n",
        "df.head()"
      ],
      "metadata": {
        "colab": {
          "base_uri": "https://localhost:8080/",
          "height": 206
        },
        "id": "VuoJM3RMGwCO",
        "outputId": "3603baef-ae74-4937-9810-0656e25e5003"
      },
      "execution_count": 104,
      "outputs": [
        {
          "output_type": "execute_result",
          "data": {
            "text/plain": [
              "                                                text  label\n",
              "0  Absolutely wonderful - silky and sexy and comf...      1\n",
              "1  Love this dress!  it's sooo pretty.  i happene...      1\n",
              "2  I had such high hopes for this dress and reall...      0\n",
              "3  I love, love, love this jumpsuit. it's fun, fl...      1\n",
              "4  This shirt is very flattering to all due to th...      1"
            ],
            "text/html": [
              "\n",
              "  <div id=\"df-9d4ad614-ac03-49d3-b1e0-fcb1f52edfd0\">\n",
              "    <div class=\"colab-df-container\">\n",
              "      <div>\n",
              "<style scoped>\n",
              "    .dataframe tbody tr th:only-of-type {\n",
              "        vertical-align: middle;\n",
              "    }\n",
              "\n",
              "    .dataframe tbody tr th {\n",
              "        vertical-align: top;\n",
              "    }\n",
              "\n",
              "    .dataframe thead th {\n",
              "        text-align: right;\n",
              "    }\n",
              "</style>\n",
              "<table border=\"1\" class=\"dataframe\">\n",
              "  <thead>\n",
              "    <tr style=\"text-align: right;\">\n",
              "      <th></th>\n",
              "      <th>text</th>\n",
              "      <th>label</th>\n",
              "    </tr>\n",
              "  </thead>\n",
              "  <tbody>\n",
              "    <tr>\n",
              "      <th>0</th>\n",
              "      <td>Absolutely wonderful - silky and sexy and comf...</td>\n",
              "      <td>1</td>\n",
              "    </tr>\n",
              "    <tr>\n",
              "      <th>1</th>\n",
              "      <td>Love this dress!  it's sooo pretty.  i happene...</td>\n",
              "      <td>1</td>\n",
              "    </tr>\n",
              "    <tr>\n",
              "      <th>2</th>\n",
              "      <td>I had such high hopes for this dress and reall...</td>\n",
              "      <td>0</td>\n",
              "    </tr>\n",
              "    <tr>\n",
              "      <th>3</th>\n",
              "      <td>I love, love, love this jumpsuit. it's fun, fl...</td>\n",
              "      <td>1</td>\n",
              "    </tr>\n",
              "    <tr>\n",
              "      <th>4</th>\n",
              "      <td>This shirt is very flattering to all due to th...</td>\n",
              "      <td>1</td>\n",
              "    </tr>\n",
              "  </tbody>\n",
              "</table>\n",
              "</div>\n",
              "      <button class=\"colab-df-convert\" onclick=\"convertToInteractive('df-9d4ad614-ac03-49d3-b1e0-fcb1f52edfd0')\"\n",
              "              title=\"Convert this dataframe to an interactive table.\"\n",
              "              style=\"display:none;\">\n",
              "        \n",
              "  <svg xmlns=\"http://www.w3.org/2000/svg\" height=\"24px\"viewBox=\"0 0 24 24\"\n",
              "       width=\"24px\">\n",
              "    <path d=\"M0 0h24v24H0V0z\" fill=\"none\"/>\n",
              "    <path d=\"M18.56 5.44l.94 2.06.94-2.06 2.06-.94-2.06-.94-.94-2.06-.94 2.06-2.06.94zm-11 1L8.5 8.5l.94-2.06 2.06-.94-2.06-.94L8.5 2.5l-.94 2.06-2.06.94zm10 10l.94 2.06.94-2.06 2.06-.94-2.06-.94-.94-2.06-.94 2.06-2.06.94z\"/><path d=\"M17.41 7.96l-1.37-1.37c-.4-.4-.92-.59-1.43-.59-.52 0-1.04.2-1.43.59L10.3 9.45l-7.72 7.72c-.78.78-.78 2.05 0 2.83L4 21.41c.39.39.9.59 1.41.59.51 0 1.02-.2 1.41-.59l7.78-7.78 2.81-2.81c.8-.78.8-2.07 0-2.86zM5.41 20L4 18.59l7.72-7.72 1.47 1.35L5.41 20z\"/>\n",
              "  </svg>\n",
              "      </button>\n",
              "      \n",
              "  <style>\n",
              "    .colab-df-container {\n",
              "      display:flex;\n",
              "      flex-wrap:wrap;\n",
              "      gap: 12px;\n",
              "    }\n",
              "\n",
              "    .colab-df-convert {\n",
              "      background-color: #E8F0FE;\n",
              "      border: none;\n",
              "      border-radius: 50%;\n",
              "      cursor: pointer;\n",
              "      display: none;\n",
              "      fill: #1967D2;\n",
              "      height: 32px;\n",
              "      padding: 0 0 0 0;\n",
              "      width: 32px;\n",
              "    }\n",
              "\n",
              "    .colab-df-convert:hover {\n",
              "      background-color: #E2EBFA;\n",
              "      box-shadow: 0px 1px 2px rgba(60, 64, 67, 0.3), 0px 1px 3px 1px rgba(60, 64, 67, 0.15);\n",
              "      fill: #174EA6;\n",
              "    }\n",
              "\n",
              "    [theme=dark] .colab-df-convert {\n",
              "      background-color: #3B4455;\n",
              "      fill: #D2E3FC;\n",
              "    }\n",
              "\n",
              "    [theme=dark] .colab-df-convert:hover {\n",
              "      background-color: #434B5C;\n",
              "      box-shadow: 0px 1px 3px 1px rgba(0, 0, 0, 0.15);\n",
              "      filter: drop-shadow(0px 1px 2px rgba(0, 0, 0, 0.3));\n",
              "      fill: #FFFFFF;\n",
              "    }\n",
              "  </style>\n",
              "\n",
              "      <script>\n",
              "        const buttonEl =\n",
              "          document.querySelector('#df-9d4ad614-ac03-49d3-b1e0-fcb1f52edfd0 button.colab-df-convert');\n",
              "        buttonEl.style.display =\n",
              "          google.colab.kernel.accessAllowed ? 'block' : 'none';\n",
              "\n",
              "        async function convertToInteractive(key) {\n",
              "          const element = document.querySelector('#df-9d4ad614-ac03-49d3-b1e0-fcb1f52edfd0');\n",
              "          const dataTable =\n",
              "            await google.colab.kernel.invokeFunction('convertToInteractive',\n",
              "                                                     [key], {});\n",
              "          if (!dataTable) return;\n",
              "\n",
              "          const docLinkHtml = 'Like what you see? Visit the ' +\n",
              "            '<a target=\"_blank\" href=https://colab.research.google.com/notebooks/data_table.ipynb>data table notebook</a>'\n",
              "            + ' to learn more about interactive tables.';\n",
              "          element.innerHTML = '';\n",
              "          dataTable['output_type'] = 'display_data';\n",
              "          await google.colab.output.renderOutput(dataTable, element);\n",
              "          const docLink = document.createElement('div');\n",
              "          docLink.innerHTML = docLinkHtml;\n",
              "          element.appendChild(docLink);\n",
              "        }\n",
              "      </script>\n",
              "    </div>\n",
              "  </div>\n",
              "  "
            ]
          },
          "metadata": {},
          "execution_count": 104
        }
      ]
    },
    {
      "cell_type": "markdown",
      "metadata": {
        "id": "s-W3rjKl6Z_x"
      },
      "source": [
        "---\n",
        "---\n"
      ]
    },
    {
      "cell_type": "markdown",
      "metadata": {
        "id": "vl2h73vYCV38"
      },
      "source": [
        "### Missing Value Detection"
      ]
    },
    {
      "cell_type": "code",
      "execution_count": 105,
      "metadata": {
        "colab": {
          "base_uri": "https://localhost:8080/"
        },
        "id": "1TvgRcoQ6Z_x",
        "outputId": "956d7ffb-ae57-4993-c3dd-a1c2080b03ad"
      },
      "outputs": [
        {
          "output_type": "execute_result",
          "data": {
            "text/plain": [
              "text     819\n",
              "label      0\n",
              "dtype: int64"
            ]
          },
          "metadata": {},
          "execution_count": 105
        }
      ],
      "source": [
        "df.isnull().sum()"
      ]
    },
    {
      "cell_type": "code",
      "execution_count": 106,
      "metadata": {
        "colab": {
          "base_uri": "https://localhost:8080/",
          "height": 424
        },
        "id": "dSXaxzzY6Z_x",
        "outputId": "297263d8-ca44-493f-a29a-4c1751757a8c"
      },
      "outputs": [
        {
          "output_type": "execute_result",
          "data": {
            "text/plain": [
              "                                                    text  label\n",
              "0      Absolutely wonderful - silky and sexy and comf...      1\n",
              "1      Love this dress!  it's sooo pretty.  i happene...      1\n",
              "2      I had such high hopes for this dress and reall...      0\n",
              "3      I love, love, love this jumpsuit. it's fun, fl...      1\n",
              "4      This shirt is very flattering to all due to th...      1\n",
              "...                                                  ...    ...\n",
              "21170  I was surprised at the positive reviews for th...      0\n",
              "21171  So i wasn't sure about ordering this skirt bec...      1\n",
              "21172  I was very happy to snag this dress at such a ...      1\n",
              "21173  This fit well, but the top was very see throug...      0\n",
              "21174  This dress in a lovely platinum is feminine an...      1\n",
              "\n",
              "[21175 rows x 2 columns]"
            ],
            "text/html": [
              "\n",
              "  <div id=\"df-f7bd1952-5e64-4e36-8d8f-06189aecc57a\">\n",
              "    <div class=\"colab-df-container\">\n",
              "      <div>\n",
              "<style scoped>\n",
              "    .dataframe tbody tr th:only-of-type {\n",
              "        vertical-align: middle;\n",
              "    }\n",
              "\n",
              "    .dataframe tbody tr th {\n",
              "        vertical-align: top;\n",
              "    }\n",
              "\n",
              "    .dataframe thead th {\n",
              "        text-align: right;\n",
              "    }\n",
              "</style>\n",
              "<table border=\"1\" class=\"dataframe\">\n",
              "  <thead>\n",
              "    <tr style=\"text-align: right;\">\n",
              "      <th></th>\n",
              "      <th>text</th>\n",
              "      <th>label</th>\n",
              "    </tr>\n",
              "  </thead>\n",
              "  <tbody>\n",
              "    <tr>\n",
              "      <th>0</th>\n",
              "      <td>Absolutely wonderful - silky and sexy and comf...</td>\n",
              "      <td>1</td>\n",
              "    </tr>\n",
              "    <tr>\n",
              "      <th>1</th>\n",
              "      <td>Love this dress!  it's sooo pretty.  i happene...</td>\n",
              "      <td>1</td>\n",
              "    </tr>\n",
              "    <tr>\n",
              "      <th>2</th>\n",
              "      <td>I had such high hopes for this dress and reall...</td>\n",
              "      <td>0</td>\n",
              "    </tr>\n",
              "    <tr>\n",
              "      <th>3</th>\n",
              "      <td>I love, love, love this jumpsuit. it's fun, fl...</td>\n",
              "      <td>1</td>\n",
              "    </tr>\n",
              "    <tr>\n",
              "      <th>4</th>\n",
              "      <td>This shirt is very flattering to all due to th...</td>\n",
              "      <td>1</td>\n",
              "    </tr>\n",
              "    <tr>\n",
              "      <th>...</th>\n",
              "      <td>...</td>\n",
              "      <td>...</td>\n",
              "    </tr>\n",
              "    <tr>\n",
              "      <th>21170</th>\n",
              "      <td>I was surprised at the positive reviews for th...</td>\n",
              "      <td>0</td>\n",
              "    </tr>\n",
              "    <tr>\n",
              "      <th>21171</th>\n",
              "      <td>So i wasn't sure about ordering this skirt bec...</td>\n",
              "      <td>1</td>\n",
              "    </tr>\n",
              "    <tr>\n",
              "      <th>21172</th>\n",
              "      <td>I was very happy to snag this dress at such a ...</td>\n",
              "      <td>1</td>\n",
              "    </tr>\n",
              "    <tr>\n",
              "      <th>21173</th>\n",
              "      <td>This fit well, but the top was very see throug...</td>\n",
              "      <td>0</td>\n",
              "    </tr>\n",
              "    <tr>\n",
              "      <th>21174</th>\n",
              "      <td>This dress in a lovely platinum is feminine an...</td>\n",
              "      <td>1</td>\n",
              "    </tr>\n",
              "  </tbody>\n",
              "</table>\n",
              "<p>21175 rows × 2 columns</p>\n",
              "</div>\n",
              "      <button class=\"colab-df-convert\" onclick=\"convertToInteractive('df-f7bd1952-5e64-4e36-8d8f-06189aecc57a')\"\n",
              "              title=\"Convert this dataframe to an interactive table.\"\n",
              "              style=\"display:none;\">\n",
              "        \n",
              "  <svg xmlns=\"http://www.w3.org/2000/svg\" height=\"24px\"viewBox=\"0 0 24 24\"\n",
              "       width=\"24px\">\n",
              "    <path d=\"M0 0h24v24H0V0z\" fill=\"none\"/>\n",
              "    <path d=\"M18.56 5.44l.94 2.06.94-2.06 2.06-.94-2.06-.94-.94-2.06-.94 2.06-2.06.94zm-11 1L8.5 8.5l.94-2.06 2.06-.94-2.06-.94L8.5 2.5l-.94 2.06-2.06.94zm10 10l.94 2.06.94-2.06 2.06-.94-2.06-.94-.94-2.06-.94 2.06-2.06.94z\"/><path d=\"M17.41 7.96l-1.37-1.37c-.4-.4-.92-.59-1.43-.59-.52 0-1.04.2-1.43.59L10.3 9.45l-7.72 7.72c-.78.78-.78 2.05 0 2.83L4 21.41c.39.39.9.59 1.41.59.51 0 1.02-.2 1.41-.59l7.78-7.78 2.81-2.81c.8-.78.8-2.07 0-2.86zM5.41 20L4 18.59l7.72-7.72 1.47 1.35L5.41 20z\"/>\n",
              "  </svg>\n",
              "      </button>\n",
              "      \n",
              "  <style>\n",
              "    .colab-df-container {\n",
              "      display:flex;\n",
              "      flex-wrap:wrap;\n",
              "      gap: 12px;\n",
              "    }\n",
              "\n",
              "    .colab-df-convert {\n",
              "      background-color: #E8F0FE;\n",
              "      border: none;\n",
              "      border-radius: 50%;\n",
              "      cursor: pointer;\n",
              "      display: none;\n",
              "      fill: #1967D2;\n",
              "      height: 32px;\n",
              "      padding: 0 0 0 0;\n",
              "      width: 32px;\n",
              "    }\n",
              "\n",
              "    .colab-df-convert:hover {\n",
              "      background-color: #E2EBFA;\n",
              "      box-shadow: 0px 1px 2px rgba(60, 64, 67, 0.3), 0px 1px 3px 1px rgba(60, 64, 67, 0.15);\n",
              "      fill: #174EA6;\n",
              "    }\n",
              "\n",
              "    [theme=dark] .colab-df-convert {\n",
              "      background-color: #3B4455;\n",
              "      fill: #D2E3FC;\n",
              "    }\n",
              "\n",
              "    [theme=dark] .colab-df-convert:hover {\n",
              "      background-color: #434B5C;\n",
              "      box-shadow: 0px 1px 3px 1px rgba(0, 0, 0, 0.15);\n",
              "      filter: drop-shadow(0px 1px 2px rgba(0, 0, 0, 0.3));\n",
              "      fill: #FFFFFF;\n",
              "    }\n",
              "  </style>\n",
              "\n",
              "      <script>\n",
              "        const buttonEl =\n",
              "          document.querySelector('#df-f7bd1952-5e64-4e36-8d8f-06189aecc57a button.colab-df-convert');\n",
              "        buttonEl.style.display =\n",
              "          google.colab.kernel.accessAllowed ? 'block' : 'none';\n",
              "\n",
              "        async function convertToInteractive(key) {\n",
              "          const element = document.querySelector('#df-f7bd1952-5e64-4e36-8d8f-06189aecc57a');\n",
              "          const dataTable =\n",
              "            await google.colab.kernel.invokeFunction('convertToInteractive',\n",
              "                                                     [key], {});\n",
              "          if (!dataTable) return;\n",
              "\n",
              "          const docLinkHtml = 'Like what you see? Visit the ' +\n",
              "            '<a target=\"_blank\" href=https://colab.research.google.com/notebooks/data_table.ipynb>data table notebook</a>'\n",
              "            + ' to learn more about interactive tables.';\n",
              "          element.innerHTML = '';\n",
              "          dataTable['output_type'] = 'display_data';\n",
              "          await google.colab.output.renderOutput(dataTable, element);\n",
              "          const docLink = document.createElement('div');\n",
              "          docLink.innerHTML = docLinkHtml;\n",
              "          element.appendChild(docLink);\n",
              "        }\n",
              "      </script>\n",
              "    </div>\n",
              "  </div>\n",
              "  "
            ]
          },
          "metadata": {},
          "execution_count": 106
        }
      ],
      "source": [
        "df.dropna(inplace = True)\n",
        "df.reset_index(drop=True, inplace=True)\n",
        "df"
      ]
    },
    {
      "cell_type": "markdown",
      "metadata": {
        "id": "Iki5k2QS6Z_y"
      },
      "source": [
        "---\n",
        "---\n"
      ]
    },
    {
      "cell_type": "markdown",
      "metadata": {
        "id": "WO_zLq2UCV39"
      },
      "source": [
        "## 3. Text Mining\n",
        "\n",
        "Text is the most unstructured form of all the available data, therefore various types of noise are present in it. This means that the data is not readily analyzable without any pre-processing. The entire process of cleaning and standardization of text, making it noise-free and ready for analysis is known as **text preprocessing**.\n",
        "\n",
        "The three key steps of text preprocessing:\n",
        "\n",
        "- **Tokenization:**\n",
        "This step is one of the top priorities when it comes to working on text mining. Tokenization is essentially splitting a phrase, sentence, paragraph, or an entire text document into smaller units, such as individual words or terms. Each of these smaller units are called tokens.\n",
        "\n",
        "- **Noise Removal:**\n",
        "Any piece of text which is not relevant to the context of the data and the end-output can be specified as the noise.\n",
        "For example – language stopwords (commonly used words of a language – is, am, the, of, in etc), URLs or links, upper and lower case differentiation, punctuations and industry specific words. This step deals with removal of all types of noisy entities present in the text.\n",
        "\n",
        "\n",
        "- **Lexicon Normalization:**\n",
        "Another type of textual noise is about the multiple representations exhibited by single word.\n",
        "For example – “play”, “player”, “played”, “plays” and “playing” are the different variations of the word – “play”. Though they mean different things, contextually they all are similar. This step converts all the disparities of a word into their normalized form (also known as lemma). \n",
        "There are two methods of lexicon normalisation; **[Stemming or Lemmatization](https://www.guru99.com/stemming-lemmatization-python-nltk.html)**. Lemmatization is recommended for this case, because Lemmatization as this will return the root form of each word (rather than just stripping suffixes, which is stemming).\n",
        "\n",
        "As the first step change text to tokens and convertion all of the words to lower case.  Next remove punctuation, bad characters, numbers and stop words. The second step is aimed to normalization them throught the Lemmatization method. \n",
        "\n",
        "\n",
        "***Note:*** *Use the functions of the ***[nltk Library](https://www.guru99.com/nltk-tutorial.html)*** for all the above operations.*\n",
        "\n"
      ]
    },
    {
      "cell_type": "markdown",
      "metadata": {
        "id": "1UR9sa8L6Z_z"
      },
      "source": [
        "### Tokenization, Noise Removal, Lexicon Normalization"
      ]
    },
    {
      "cell_type": "code",
      "execution_count": 111,
      "metadata": {
        "id": "1D6UPbIm6Z_z"
      },
      "outputs": [],
      "source": [
        "stop_words = stopwords.words('english')\n",
        "\n",
        "for i in [\"not\", \"no\"]:\n",
        "        stop_words.remove(i)"
      ]
    },
    {
      "cell_type": "code",
      "execution_count": 112,
      "metadata": {
        "id": "DmvrgsC_6Z_z"
      },
      "outputs": [],
      "source": [
        "def cleaning(data):\n",
        "    \n",
        "    #1. Tokenize\n",
        "    text_tokens = word_tokenize(data.replace(\"'\", \"\").lower())\n",
        "    \n",
        "    #2. Remove Puncs and numbers\n",
        "    tokens_without_punc = [w for w in text_tokens if w.isalpha()]\n",
        "    \n",
        "    #3. Removing Stopwords\n",
        "    tokens_without_sw = [t for t in tokens_without_punc if t not in stop_words]\n",
        "    \n",
        "    #4. lemma\n",
        "    text_cleaned = [WordNetLemmatizer().lemmatize(t) for t in tokens_without_sw]\n",
        "    \n",
        "    #joining\n",
        "    return \" \".join(text_cleaned)"
      ]
    },
    {
      "cell_type": "markdown",
      "metadata": {
        "id": "_DTNRasaCV3-"
      },
      "source": [
        "## 4. WordCloud - Repetition of Words\n",
        "\n",
        "Now you'll create a Word Clouds for reviews, representing most common words in each target class.\n",
        "\n",
        "Word Cloud is a data visualization technique used for representing text data in which the size of each word indicates its frequency or importance. Significant textual data points can be highlighted using a word cloud.\n",
        "\n",
        "You are expected to create separate word clouds for positive and negative reviews. You can qualify a review as positive or negative, by looking at its recommended status. You may need to use capabilities of matplotlib for visualizations.\n",
        "\n",
        "You can follow the steps below:\n",
        "\n",
        "- Detect Reviews\n",
        "- Collect Words \n",
        "- Create Word Cloud \n"
      ]
    },
    {
      "cell_type": "markdown",
      "metadata": {
        "id": "IbdEdVFo6Z_0"
      },
      "source": [
        "### Detect Reviews (positive and negative separately)"
      ]
    },
    {
      "cell_type": "code",
      "execution_count": 113,
      "metadata": {
        "colab": {
          "base_uri": "https://localhost:8080/"
        },
        "id": "6Mw0aJTZ6Z_0",
        "outputId": "4101ab0b-deb4-4286-b874-2978750ed72f"
      },
      "outputs": [
        {
          "output_type": "stream",
          "name": "stderr",
          "text": [
            "[nltk_data] Downloading package omw-1.4 to /root/nltk_data...\n"
          ]
        },
        {
          "output_type": "execute_result",
          "data": {
            "text/plain": [
              "True"
            ]
          },
          "metadata": {},
          "execution_count": 113
        }
      ],
      "source": [
        "import nltk\n",
        "nltk.download('omw-1.4')"
      ]
    },
    {
      "cell_type": "code",
      "execution_count": 114,
      "metadata": {
        "colab": {
          "base_uri": "https://localhost:8080/"
        },
        "id": "xm0efrA86Z_1",
        "outputId": "f5bbacf9-4183-4422-f4a1-0dc0b657cb18"
      },
      "outputs": [
        {
          "output_type": "execute_result",
          "data": {
            "text/plain": [
              "0              absolutely wonderful silky sexy comfortable\n",
              "1        love dress sooo pretty happened find store im ...\n",
              "3        love love love jumpsuit fun flirty fabulous ev...\n",
              "4        shirt flattering due adjustable front tie perf...\n",
              "6        aded basket hte last mintue see would look lik...\n",
              "                               ...                        \n",
              "21168    bottom cute defiantly cheeky would recommend s...\n",
              "21169    im impressed beautiful color combination embro...\n",
              "21171    wasnt sure ordering skirt couldnt see person f...\n",
              "21172    happy snag dress great price easy slip flatter...\n",
              "21174    dress lovely platinum feminine fit perfectly e...\n",
              "Name: text, Length: 17261, dtype: object"
            ]
          },
          "metadata": {},
          "execution_count": 114
        }
      ],
      "source": [
        "positive_sentences = df[df[\"label\"] == 1][\"text\"]\n",
        "positive_sentences = positive_sentences.apply(cleaning)\n",
        "positive_sentences"
      ]
    },
    {
      "cell_type": "code",
      "source": [
        "negative_sentences = df[df[\"label\"] == 0][\"text\"]\n",
        "negative_sentences = negative_sentences.apply(cleaning)\n",
        "negative_sentences"
      ],
      "metadata": {
        "colab": {
          "base_uri": "https://localhost:8080/"
        },
        "id": "5NQSiWzDIqZ2",
        "outputId": "a18d7703-f63a-42f1-d654-19de3f868313"
      },
      "execution_count": 115,
      "outputs": [
        {
          "output_type": "execute_result",
          "data": {
            "text/plain": [
              "2        high hope dress really wanted work initially o...\n",
              "5        love tracy reese dress one not petite foot tal...\n",
              "10       dress run small esp zipper area run ordered sp...\n",
              "20       first not pullover styling side zipper wouldnt...\n",
              "22       loved material didnt really look long dress pu...\n",
              "                               ...                        \n",
              "21145    tried color really pretty fun donset want pair...\n",
              "21146    wanted love jacket soft great color unfortunat...\n",
              "21155    purchased good price typically love maeve fabr...\n",
              "21170    surprised positive review product terrible cut...\n",
              "21173    fit well top see never would worked im glad ab...\n",
              "Name: text, Length: 3914, dtype: object"
            ]
          },
          "metadata": {},
          "execution_count": 115
        }
      ]
    },
    {
      "cell_type": "markdown",
      "metadata": {
        "id": "mb5TGfsK6Z_1"
      },
      "source": [
        "### Collect Words (positive and negative separately)"
      ]
    },
    {
      "cell_type": "code",
      "execution_count": 116,
      "metadata": {
        "colab": {
          "base_uri": "https://localhost:8080/",
          "height": 157
        },
        "id": "5TGjZ1Gj6Z_1",
        "outputId": "c353034f-435a-4aa6-8628-16eff3dcfa43"
      },
      "outputs": [
        {
          "output_type": "execute_result",
          "data": {
            "text/plain": [
              "'absolutely wonderful silky sexy comfortable love dress sooo pretty happened find store im glad bc never would ordered online bc petite bought petite love length hit little knee would definitely true midi someone truly petite love love love jumpsuit fun flirty fabulous every time wear get nothing great compliment shirt flattering due adjustable front tie perfect length wear legging sleeveless pair well cardigan love shirt aded basket hte last mintue see would look like person store pick went teh darkler color pale hte color really gorgeous turn mathced everythiing trying prefectly little baggy hte x hte msallet size bummer no petite decided jkeep though said matvehd everything ejans pant skirt waas trying kept oops ordered carbon store pick ton stuff always try used top pair skirt pant everything went color really nice charcoal shimmer went well pencil skirt flare pant etc compaint bit big sleeve long doesnt go petite also bit loose no xx kept wil ldecide later since light color already'"
            ],
            "application/vnd.google.colaboratory.intrinsic+json": {
              "type": "string"
            }
          },
          "metadata": {},
          "execution_count": 116
        }
      ],
      "source": [
        "positive_words = \" \".join(positive_sentences)\n",
        "positive_words[:1000]"
      ]
    },
    {
      "cell_type": "code",
      "execution_count": 117,
      "metadata": {
        "colab": {
          "base_uri": "https://localhost:8080/",
          "height": 157
        },
        "id": "j4cOp_1c6Z_1",
        "outputId": "6eb3a955-9fa3-40b2-d0b8-d081f0352f35"
      },
      "outputs": [
        {
          "output_type": "execute_result",
          "data": {
            "text/plain": [
              "'high hope dress really wanted work initially ordered petite small usual size found outrageously small small fact could not zip reordered petite medium overall top half comfortable fit nicely bottom half tight layer several somewhat cheap net layer imo major design flaw net layer sewn directly zipper c love tracy reese dress one not petite foot tall usually wear brand dress pretty package lot dress skirt long full overwhelmed small frame not stranger alteration shortening narrowing skirt would take away embellishment garment love color idea style not work returned dress dress run small esp zipper area run ordered sp typically fit tight material top look feel cheap even pulling cause rip fabric pretty disappointed going christmas dress year needle say going back first not pullover styling side zipper wouldnt purchased knew side zipper large bust side zipper next impossible second tulle feel look cheap slip awkward tight shape underneath not look like described sadly returning im sure fin'"
            ],
            "application/vnd.google.colaboratory.intrinsic+json": {
              "type": "string"
            }
          },
          "metadata": {},
          "execution_count": 117
        }
      ],
      "source": [
        "negative_words = \" \".join(negative_sentences)\n",
        "negative_words[:1000]"
      ]
    },
    {
      "cell_type": "markdown",
      "metadata": {
        "id": "pxjPj0Tv6Z_1"
      },
      "source": [
        "### Create Word Cloud (for most common words in recommended not recommended reviews separately)"
      ]
    },
    {
      "cell_type": "code",
      "execution_count": 118,
      "metadata": {
        "id": "qE5fhWvG6Z_2"
      },
      "outputs": [],
      "source": [
        "from wordcloud import WordCloud"
      ]
    },
    {
      "cell_type": "code",
      "execution_count": 119,
      "metadata": {
        "id": "6nNdFyWO6Z_2"
      },
      "outputs": [],
      "source": [
        "wordcloud_positive = WordCloud(background_color=\"white\", max_words =250)"
      ]
    },
    {
      "cell_type": "code",
      "execution_count": 120,
      "metadata": {
        "colab": {
          "base_uri": "https://localhost:8080/"
        },
        "id": "MM4kib2A6Z_2",
        "outputId": "21bbc54f-0715-442e-d630-ae8e9546d178"
      },
      "outputs": [
        {
          "output_type": "execute_result",
          "data": {
            "text/plain": [
              "<wordcloud.wordcloud.WordCloud at 0x7f0583755b90>"
            ]
          },
          "metadata": {},
          "execution_count": 120
        }
      ],
      "source": [
        "wordcloud_positive.generate(positive_words)"
      ]
    },
    {
      "cell_type": "code",
      "source": [
        ""
      ],
      "metadata": {
        "id": "WhEZNj5AI9_U"
      },
      "execution_count": null,
      "outputs": []
    },
    {
      "cell_type": "markdown",
      "metadata": {
        "id": "-9_e1A26CV3_"
      },
      "source": [
        "## 5. Sentiment Classification with Machine Learning, Deep Learning and BERT model\n",
        "\n",
        "Before moving on to modeling, as data preprocessing steps you will need to perform **[vectorization](https://machinelearningmastery.com/prepare-text-data-machine-learning-scikit-learn/)** and **train-test split**. You have performed many times train test split process before.\n",
        "But you will perform the vectorization for the first time.\n",
        "\n",
        "Machine learning algorithms most often take numeric feature vectors as input. Thus, when working with text documents, you need a way to convert each document into a numeric vector. This process is known as text vectorization. Commonly used vectorization approach that you will use here is to represent each text as a vector of word counts.\n",
        "\n",
        "At this moment, you have your review text column as a token (which has no punctuations and stopwords). You can use Scikit-learn’s CountVectorizer to convert the text collection into a matrix of token counts. You can imagine this resulting matrix as a 2-D matrix, where each row is a unique word, and each column is a review.\n",
        "\n",
        "Train all models using TFIDF and Count vectorizer data.\n",
        "\n",
        "**For Deep learning model, use embedding layer for all words.** \n",
        "\n",
        "**For BERT model, use TF tensor**\n",
        "\n",
        "After performing data preprocessing, build your models using following classification algorithms:\n",
        "\n",
        "- Logistic Regression,\n",
        "- Naive Bayes,\n",
        "- Support Vector Machine,\n",
        "- Random Forest,\n",
        "- Ada Boosting\n",
        "- Deep Learning Model\n",
        "- BERT Model"
      ]
    },
    {
      "cell_type": "markdown",
      "metadata": {
        "id": "1Nq0ntDR6Z_3"
      },
      "source": [
        "### Train - Test Split"
      ]
    },
    {
      "cell_type": "markdown",
      "metadata": {
        "id": "T2SMUUrxCV3_"
      },
      "source": [
        "To run machine learning algorithms we need to convert text files into numerical feature vectors. We will use bag of words model for our analysis.\n",
        "\n",
        "First we spliting the data into train and test sets:"
      ]
    },
    {
      "cell_type": "code",
      "execution_count": 130,
      "metadata": {
        "id": "x4vCcWPk6Z_3"
      },
      "outputs": [],
      "source": [
        "from sklearn.model_selection import train_test_split"
      ]
    },
    {
      "cell_type": "code",
      "execution_count": 131,
      "metadata": {
        "id": "DAaD09tg6Z_3"
      },
      "outputs": [],
      "source": [
        "X = df[\"text\"].values\n",
        "y = df[\"label\"].map({0:1, 1:0}).values"
      ]
    },
    {
      "cell_type": "code",
      "source": [
        "X_train, X_test, y_train, y_test = train_test_split(X, y, test_size=0.2, stratify=y, random_state=101)"
      ],
      "metadata": {
        "id": "mKSV3r4qJJYU"
      },
      "execution_count": 132,
      "outputs": []
    },
    {
      "cell_type": "markdown",
      "metadata": {
        "id": "adhWeL_iCV3_"
      },
      "source": [
        "In the next step we create a numerical feature vector for each document:"
      ]
    },
    {
      "cell_type": "markdown",
      "metadata": {
        "id": "6boXXn1J6Z_4"
      },
      "source": [
        "### Count Vectorization"
      ]
    },
    {
      "cell_type": "code",
      "execution_count": 133,
      "metadata": {
        "id": "4ihjUGpj6Z_4"
      },
      "outputs": [],
      "source": [
        "from sklearn.feature_extraction.text import CountVectorizer"
      ]
    },
    {
      "cell_type": "code",
      "execution_count": 134,
      "metadata": {
        "id": "ivjFYanf6Z_4"
      },
      "outputs": [],
      "source": [
        "vectorizer = CountVectorizer(preprocessor=cleaning, min_df=3)\n",
        "X_train_count = vectorizer.fit_transform(X_train)\n",
        "X_test_count = vectorizer.transform(X_test)"
      ]
    },
    {
      "cell_type": "code",
      "source": [
        "X_train_count.toarray()"
      ],
      "metadata": {
        "colab": {
          "base_uri": "https://localhost:8080/"
        },
        "id": "TrDihZLYJO_O",
        "outputId": "bf791d81-4165-458c-d73c-6aaac56bc0c3"
      },
      "execution_count": 135,
      "outputs": [
        {
          "output_type": "execute_result",
          "data": {
            "text/plain": [
              "array([[0, 0, 0, ..., 0, 0, 0],\n",
              "       [0, 0, 0, ..., 0, 0, 0],\n",
              "       [0, 0, 0, ..., 0, 0, 0],\n",
              "       ...,\n",
              "       [0, 0, 0, ..., 0, 0, 0],\n",
              "       [0, 0, 0, ..., 0, 0, 0],\n",
              "       [0, 0, 0, ..., 0, 0, 0]])"
            ]
          },
          "metadata": {},
          "execution_count": 135
        }
      ]
    },
    {
      "cell_type": "code",
      "source": [
        "pd.DataFrame(X_train_count.toarray(), columns = vectorizer.get_feature_names_out())"
      ],
      "metadata": {
        "colab": {
          "base_uri": "https://localhost:8080/",
          "height": 488
        },
        "id": "6h4TqgniJPCE",
        "outputId": "e74385f2-6aae-43bd-83f1-dbbd136303c9"
      },
      "execution_count": 136,
      "outputs": [
        {
          "output_type": "execute_result",
          "data": {
            "text/plain": [
              "       aa  ab  abby  abdomen  ability  able  abo  absolute  absolutely  \\\n",
              "0       0   0     0        0        0     0    0         0           0   \n",
              "1       0   0     0        0        0     0    0         0           0   \n",
              "2       0   0     0        0        0     0    0         0           0   \n",
              "3       0   0     0        0        0     0    0         0           0   \n",
              "4       0   0     0        0        0     0    0         0           0   \n",
              "...    ..  ..   ...      ...      ...   ...  ...       ...         ...   \n",
              "16935   0   0     0        0        0     0    0         0           0   \n",
              "16936   0   0     0        0        0     0    0         0           0   \n",
              "16937   0   0     0        0        0     0    0         0           0   \n",
              "16938   0   0     0        0        0     0    0         0           0   \n",
              "16939   0   0     0        0        0     0    0         0           0   \n",
              "\n",
              "       abstract  ...  yucky  yummy  zero  zip  zipped  zipper  zippered  \\\n",
              "0             0  ...      0      0     0    0       0       0         0   \n",
              "1             0  ...      0      0     0    0       0       0         0   \n",
              "2             0  ...      0      0     0    0       0       0         0   \n",
              "3             0  ...      0      0     0    0       0       0         0   \n",
              "4             0  ...      0      0     0    0       0       0         0   \n",
              "...         ...  ...    ...    ...   ...  ...     ...     ...       ...   \n",
              "16935         0  ...      0      0     0    0       0       0         0   \n",
              "16936         0  ...      0      0     0    0       0       0         0   \n",
              "16937         0  ...      0      0     0    0       0       0         0   \n",
              "16938         0  ...      0      0     0    0       0       0         0   \n",
              "16939         0  ...      0      0     0    0       0       0         0   \n",
              "\n",
              "       zipping  zone  zoom  \n",
              "0            0     0     0  \n",
              "1            0     0     0  \n",
              "2            0     0     0  \n",
              "3            0     0     0  \n",
              "4            0     0     0  \n",
              "...        ...   ...   ...  \n",
              "16935        0     0     0  \n",
              "16936        0     0     0  \n",
              "16937        0     0     0  \n",
              "16938        0     0     0  \n",
              "16939        0     0     0  \n",
              "\n",
              "[16940 rows x 4758 columns]"
            ],
            "text/html": [
              "\n",
              "  <div id=\"df-45e13337-9669-42f1-bff0-86ee70dc5941\">\n",
              "    <div class=\"colab-df-container\">\n",
              "      <div>\n",
              "<style scoped>\n",
              "    .dataframe tbody tr th:only-of-type {\n",
              "        vertical-align: middle;\n",
              "    }\n",
              "\n",
              "    .dataframe tbody tr th {\n",
              "        vertical-align: top;\n",
              "    }\n",
              "\n",
              "    .dataframe thead th {\n",
              "        text-align: right;\n",
              "    }\n",
              "</style>\n",
              "<table border=\"1\" class=\"dataframe\">\n",
              "  <thead>\n",
              "    <tr style=\"text-align: right;\">\n",
              "      <th></th>\n",
              "      <th>aa</th>\n",
              "      <th>ab</th>\n",
              "      <th>abby</th>\n",
              "      <th>abdomen</th>\n",
              "      <th>ability</th>\n",
              "      <th>able</th>\n",
              "      <th>abo</th>\n",
              "      <th>absolute</th>\n",
              "      <th>absolutely</th>\n",
              "      <th>abstract</th>\n",
              "      <th>...</th>\n",
              "      <th>yucky</th>\n",
              "      <th>yummy</th>\n",
              "      <th>zero</th>\n",
              "      <th>zip</th>\n",
              "      <th>zipped</th>\n",
              "      <th>zipper</th>\n",
              "      <th>zippered</th>\n",
              "      <th>zipping</th>\n",
              "      <th>zone</th>\n",
              "      <th>zoom</th>\n",
              "    </tr>\n",
              "  </thead>\n",
              "  <tbody>\n",
              "    <tr>\n",
              "      <th>0</th>\n",
              "      <td>0</td>\n",
              "      <td>0</td>\n",
              "      <td>0</td>\n",
              "      <td>0</td>\n",
              "      <td>0</td>\n",
              "      <td>0</td>\n",
              "      <td>0</td>\n",
              "      <td>0</td>\n",
              "      <td>0</td>\n",
              "      <td>0</td>\n",
              "      <td>...</td>\n",
              "      <td>0</td>\n",
              "      <td>0</td>\n",
              "      <td>0</td>\n",
              "      <td>0</td>\n",
              "      <td>0</td>\n",
              "      <td>0</td>\n",
              "      <td>0</td>\n",
              "      <td>0</td>\n",
              "      <td>0</td>\n",
              "      <td>0</td>\n",
              "    </tr>\n",
              "    <tr>\n",
              "      <th>1</th>\n",
              "      <td>0</td>\n",
              "      <td>0</td>\n",
              "      <td>0</td>\n",
              "      <td>0</td>\n",
              "      <td>0</td>\n",
              "      <td>0</td>\n",
              "      <td>0</td>\n",
              "      <td>0</td>\n",
              "      <td>0</td>\n",
              "      <td>0</td>\n",
              "      <td>...</td>\n",
              "      <td>0</td>\n",
              "      <td>0</td>\n",
              "      <td>0</td>\n",
              "      <td>0</td>\n",
              "      <td>0</td>\n",
              "      <td>0</td>\n",
              "      <td>0</td>\n",
              "      <td>0</td>\n",
              "      <td>0</td>\n",
              "      <td>0</td>\n",
              "    </tr>\n",
              "    <tr>\n",
              "      <th>2</th>\n",
              "      <td>0</td>\n",
              "      <td>0</td>\n",
              "      <td>0</td>\n",
              "      <td>0</td>\n",
              "      <td>0</td>\n",
              "      <td>0</td>\n",
              "      <td>0</td>\n",
              "      <td>0</td>\n",
              "      <td>0</td>\n",
              "      <td>0</td>\n",
              "      <td>...</td>\n",
              "      <td>0</td>\n",
              "      <td>0</td>\n",
              "      <td>0</td>\n",
              "      <td>0</td>\n",
              "      <td>0</td>\n",
              "      <td>0</td>\n",
              "      <td>0</td>\n",
              "      <td>0</td>\n",
              "      <td>0</td>\n",
              "      <td>0</td>\n",
              "    </tr>\n",
              "    <tr>\n",
              "      <th>3</th>\n",
              "      <td>0</td>\n",
              "      <td>0</td>\n",
              "      <td>0</td>\n",
              "      <td>0</td>\n",
              "      <td>0</td>\n",
              "      <td>0</td>\n",
              "      <td>0</td>\n",
              "      <td>0</td>\n",
              "      <td>0</td>\n",
              "      <td>0</td>\n",
              "      <td>...</td>\n",
              "      <td>0</td>\n",
              "      <td>0</td>\n",
              "      <td>0</td>\n",
              "      <td>0</td>\n",
              "      <td>0</td>\n",
              "      <td>0</td>\n",
              "      <td>0</td>\n",
              "      <td>0</td>\n",
              "      <td>0</td>\n",
              "      <td>0</td>\n",
              "    </tr>\n",
              "    <tr>\n",
              "      <th>4</th>\n",
              "      <td>0</td>\n",
              "      <td>0</td>\n",
              "      <td>0</td>\n",
              "      <td>0</td>\n",
              "      <td>0</td>\n",
              "      <td>0</td>\n",
              "      <td>0</td>\n",
              "      <td>0</td>\n",
              "      <td>0</td>\n",
              "      <td>0</td>\n",
              "      <td>...</td>\n",
              "      <td>0</td>\n",
              "      <td>0</td>\n",
              "      <td>0</td>\n",
              "      <td>0</td>\n",
              "      <td>0</td>\n",
              "      <td>0</td>\n",
              "      <td>0</td>\n",
              "      <td>0</td>\n",
              "      <td>0</td>\n",
              "      <td>0</td>\n",
              "    </tr>\n",
              "    <tr>\n",
              "      <th>...</th>\n",
              "      <td>...</td>\n",
              "      <td>...</td>\n",
              "      <td>...</td>\n",
              "      <td>...</td>\n",
              "      <td>...</td>\n",
              "      <td>...</td>\n",
              "      <td>...</td>\n",
              "      <td>...</td>\n",
              "      <td>...</td>\n",
              "      <td>...</td>\n",
              "      <td>...</td>\n",
              "      <td>...</td>\n",
              "      <td>...</td>\n",
              "      <td>...</td>\n",
              "      <td>...</td>\n",
              "      <td>...</td>\n",
              "      <td>...</td>\n",
              "      <td>...</td>\n",
              "      <td>...</td>\n",
              "      <td>...</td>\n",
              "      <td>...</td>\n",
              "    </tr>\n",
              "    <tr>\n",
              "      <th>16935</th>\n",
              "      <td>0</td>\n",
              "      <td>0</td>\n",
              "      <td>0</td>\n",
              "      <td>0</td>\n",
              "      <td>0</td>\n",
              "      <td>0</td>\n",
              "      <td>0</td>\n",
              "      <td>0</td>\n",
              "      <td>0</td>\n",
              "      <td>0</td>\n",
              "      <td>...</td>\n",
              "      <td>0</td>\n",
              "      <td>0</td>\n",
              "      <td>0</td>\n",
              "      <td>0</td>\n",
              "      <td>0</td>\n",
              "      <td>0</td>\n",
              "      <td>0</td>\n",
              "      <td>0</td>\n",
              "      <td>0</td>\n",
              "      <td>0</td>\n",
              "    </tr>\n",
              "    <tr>\n",
              "      <th>16936</th>\n",
              "      <td>0</td>\n",
              "      <td>0</td>\n",
              "      <td>0</td>\n",
              "      <td>0</td>\n",
              "      <td>0</td>\n",
              "      <td>0</td>\n",
              "      <td>0</td>\n",
              "      <td>0</td>\n",
              "      <td>0</td>\n",
              "      <td>0</td>\n",
              "      <td>...</td>\n",
              "      <td>0</td>\n",
              "      <td>0</td>\n",
              "      <td>0</td>\n",
              "      <td>0</td>\n",
              "      <td>0</td>\n",
              "      <td>0</td>\n",
              "      <td>0</td>\n",
              "      <td>0</td>\n",
              "      <td>0</td>\n",
              "      <td>0</td>\n",
              "    </tr>\n",
              "    <tr>\n",
              "      <th>16937</th>\n",
              "      <td>0</td>\n",
              "      <td>0</td>\n",
              "      <td>0</td>\n",
              "      <td>0</td>\n",
              "      <td>0</td>\n",
              "      <td>0</td>\n",
              "      <td>0</td>\n",
              "      <td>0</td>\n",
              "      <td>0</td>\n",
              "      <td>0</td>\n",
              "      <td>...</td>\n",
              "      <td>0</td>\n",
              "      <td>0</td>\n",
              "      <td>0</td>\n",
              "      <td>0</td>\n",
              "      <td>0</td>\n",
              "      <td>0</td>\n",
              "      <td>0</td>\n",
              "      <td>0</td>\n",
              "      <td>0</td>\n",
              "      <td>0</td>\n",
              "    </tr>\n",
              "    <tr>\n",
              "      <th>16938</th>\n",
              "      <td>0</td>\n",
              "      <td>0</td>\n",
              "      <td>0</td>\n",
              "      <td>0</td>\n",
              "      <td>0</td>\n",
              "      <td>0</td>\n",
              "      <td>0</td>\n",
              "      <td>0</td>\n",
              "      <td>0</td>\n",
              "      <td>0</td>\n",
              "      <td>...</td>\n",
              "      <td>0</td>\n",
              "      <td>0</td>\n",
              "      <td>0</td>\n",
              "      <td>0</td>\n",
              "      <td>0</td>\n",
              "      <td>0</td>\n",
              "      <td>0</td>\n",
              "      <td>0</td>\n",
              "      <td>0</td>\n",
              "      <td>0</td>\n",
              "    </tr>\n",
              "    <tr>\n",
              "      <th>16939</th>\n",
              "      <td>0</td>\n",
              "      <td>0</td>\n",
              "      <td>0</td>\n",
              "      <td>0</td>\n",
              "      <td>0</td>\n",
              "      <td>0</td>\n",
              "      <td>0</td>\n",
              "      <td>0</td>\n",
              "      <td>0</td>\n",
              "      <td>0</td>\n",
              "      <td>...</td>\n",
              "      <td>0</td>\n",
              "      <td>0</td>\n",
              "      <td>0</td>\n",
              "      <td>0</td>\n",
              "      <td>0</td>\n",
              "      <td>0</td>\n",
              "      <td>0</td>\n",
              "      <td>0</td>\n",
              "      <td>0</td>\n",
              "      <td>0</td>\n",
              "    </tr>\n",
              "  </tbody>\n",
              "</table>\n",
              "<p>16940 rows × 4758 columns</p>\n",
              "</div>\n",
              "      <button class=\"colab-df-convert\" onclick=\"convertToInteractive('df-45e13337-9669-42f1-bff0-86ee70dc5941')\"\n",
              "              title=\"Convert this dataframe to an interactive table.\"\n",
              "              style=\"display:none;\">\n",
              "        \n",
              "  <svg xmlns=\"http://www.w3.org/2000/svg\" height=\"24px\"viewBox=\"0 0 24 24\"\n",
              "       width=\"24px\">\n",
              "    <path d=\"M0 0h24v24H0V0z\" fill=\"none\"/>\n",
              "    <path d=\"M18.56 5.44l.94 2.06.94-2.06 2.06-.94-2.06-.94-.94-2.06-.94 2.06-2.06.94zm-11 1L8.5 8.5l.94-2.06 2.06-.94-2.06-.94L8.5 2.5l-.94 2.06-2.06.94zm10 10l.94 2.06.94-2.06 2.06-.94-2.06-.94-.94-2.06-.94 2.06-2.06.94z\"/><path d=\"M17.41 7.96l-1.37-1.37c-.4-.4-.92-.59-1.43-.59-.52 0-1.04.2-1.43.59L10.3 9.45l-7.72 7.72c-.78.78-.78 2.05 0 2.83L4 21.41c.39.39.9.59 1.41.59.51 0 1.02-.2 1.41-.59l7.78-7.78 2.81-2.81c.8-.78.8-2.07 0-2.86zM5.41 20L4 18.59l7.72-7.72 1.47 1.35L5.41 20z\"/>\n",
              "  </svg>\n",
              "      </button>\n",
              "      \n",
              "  <style>\n",
              "    .colab-df-container {\n",
              "      display:flex;\n",
              "      flex-wrap:wrap;\n",
              "      gap: 12px;\n",
              "    }\n",
              "\n",
              "    .colab-df-convert {\n",
              "      background-color: #E8F0FE;\n",
              "      border: none;\n",
              "      border-radius: 50%;\n",
              "      cursor: pointer;\n",
              "      display: none;\n",
              "      fill: #1967D2;\n",
              "      height: 32px;\n",
              "      padding: 0 0 0 0;\n",
              "      width: 32px;\n",
              "    }\n",
              "\n",
              "    .colab-df-convert:hover {\n",
              "      background-color: #E2EBFA;\n",
              "      box-shadow: 0px 1px 2px rgba(60, 64, 67, 0.3), 0px 1px 3px 1px rgba(60, 64, 67, 0.15);\n",
              "      fill: #174EA6;\n",
              "    }\n",
              "\n",
              "    [theme=dark] .colab-df-convert {\n",
              "      background-color: #3B4455;\n",
              "      fill: #D2E3FC;\n",
              "    }\n",
              "\n",
              "    [theme=dark] .colab-df-convert:hover {\n",
              "      background-color: #434B5C;\n",
              "      box-shadow: 0px 1px 3px 1px rgba(0, 0, 0, 0.15);\n",
              "      filter: drop-shadow(0px 1px 2px rgba(0, 0, 0, 0.3));\n",
              "      fill: #FFFFFF;\n",
              "    }\n",
              "  </style>\n",
              "\n",
              "      <script>\n",
              "        const buttonEl =\n",
              "          document.querySelector('#df-45e13337-9669-42f1-bff0-86ee70dc5941 button.colab-df-convert');\n",
              "        buttonEl.style.display =\n",
              "          google.colab.kernel.accessAllowed ? 'block' : 'none';\n",
              "\n",
              "        async function convertToInteractive(key) {\n",
              "          const element = document.querySelector('#df-45e13337-9669-42f1-bff0-86ee70dc5941');\n",
              "          const dataTable =\n",
              "            await google.colab.kernel.invokeFunction('convertToInteractive',\n",
              "                                                     [key], {});\n",
              "          if (!dataTable) return;\n",
              "\n",
              "          const docLinkHtml = 'Like what you see? Visit the ' +\n",
              "            '<a target=\"_blank\" href=https://colab.research.google.com/notebooks/data_table.ipynb>data table notebook</a>'\n",
              "            + ' to learn more about interactive tables.';\n",
              "          element.innerHTML = '';\n",
              "          dataTable['output_type'] = 'display_data';\n",
              "          await google.colab.output.renderOutput(dataTable, element);\n",
              "          const docLink = document.createElement('div');\n",
              "          docLink.innerHTML = docLinkHtml;\n",
              "          element.appendChild(docLink);\n",
              "        }\n",
              "      </script>\n",
              "    </div>\n",
              "  </div>\n",
              "  "
            ]
          },
          "metadata": {},
          "execution_count": 136
        }
      ]
    },
    {
      "cell_type": "markdown",
      "metadata": {
        "id": "7fTtGnic6Z_4"
      },
      "source": [
        "### TF-IDF"
      ]
    },
    {
      "cell_type": "code",
      "execution_count": 137,
      "metadata": {
        "id": "bBUlvL1B6Z_5"
      },
      "outputs": [],
      "source": [
        "from sklearn.feature_extraction.text import TfidfVectorizer"
      ]
    },
    {
      "cell_type": "code",
      "execution_count": 138,
      "metadata": {
        "id": "7QVAxs6m6Z_5"
      },
      "outputs": [],
      "source": [
        "tf_idf_vectorizer = TfidfVectorizer(preprocessor=cleaning, min_df=3)\n",
        "X_train_tf_idf = tf_idf_vectorizer.fit_transform(X_train)\n",
        "X_test_tf_idf = tf_idf_vectorizer.transform(X_test)"
      ]
    },
    {
      "cell_type": "code",
      "source": [
        "X_train_tf_idf.toarray()"
      ],
      "metadata": {
        "colab": {
          "base_uri": "https://localhost:8080/"
        },
        "id": "jfhhlsFhJZQe",
        "outputId": "830ae53a-5357-4357-f20f-94407a45c398"
      },
      "execution_count": 139,
      "outputs": [
        {
          "output_type": "execute_result",
          "data": {
            "text/plain": [
              "array([[0., 0., 0., ..., 0., 0., 0.],\n",
              "       [0., 0., 0., ..., 0., 0., 0.],\n",
              "       [0., 0., 0., ..., 0., 0., 0.],\n",
              "       ...,\n",
              "       [0., 0., 0., ..., 0., 0., 0.],\n",
              "       [0., 0., 0., ..., 0., 0., 0.],\n",
              "       [0., 0., 0., ..., 0., 0., 0.]])"
            ]
          },
          "metadata": {},
          "execution_count": 139
        }
      ]
    },
    {
      "cell_type": "code",
      "source": [
        "pd.DataFrame(X_train_tf_idf.toarray(), columns = tf_idf_vectorizer.get_feature_names_out())"
      ],
      "metadata": {
        "colab": {
          "base_uri": "https://localhost:8080/",
          "height": 488
        },
        "id": "5VbR1nX7JZS6",
        "outputId": "cd62e1da-4a63-407e-8a51-14607114af84"
      },
      "execution_count": 140,
      "outputs": [
        {
          "output_type": "execute_result",
          "data": {
            "text/plain": [
              "        aa   ab  abby  abdomen  ability  able  abo  absolute  absolutely  \\\n",
              "0      0.0  0.0   0.0      0.0      0.0   0.0  0.0       0.0         0.0   \n",
              "1      0.0  0.0   0.0      0.0      0.0   0.0  0.0       0.0         0.0   \n",
              "2      0.0  0.0   0.0      0.0      0.0   0.0  0.0       0.0         0.0   \n",
              "3      0.0  0.0   0.0      0.0      0.0   0.0  0.0       0.0         0.0   \n",
              "4      0.0  0.0   0.0      0.0      0.0   0.0  0.0       0.0         0.0   \n",
              "...    ...  ...   ...      ...      ...   ...  ...       ...         ...   \n",
              "16935  0.0  0.0   0.0      0.0      0.0   0.0  0.0       0.0         0.0   \n",
              "16936  0.0  0.0   0.0      0.0      0.0   0.0  0.0       0.0         0.0   \n",
              "16937  0.0  0.0   0.0      0.0      0.0   0.0  0.0       0.0         0.0   \n",
              "16938  0.0  0.0   0.0      0.0      0.0   0.0  0.0       0.0         0.0   \n",
              "16939  0.0  0.0   0.0      0.0      0.0   0.0  0.0       0.0         0.0   \n",
              "\n",
              "       abstract  ...  yucky  yummy  zero  zip  zipped  zipper  zippered  \\\n",
              "0           0.0  ...    0.0    0.0   0.0  0.0     0.0     0.0       0.0   \n",
              "1           0.0  ...    0.0    0.0   0.0  0.0     0.0     0.0       0.0   \n",
              "2           0.0  ...    0.0    0.0   0.0  0.0     0.0     0.0       0.0   \n",
              "3           0.0  ...    0.0    0.0   0.0  0.0     0.0     0.0       0.0   \n",
              "4           0.0  ...    0.0    0.0   0.0  0.0     0.0     0.0       0.0   \n",
              "...         ...  ...    ...    ...   ...  ...     ...     ...       ...   \n",
              "16935       0.0  ...    0.0    0.0   0.0  0.0     0.0     0.0       0.0   \n",
              "16936       0.0  ...    0.0    0.0   0.0  0.0     0.0     0.0       0.0   \n",
              "16937       0.0  ...    0.0    0.0   0.0  0.0     0.0     0.0       0.0   \n",
              "16938       0.0  ...    0.0    0.0   0.0  0.0     0.0     0.0       0.0   \n",
              "16939       0.0  ...    0.0    0.0   0.0  0.0     0.0     0.0       0.0   \n",
              "\n",
              "       zipping  zone  zoom  \n",
              "0          0.0   0.0   0.0  \n",
              "1          0.0   0.0   0.0  \n",
              "2          0.0   0.0   0.0  \n",
              "3          0.0   0.0   0.0  \n",
              "4          0.0   0.0   0.0  \n",
              "...        ...   ...   ...  \n",
              "16935      0.0   0.0   0.0  \n",
              "16936      0.0   0.0   0.0  \n",
              "16937      0.0   0.0   0.0  \n",
              "16938      0.0   0.0   0.0  \n",
              "16939      0.0   0.0   0.0  \n",
              "\n",
              "[16940 rows x 4758 columns]"
            ],
            "text/html": [
              "\n",
              "  <div id=\"df-f1c82ce4-e454-46db-965f-2086b6553217\">\n",
              "    <div class=\"colab-df-container\">\n",
              "      <div>\n",
              "<style scoped>\n",
              "    .dataframe tbody tr th:only-of-type {\n",
              "        vertical-align: middle;\n",
              "    }\n",
              "\n",
              "    .dataframe tbody tr th {\n",
              "        vertical-align: top;\n",
              "    }\n",
              "\n",
              "    .dataframe thead th {\n",
              "        text-align: right;\n",
              "    }\n",
              "</style>\n",
              "<table border=\"1\" class=\"dataframe\">\n",
              "  <thead>\n",
              "    <tr style=\"text-align: right;\">\n",
              "      <th></th>\n",
              "      <th>aa</th>\n",
              "      <th>ab</th>\n",
              "      <th>abby</th>\n",
              "      <th>abdomen</th>\n",
              "      <th>ability</th>\n",
              "      <th>able</th>\n",
              "      <th>abo</th>\n",
              "      <th>absolute</th>\n",
              "      <th>absolutely</th>\n",
              "      <th>abstract</th>\n",
              "      <th>...</th>\n",
              "      <th>yucky</th>\n",
              "      <th>yummy</th>\n",
              "      <th>zero</th>\n",
              "      <th>zip</th>\n",
              "      <th>zipped</th>\n",
              "      <th>zipper</th>\n",
              "      <th>zippered</th>\n",
              "      <th>zipping</th>\n",
              "      <th>zone</th>\n",
              "      <th>zoom</th>\n",
              "    </tr>\n",
              "  </thead>\n",
              "  <tbody>\n",
              "    <tr>\n",
              "      <th>0</th>\n",
              "      <td>0.0</td>\n",
              "      <td>0.0</td>\n",
              "      <td>0.0</td>\n",
              "      <td>0.0</td>\n",
              "      <td>0.0</td>\n",
              "      <td>0.0</td>\n",
              "      <td>0.0</td>\n",
              "      <td>0.0</td>\n",
              "      <td>0.0</td>\n",
              "      <td>0.0</td>\n",
              "      <td>...</td>\n",
              "      <td>0.0</td>\n",
              "      <td>0.0</td>\n",
              "      <td>0.0</td>\n",
              "      <td>0.0</td>\n",
              "      <td>0.0</td>\n",
              "      <td>0.0</td>\n",
              "      <td>0.0</td>\n",
              "      <td>0.0</td>\n",
              "      <td>0.0</td>\n",
              "      <td>0.0</td>\n",
              "    </tr>\n",
              "    <tr>\n",
              "      <th>1</th>\n",
              "      <td>0.0</td>\n",
              "      <td>0.0</td>\n",
              "      <td>0.0</td>\n",
              "      <td>0.0</td>\n",
              "      <td>0.0</td>\n",
              "      <td>0.0</td>\n",
              "      <td>0.0</td>\n",
              "      <td>0.0</td>\n",
              "      <td>0.0</td>\n",
              "      <td>0.0</td>\n",
              "      <td>...</td>\n",
              "      <td>0.0</td>\n",
              "      <td>0.0</td>\n",
              "      <td>0.0</td>\n",
              "      <td>0.0</td>\n",
              "      <td>0.0</td>\n",
              "      <td>0.0</td>\n",
              "      <td>0.0</td>\n",
              "      <td>0.0</td>\n",
              "      <td>0.0</td>\n",
              "      <td>0.0</td>\n",
              "    </tr>\n",
              "    <tr>\n",
              "      <th>2</th>\n",
              "      <td>0.0</td>\n",
              "      <td>0.0</td>\n",
              "      <td>0.0</td>\n",
              "      <td>0.0</td>\n",
              "      <td>0.0</td>\n",
              "      <td>0.0</td>\n",
              "      <td>0.0</td>\n",
              "      <td>0.0</td>\n",
              "      <td>0.0</td>\n",
              "      <td>0.0</td>\n",
              "      <td>...</td>\n",
              "      <td>0.0</td>\n",
              "      <td>0.0</td>\n",
              "      <td>0.0</td>\n",
              "      <td>0.0</td>\n",
              "      <td>0.0</td>\n",
              "      <td>0.0</td>\n",
              "      <td>0.0</td>\n",
              "      <td>0.0</td>\n",
              "      <td>0.0</td>\n",
              "      <td>0.0</td>\n",
              "    </tr>\n",
              "    <tr>\n",
              "      <th>3</th>\n",
              "      <td>0.0</td>\n",
              "      <td>0.0</td>\n",
              "      <td>0.0</td>\n",
              "      <td>0.0</td>\n",
              "      <td>0.0</td>\n",
              "      <td>0.0</td>\n",
              "      <td>0.0</td>\n",
              "      <td>0.0</td>\n",
              "      <td>0.0</td>\n",
              "      <td>0.0</td>\n",
              "      <td>...</td>\n",
              "      <td>0.0</td>\n",
              "      <td>0.0</td>\n",
              "      <td>0.0</td>\n",
              "      <td>0.0</td>\n",
              "      <td>0.0</td>\n",
              "      <td>0.0</td>\n",
              "      <td>0.0</td>\n",
              "      <td>0.0</td>\n",
              "      <td>0.0</td>\n",
              "      <td>0.0</td>\n",
              "    </tr>\n",
              "    <tr>\n",
              "      <th>4</th>\n",
              "      <td>0.0</td>\n",
              "      <td>0.0</td>\n",
              "      <td>0.0</td>\n",
              "      <td>0.0</td>\n",
              "      <td>0.0</td>\n",
              "      <td>0.0</td>\n",
              "      <td>0.0</td>\n",
              "      <td>0.0</td>\n",
              "      <td>0.0</td>\n",
              "      <td>0.0</td>\n",
              "      <td>...</td>\n",
              "      <td>0.0</td>\n",
              "      <td>0.0</td>\n",
              "      <td>0.0</td>\n",
              "      <td>0.0</td>\n",
              "      <td>0.0</td>\n",
              "      <td>0.0</td>\n",
              "      <td>0.0</td>\n",
              "      <td>0.0</td>\n",
              "      <td>0.0</td>\n",
              "      <td>0.0</td>\n",
              "    </tr>\n",
              "    <tr>\n",
              "      <th>...</th>\n",
              "      <td>...</td>\n",
              "      <td>...</td>\n",
              "      <td>...</td>\n",
              "      <td>...</td>\n",
              "      <td>...</td>\n",
              "      <td>...</td>\n",
              "      <td>...</td>\n",
              "      <td>...</td>\n",
              "      <td>...</td>\n",
              "      <td>...</td>\n",
              "      <td>...</td>\n",
              "      <td>...</td>\n",
              "      <td>...</td>\n",
              "      <td>...</td>\n",
              "      <td>...</td>\n",
              "      <td>...</td>\n",
              "      <td>...</td>\n",
              "      <td>...</td>\n",
              "      <td>...</td>\n",
              "      <td>...</td>\n",
              "      <td>...</td>\n",
              "    </tr>\n",
              "    <tr>\n",
              "      <th>16935</th>\n",
              "      <td>0.0</td>\n",
              "      <td>0.0</td>\n",
              "      <td>0.0</td>\n",
              "      <td>0.0</td>\n",
              "      <td>0.0</td>\n",
              "      <td>0.0</td>\n",
              "      <td>0.0</td>\n",
              "      <td>0.0</td>\n",
              "      <td>0.0</td>\n",
              "      <td>0.0</td>\n",
              "      <td>...</td>\n",
              "      <td>0.0</td>\n",
              "      <td>0.0</td>\n",
              "      <td>0.0</td>\n",
              "      <td>0.0</td>\n",
              "      <td>0.0</td>\n",
              "      <td>0.0</td>\n",
              "      <td>0.0</td>\n",
              "      <td>0.0</td>\n",
              "      <td>0.0</td>\n",
              "      <td>0.0</td>\n",
              "    </tr>\n",
              "    <tr>\n",
              "      <th>16936</th>\n",
              "      <td>0.0</td>\n",
              "      <td>0.0</td>\n",
              "      <td>0.0</td>\n",
              "      <td>0.0</td>\n",
              "      <td>0.0</td>\n",
              "      <td>0.0</td>\n",
              "      <td>0.0</td>\n",
              "      <td>0.0</td>\n",
              "      <td>0.0</td>\n",
              "      <td>0.0</td>\n",
              "      <td>...</td>\n",
              "      <td>0.0</td>\n",
              "      <td>0.0</td>\n",
              "      <td>0.0</td>\n",
              "      <td>0.0</td>\n",
              "      <td>0.0</td>\n",
              "      <td>0.0</td>\n",
              "      <td>0.0</td>\n",
              "      <td>0.0</td>\n",
              "      <td>0.0</td>\n",
              "      <td>0.0</td>\n",
              "    </tr>\n",
              "    <tr>\n",
              "      <th>16937</th>\n",
              "      <td>0.0</td>\n",
              "      <td>0.0</td>\n",
              "      <td>0.0</td>\n",
              "      <td>0.0</td>\n",
              "      <td>0.0</td>\n",
              "      <td>0.0</td>\n",
              "      <td>0.0</td>\n",
              "      <td>0.0</td>\n",
              "      <td>0.0</td>\n",
              "      <td>0.0</td>\n",
              "      <td>...</td>\n",
              "      <td>0.0</td>\n",
              "      <td>0.0</td>\n",
              "      <td>0.0</td>\n",
              "      <td>0.0</td>\n",
              "      <td>0.0</td>\n",
              "      <td>0.0</td>\n",
              "      <td>0.0</td>\n",
              "      <td>0.0</td>\n",
              "      <td>0.0</td>\n",
              "      <td>0.0</td>\n",
              "    </tr>\n",
              "    <tr>\n",
              "      <th>16938</th>\n",
              "      <td>0.0</td>\n",
              "      <td>0.0</td>\n",
              "      <td>0.0</td>\n",
              "      <td>0.0</td>\n",
              "      <td>0.0</td>\n",
              "      <td>0.0</td>\n",
              "      <td>0.0</td>\n",
              "      <td>0.0</td>\n",
              "      <td>0.0</td>\n",
              "      <td>0.0</td>\n",
              "      <td>...</td>\n",
              "      <td>0.0</td>\n",
              "      <td>0.0</td>\n",
              "      <td>0.0</td>\n",
              "      <td>0.0</td>\n",
              "      <td>0.0</td>\n",
              "      <td>0.0</td>\n",
              "      <td>0.0</td>\n",
              "      <td>0.0</td>\n",
              "      <td>0.0</td>\n",
              "      <td>0.0</td>\n",
              "    </tr>\n",
              "    <tr>\n",
              "      <th>16939</th>\n",
              "      <td>0.0</td>\n",
              "      <td>0.0</td>\n",
              "      <td>0.0</td>\n",
              "      <td>0.0</td>\n",
              "      <td>0.0</td>\n",
              "      <td>0.0</td>\n",
              "      <td>0.0</td>\n",
              "      <td>0.0</td>\n",
              "      <td>0.0</td>\n",
              "      <td>0.0</td>\n",
              "      <td>...</td>\n",
              "      <td>0.0</td>\n",
              "      <td>0.0</td>\n",
              "      <td>0.0</td>\n",
              "      <td>0.0</td>\n",
              "      <td>0.0</td>\n",
              "      <td>0.0</td>\n",
              "      <td>0.0</td>\n",
              "      <td>0.0</td>\n",
              "      <td>0.0</td>\n",
              "      <td>0.0</td>\n",
              "    </tr>\n",
              "  </tbody>\n",
              "</table>\n",
              "<p>16940 rows × 4758 columns</p>\n",
              "</div>\n",
              "      <button class=\"colab-df-convert\" onclick=\"convertToInteractive('df-f1c82ce4-e454-46db-965f-2086b6553217')\"\n",
              "              title=\"Convert this dataframe to an interactive table.\"\n",
              "              style=\"display:none;\">\n",
              "        \n",
              "  <svg xmlns=\"http://www.w3.org/2000/svg\" height=\"24px\"viewBox=\"0 0 24 24\"\n",
              "       width=\"24px\">\n",
              "    <path d=\"M0 0h24v24H0V0z\" fill=\"none\"/>\n",
              "    <path d=\"M18.56 5.44l.94 2.06.94-2.06 2.06-.94-2.06-.94-.94-2.06-.94 2.06-2.06.94zm-11 1L8.5 8.5l.94-2.06 2.06-.94-2.06-.94L8.5 2.5l-.94 2.06-2.06.94zm10 10l.94 2.06.94-2.06 2.06-.94-2.06-.94-.94-2.06-.94 2.06-2.06.94z\"/><path d=\"M17.41 7.96l-1.37-1.37c-.4-.4-.92-.59-1.43-.59-.52 0-1.04.2-1.43.59L10.3 9.45l-7.72 7.72c-.78.78-.78 2.05 0 2.83L4 21.41c.39.39.9.59 1.41.59.51 0 1.02-.2 1.41-.59l7.78-7.78 2.81-2.81c.8-.78.8-2.07 0-2.86zM5.41 20L4 18.59l7.72-7.72 1.47 1.35L5.41 20z\"/>\n",
              "  </svg>\n",
              "      </button>\n",
              "      \n",
              "  <style>\n",
              "    .colab-df-container {\n",
              "      display:flex;\n",
              "      flex-wrap:wrap;\n",
              "      gap: 12px;\n",
              "    }\n",
              "\n",
              "    .colab-df-convert {\n",
              "      background-color: #E8F0FE;\n",
              "      border: none;\n",
              "      border-radius: 50%;\n",
              "      cursor: pointer;\n",
              "      display: none;\n",
              "      fill: #1967D2;\n",
              "      height: 32px;\n",
              "      padding: 0 0 0 0;\n",
              "      width: 32px;\n",
              "    }\n",
              "\n",
              "    .colab-df-convert:hover {\n",
              "      background-color: #E2EBFA;\n",
              "      box-shadow: 0px 1px 2px rgba(60, 64, 67, 0.3), 0px 1px 3px 1px rgba(60, 64, 67, 0.15);\n",
              "      fill: #174EA6;\n",
              "    }\n",
              "\n",
              "    [theme=dark] .colab-df-convert {\n",
              "      background-color: #3B4455;\n",
              "      fill: #D2E3FC;\n",
              "    }\n",
              "\n",
              "    [theme=dark] .colab-df-convert:hover {\n",
              "      background-color: #434B5C;\n",
              "      box-shadow: 0px 1px 3px 1px rgba(0, 0, 0, 0.15);\n",
              "      filter: drop-shadow(0px 1px 2px rgba(0, 0, 0, 0.3));\n",
              "      fill: #FFFFFF;\n",
              "    }\n",
              "  </style>\n",
              "\n",
              "      <script>\n",
              "        const buttonEl =\n",
              "          document.querySelector('#df-f1c82ce4-e454-46db-965f-2086b6553217 button.colab-df-convert');\n",
              "        buttonEl.style.display =\n",
              "          google.colab.kernel.accessAllowed ? 'block' : 'none';\n",
              "\n",
              "        async function convertToInteractive(key) {\n",
              "          const element = document.querySelector('#df-f1c82ce4-e454-46db-965f-2086b6553217');\n",
              "          const dataTable =\n",
              "            await google.colab.kernel.invokeFunction('convertToInteractive',\n",
              "                                                     [key], {});\n",
              "          if (!dataTable) return;\n",
              "\n",
              "          const docLinkHtml = 'Like what you see? Visit the ' +\n",
              "            '<a target=\"_blank\" href=https://colab.research.google.com/notebooks/data_table.ipynb>data table notebook</a>'\n",
              "            + ' to learn more about interactive tables.';\n",
              "          element.innerHTML = '';\n",
              "          dataTable['output_type'] = 'display_data';\n",
              "          await google.colab.output.renderOutput(dataTable, element);\n",
              "          const docLink = document.createElement('div');\n",
              "          docLink.innerHTML = docLinkHtml;\n",
              "          element.appendChild(docLink);\n",
              "        }\n",
              "      </script>\n",
              "    </div>\n",
              "  </div>\n",
              "  "
            ]
          },
          "metadata": {},
          "execution_count": 140
        }
      ]
    },
    {
      "cell_type": "code",
      "source": [
        ""
      ],
      "metadata": {
        "id": "JiXJEuaCvRrn"
      },
      "execution_count": 153,
      "outputs": []
    },
    {
      "cell_type": "markdown",
      "source": [
        "## Eval functions"
      ],
      "metadata": {
        "id": "bchWGprtvXIE"
      }
    },
    {
      "cell_type": "markdown",
      "source": [
        ""
      ],
      "metadata": {
        "id": "u6XDfJ66vVQU"
      }
    },
    {
      "cell_type": "code",
      "source": [
        "from sklearn.metrics import confusion_matrix,classification_report, f1_score, recall_score, accuracy_score, precision_score"
      ],
      "metadata": {
        "id": "IYaARYHHJsJw"
      },
      "execution_count": 141,
      "outputs": []
    },
    {
      "cell_type": "code",
      "source": [
        "def eval(model, X_train, X_test):\n",
        "    y_pred = model.predict(X_test)\n",
        "    y_pred_train = model.predict(X_train)\n",
        "    print(confusion_matrix(y_test, y_pred))\n",
        "    print(\"Test_Set\")\n",
        "    print(classification_report(y_test,y_pred))\n",
        "    print(\"Train_Set\")\n",
        "    print(classification_report(y_train,y_pred_train))"
      ],
      "metadata": {
        "id": "uGnHUs-AJsMC"
      },
      "execution_count": 142,
      "outputs": []
    },
    {
      "cell_type": "markdown",
      "metadata": {
        "id": "xaVrkxRpCV3_"
      },
      "source": [
        "## Logistic Regression"
      ]
    },
    {
      "cell_type": "markdown",
      "metadata": {
        "id": "rFU3Axqn6Z_5"
      },
      "source": [
        "### CountVectorizer"
      ]
    },
    {
      "cell_type": "code",
      "execution_count": 154,
      "metadata": {
        "id": "gZtHHA9E6Z_6",
        "colab": {
          "base_uri": "https://localhost:8080/"
        },
        "outputId": "a7b49c4d-e4eb-4aeb-a2f7-31aeacdbe1f4"
      },
      "outputs": [
        {
          "output_type": "execute_result",
          "data": {
            "text/plain": [
              "LogisticRegression(C=0.01, class_weight='balanced', max_iter=1000,\n",
              "                   random_state=101)"
            ]
          },
          "metadata": {},
          "execution_count": 154
        }
      ],
      "source": [
        "from sklearn.linear_model import LogisticRegression\n",
        "log = LogisticRegression(C =0.01, max_iter=1000, class_weight= \"balanced\", random_state=101)\n",
        "log.fit(X_train_count,y_train)"
      ]
    },
    {
      "cell_type": "code",
      "execution_count": 155,
      "metadata": {
        "id": "VZX9O2L46Z_6",
        "colab": {
          "base_uri": "https://localhost:8080/"
        },
        "outputId": "fafd1d47-e4e2-4e6d-8ece-d8801e05accc"
      },
      "outputs": [
        {
          "output_type": "stream",
          "name": "stdout",
          "text": [
            "LOG MODEL\n",
            "[[2991  461]\n",
            " [ 102  681]]\n",
            "Test_Set\n",
            "              precision    recall  f1-score   support\n",
            "\n",
            "           0       0.97      0.87      0.91      3452\n",
            "           1       0.60      0.87      0.71       783\n",
            "\n",
            "    accuracy                           0.87      4235\n",
            "   macro avg       0.78      0.87      0.81      4235\n",
            "weighted avg       0.90      0.87      0.88      4235\n",
            "\n",
            "Train_Set\n",
            "              precision    recall  f1-score   support\n",
            "\n",
            "           0       0.98      0.88      0.93     13809\n",
            "           1       0.63      0.90      0.74      3131\n",
            "\n",
            "    accuracy                           0.88     16940\n",
            "   macro avg       0.80      0.89      0.83     16940\n",
            "weighted avg       0.91      0.88      0.89     16940\n",
            "\n"
          ]
        }
      ],
      "source": [
        "print(\"LOG MODEL\")\n",
        "eval(log, X_train_count, X_test_count)"
      ]
    },
    {
      "cell_type": "code",
      "execution_count": 156,
      "metadata": {
        "id": "hbPjWrax6Z_6",
        "colab": {
          "base_uri": "https://localhost:8080/"
        },
        "outputId": "ddab0408-cb8f-4cdb-866f-673019eec900"
      },
      "outputs": [
        {
          "output_type": "execute_result",
          "data": {
            "text/plain": [
              "test_accuracy     0.870720\n",
              "test_f1           0.712579\n",
              "test_recall       0.866500\n",
              "test_precision    0.605250\n",
              "dtype: float64"
            ]
          },
          "metadata": {},
          "execution_count": 156
        }
      ],
      "source": [
        "from sklearn.model_selection import cross_validate\n",
        "from sklearn.metrics import make_scorer\n",
        "from sklearn.metrics import f1_score, accuracy_score, precision_score, recall_score\n",
        "\n",
        "scoring= [\"accuracy\", \"f1\", \"recall\", \"precision\"]\n",
        "\n",
        "model = LogisticRegression(C =0.01, max_iter=1000, class_weight= \"balanced\", random_state=101)\n",
        "scores = cross_validate(model, X_train_count, y_train, scoring = scoring, cv = 10)\n",
        "df_scores = pd.DataFrame(scores, index = range(1, 11))\n",
        "df_scores.mean()[2:]"
      ]
    },
    {
      "cell_type": "code",
      "source": [
        "y_pred = log.predict(X_test_count)\n",
        "log_AP_count = viz.score_\n",
        "log_count_rec = recall_score(y_test, y_pred)\n",
        "log_count_f1 = f1_score(y_test,y_pred)"
      ],
      "metadata": {
        "id": "jPUsg-TQvz27"
      },
      "execution_count": 159,
      "outputs": []
    },
    {
      "cell_type": "markdown",
      "metadata": {
        "id": "AzI5yMGk6Z_6"
      },
      "source": [
        "### TF-IDF"
      ]
    },
    {
      "cell_type": "code",
      "execution_count": 160,
      "metadata": {
        "id": "_yNh_NGc6Z_6",
        "colab": {
          "base_uri": "https://localhost:8080/"
        },
        "outputId": "6d1f03ef-f859-4a80-f0b8-8c24889bb5ec"
      },
      "outputs": [
        {
          "output_type": "execute_result",
          "data": {
            "text/plain": [
              "LogisticRegression(C=0.06, class_weight='balanced', max_iter=1000,\n",
              "                   random_state=101)"
            ]
          },
          "metadata": {},
          "execution_count": 160
        }
      ],
      "source": [
        "log = LogisticRegression(C=0.06, max_iter=1000, random_state=101, class_weight=\"balanced\")\n",
        "log.fit(X_train_tf_idf,y_train)"
      ]
    },
    {
      "cell_type": "code",
      "execution_count": 161,
      "metadata": {
        "id": "eFdDcagW6Z_7",
        "colab": {
          "base_uri": "https://localhost:8080/"
        },
        "outputId": "c1a7b720-3fad-4d6e-cd14-d4eed8476fcb"
      },
      "outputs": [
        {
          "output_type": "stream",
          "name": "stdout",
          "text": [
            "LOG MODEL\n",
            "[[2959  493]\n",
            " [ 101  682]]\n",
            "Test_Set\n",
            "              precision    recall  f1-score   support\n",
            "\n",
            "           0       0.97      0.86      0.91      3452\n",
            "           1       0.58      0.87      0.70       783\n",
            "\n",
            "    accuracy                           0.86      4235\n",
            "   macro avg       0.77      0.86      0.80      4235\n",
            "weighted avg       0.90      0.86      0.87      4235\n",
            "\n",
            "Train_Set\n",
            "              precision    recall  f1-score   support\n",
            "\n",
            "           0       0.98      0.87      0.92     13809\n",
            "           1       0.61      0.91      0.73      3131\n",
            "\n",
            "    accuracy                           0.88     16940\n",
            "   macro avg       0.79      0.89      0.82     16940\n",
            "weighted avg       0.91      0.88      0.88     16940\n",
            "\n"
          ]
        }
      ],
      "source": [
        "print(\"LOG MODEL\")\n",
        "eval(log, X_train_tf_idf, X_test_tf_idf)"
      ]
    },
    {
      "cell_type": "code",
      "source": [
        "model = LogisticRegression(C=0.06, max_iter=1000, random_state=101, class_weight=\"balanced\")\n",
        "scores = cross_validate(model, X_train_tf_idf, y_train, scoring = scoring, cv = 10)\n",
        "df_scores = pd.DataFrame(scores, index = range(1, 11))\n",
        "df_scores.mean()[2:]"
      ],
      "metadata": {
        "colab": {
          "base_uri": "https://localhost:8080/"
        },
        "id": "G3WMJvWGwKCk",
        "outputId": "145f5189-9d67-4e61-aaaa-4cd24c4132b4"
      },
      "execution_count": 162,
      "outputs": [
        {
          "output_type": "execute_result",
          "data": {
            "text/plain": [
              "test_accuracy     0.865112\n",
              "test_f1           0.707054\n",
              "test_recall       0.880232\n",
              "test_precision    0.590939\n",
              "dtype: float64"
            ]
          },
          "metadata": {},
          "execution_count": 162
        }
      ]
    },
    {
      "cell_type": "code",
      "source": [
        "y_pred = log.predict(X_test_tf_idf)\n",
        "log_AP_tfidf = viz.score_\n",
        "log_tfidf_rec = recall_score(y_test, y_pred)\n",
        "log_tfidf_f1 = f1_score(y_test,y_pred)"
      ],
      "metadata": {
        "id": "RlRfZEUswTrs"
      },
      "execution_count": 164,
      "outputs": []
    },
    {
      "cell_type": "markdown",
      "source": [
        "##Naive Bayes"
      ],
      "metadata": {
        "id": "B8dmZQNowhhM"
      }
    },
    {
      "cell_type": "markdown",
      "metadata": {
        "id": "QACRU9G3CV4A"
      },
      "source": [
        "\n",
        "\n",
        "### Countvectorizer"
      ]
    },
    {
      "cell_type": "markdown",
      "source": [
        ""
      ],
      "metadata": {
        "id": "FsWIzUmBwgmP"
      }
    },
    {
      "cell_type": "code",
      "execution_count": 166,
      "metadata": {
        "colab": {
          "base_uri": "https://localhost:8080/"
        },
        "id": "bRANCEsw6Z_7",
        "outputId": "beca5c29-a39c-4636-ab0f-ebeff2fa0995"
      },
      "outputs": [
        {
          "output_type": "execute_result",
          "data": {
            "text/plain": [
              "MultinomialNB(alpha=0.7)"
            ]
          },
          "metadata": {},
          "execution_count": 166
        }
      ],
      "source": [
        "from sklearn.naive_bayes import MultinomialNB, BernoulliNB\n",
        "nb = MultinomialNB(alpha=0.7)\n",
        "nb.fit(X_train_count,y_train)"
      ]
    },
    {
      "cell_type": "code",
      "execution_count": 168,
      "metadata": {
        "colab": {
          "base_uri": "https://localhost:8080/"
        },
        "id": "EWcmtWq76Z_7",
        "outputId": "1ff20536-7edc-47ff-b28d-88855fbeabf3"
      },
      "outputs": [
        {
          "output_type": "stream",
          "name": "stdout",
          "text": [
            "NB MODEL\n",
            "[[3210  242]\n",
            " [ 159  624]]\n",
            "Test_Set\n",
            "              precision    recall  f1-score   support\n",
            "\n",
            "           0       0.95      0.93      0.94      3452\n",
            "           1       0.72      0.80      0.76       783\n",
            "\n",
            "    accuracy                           0.91      4235\n",
            "   macro avg       0.84      0.86      0.85      4235\n",
            "weighted avg       0.91      0.91      0.91      4235\n",
            "\n",
            "Train_Set\n",
            "              precision    recall  f1-score   support\n",
            "\n",
            "           0       0.97      0.94      0.95     13809\n",
            "           1       0.76      0.86      0.81      3131\n",
            "\n",
            "    accuracy                           0.92     16940\n",
            "   macro avg       0.86      0.90      0.88     16940\n",
            "weighted avg       0.93      0.92      0.92     16940\n",
            "\n"
          ]
        }
      ],
      "source": [
        "print(\"NB MODEL\")\n",
        "eval(nb, X_train_count, X_test_count)"
      ]
    },
    {
      "cell_type": "code",
      "source": [
        "model = MultinomialNB(alpha=0.7)\n",
        "scores = cross_validate(model, X_train_count, y_train, scoring = scoring, cv = 10)\n",
        "df_scores = pd.DataFrame(scores, index = range(1, 11))\n",
        "df_scores.mean()[2:]"
      ],
      "metadata": {
        "colab": {
          "base_uri": "https://localhost:8080/"
        },
        "id": "TqD8NtuZLvWK",
        "outputId": "69bec121-1762-4f5d-82e7-29ae7ee86904"
      },
      "execution_count": 169,
      "outputs": [
        {
          "output_type": "execute_result",
          "data": {
            "text/plain": [
              "test_accuracy     0.903306\n",
              "test_f1           0.753693\n",
              "test_recall       0.800064\n",
              "test_precision    0.712728\n",
              "dtype: float64"
            ]
          },
          "metadata": {},
          "execution_count": 169
        }
      ]
    },
    {
      "cell_type": "code",
      "source": [
        "y_pred = nb.predict(X_test_count)\n",
        "nb_AP_count = viz.score_\n",
        "nb_count_rec = recall_score(y_test, y_pred)\n",
        "nb_count_f1 = f1_score(y_test,y_pred)"
      ],
      "metadata": {
        "id": "ylByW34yLvhJ"
      },
      "execution_count": 171,
      "outputs": []
    },
    {
      "cell_type": "code",
      "source": [
        ""
      ],
      "metadata": {
        "id": "lPjeMcEDLvlg"
      },
      "execution_count": null,
      "outputs": []
    },
    {
      "cell_type": "markdown",
      "metadata": {
        "id": "7VsSwdY96Z_7"
      },
      "source": [
        "### TF-IDF"
      ]
    },
    {
      "cell_type": "code",
      "execution_count": 172,
      "metadata": {
        "id": "ylvUw9GX6Z_7",
        "colab": {
          "base_uri": "https://localhost:8080/"
        },
        "outputId": "f303c579-d58e-4361-de40-fccd1ee19a05"
      },
      "outputs": [
        {
          "output_type": "execute_result",
          "data": {
            "text/plain": [
              "BernoulliNB(alpha=0.6)"
            ]
          },
          "metadata": {},
          "execution_count": 172
        }
      ],
      "source": [
        "nb = BernoulliNB(alpha=0.6)\n",
        "nb.fit(X_train_tf_idf,y_train)"
      ]
    },
    {
      "cell_type": "code",
      "execution_count": 173,
      "metadata": {
        "id": "bajapWAN6Z_8",
        "colab": {
          "base_uri": "https://localhost:8080/"
        },
        "outputId": "1ff3e8de-3741-4c5e-9b94-b886d6065531"
      },
      "outputs": [
        {
          "output_type": "stream",
          "name": "stdout",
          "text": [
            "NB MODEL\n",
            "[[3214  238]\n",
            " [ 174  609]]\n",
            "Test_Set\n",
            "              precision    recall  f1-score   support\n",
            "\n",
            "           0       0.95      0.93      0.94      3452\n",
            "           1       0.72      0.78      0.75       783\n",
            "\n",
            "    accuracy                           0.90      4235\n",
            "   macro avg       0.83      0.85      0.84      4235\n",
            "weighted avg       0.91      0.90      0.90      4235\n",
            "\n",
            "Train_Set\n",
            "              precision    recall  f1-score   support\n",
            "\n",
            "           0       0.96      0.94      0.95     13809\n",
            "           1       0.75      0.85      0.80      3131\n",
            "\n",
            "    accuracy                           0.92     16940\n",
            "   macro avg       0.86      0.89      0.87     16940\n",
            "weighted avg       0.92      0.92      0.92     16940\n",
            "\n"
          ]
        }
      ],
      "source": [
        "print(\"NB MODEL\")\n",
        "eval(nb, X_train_tf_idf, X_test_tf_idf)"
      ]
    },
    {
      "cell_type": "code",
      "source": [
        "model = BernoulliNB(alpha=0.6)\n",
        "scores = cross_validate(model, X_train_tf_idf, y_train, scoring = scoring, cv = 10)\n",
        "df_scores = pd.DataFrame(scores, index = range(1, 11))\n",
        "df_scores.mean()[2:]\n"
      ],
      "metadata": {
        "colab": {
          "base_uri": "https://localhost:8080/"
        },
        "id": "m1zyIMtvxNue",
        "outputId": "dd3db2ec-cd7d-4fd6-bb9e-03076207217e"
      },
      "execution_count": 174,
      "outputs": [
        {
          "output_type": "execute_result",
          "data": {
            "text/plain": [
              "test_accuracy     0.899823\n",
              "test_f1           0.743578\n",
              "test_recall       0.785695\n",
              "test_precision    0.705982\n",
              "dtype: float64"
            ]
          },
          "metadata": {},
          "execution_count": 174
        }
      ]
    },
    {
      "cell_type": "code",
      "source": [
        "y_pred = nb.predict(X_test_tf_idf)\n",
        "nb_AP_tfidf = viz.score_\n",
        "nb_tfidf_rec = recall_score(y_test, y_pred)\n",
        "nb_tfidf_f1 = f1_score(y_test,y_pred)"
      ],
      "metadata": {
        "id": "U8qp3OCnxTgc"
      },
      "execution_count": 176,
      "outputs": []
    },
    {
      "cell_type": "markdown",
      "metadata": {
        "id": "OSkbnJJiCV4A"
      },
      "source": [
        "## Support Vector Machine (SVM)\n",
        "\n",
        "### Countvectorizer"
      ]
    },
    {
      "cell_type": "code",
      "execution_count": 177,
      "metadata": {
        "id": "RNtqGB5d6Z_8",
        "colab": {
          "base_uri": "https://localhost:8080/"
        },
        "outputId": "34db8bac-ee4e-4e70-907e-1cb74d41cd5f"
      },
      "outputs": [
        {
          "output_type": "execute_result",
          "data": {
            "text/plain": [
              "LinearSVC(C=0.001, class_weight='balanced', random_state=101)"
            ]
          },
          "metadata": {},
          "execution_count": 177
        }
      ],
      "source": [
        "from sklearn.svm import LinearSVC\n",
        "svc = LinearSVC(C=0.001, class_weight=\"balanced\", random_state=101)\n",
        "svc.fit(X_train_count,y_train)"
      ]
    },
    {
      "cell_type": "code",
      "execution_count": 178,
      "metadata": {
        "id": "oq4ewrxQ6Z_8",
        "colab": {
          "base_uri": "https://localhost:8080/"
        },
        "outputId": "c1a9fca1-97ac-466b-d817-6fb2fda2d6d0"
      },
      "outputs": [
        {
          "output_type": "stream",
          "name": "stdout",
          "text": [
            "SVC MODEL\n",
            "[[2996  456]\n",
            " [ 101  682]]\n",
            "Test_Set\n",
            "              precision    recall  f1-score   support\n",
            "\n",
            "           0       0.97      0.87      0.91      3452\n",
            "           1       0.60      0.87      0.71       783\n",
            "\n",
            "    accuracy                           0.87      4235\n",
            "   macro avg       0.78      0.87      0.81      4235\n",
            "weighted avg       0.90      0.87      0.88      4235\n",
            "\n",
            "Train_Set\n",
            "              precision    recall  f1-score   support\n",
            "\n",
            "           0       0.98      0.88      0.93     13809\n",
            "           1       0.63      0.90      0.74      3131\n",
            "\n",
            "    accuracy                           0.89     16940\n",
            "   macro avg       0.80      0.89      0.83     16940\n",
            "weighted avg       0.91      0.89      0.89     16940\n",
            "\n"
          ]
        }
      ],
      "source": [
        "print(\"SVC MODEL\")\n",
        "eval(svc, X_train_count, X_test_count)"
      ]
    },
    {
      "cell_type": "code",
      "source": [
        "model = LinearSVC(C=0.001, class_weight=\"balanced\", random_state=101)\n",
        "scores = cross_validate(model, X_train_count, y_train, scoring = scoring, cv = 10)\n",
        "df_scores = pd.DataFrame(scores, index = range(1, 11))\n",
        "df_scores.mean()[2:]"
      ],
      "metadata": {
        "colab": {
          "base_uri": "https://localhost:8080/"
        },
        "id": "KWzrl7lqxbld",
        "outputId": "b86fd59d-e961-41f5-b16c-d0da6922f427"
      },
      "execution_count": 179,
      "outputs": [
        {
          "output_type": "execute_result",
          "data": {
            "text/plain": [
              "test_accuracy     0.872963\n",
              "test_f1           0.716858\n",
              "test_recall       0.869372\n",
              "test_precision    0.610020\n",
              "dtype: float64"
            ]
          },
          "metadata": {},
          "execution_count": 179
        }
      ]
    },
    {
      "cell_type": "code",
      "source": [
        "y_pred = svc.predict(X_test_count)\n",
        "svc_AP_count = viz.score_\n",
        "svc_count_rec = recall_score(y_test, y_pred)\n",
        "svc_count_f1 = f1_score(y_test,y_pred)"
      ],
      "metadata": {
        "id": "2eKRaDIJxf0U"
      },
      "execution_count": 181,
      "outputs": []
    },
    {
      "cell_type": "markdown",
      "metadata": {
        "id": "nxTPZvWm6Z_8"
      },
      "source": [
        "### TD-IDF"
      ]
    },
    {
      "cell_type": "code",
      "execution_count": 182,
      "metadata": {
        "id": "ceQ-pXNF6Z_9",
        "colab": {
          "base_uri": "https://localhost:8080/"
        },
        "outputId": "af35bcaf-b4fe-4490-ecfb-d2fe9364356d"
      },
      "outputs": [
        {
          "output_type": "execute_result",
          "data": {
            "text/plain": [
              "LinearSVC(C=0.03, class_weight='balanced', random_state=101)"
            ]
          },
          "metadata": {},
          "execution_count": 182
        }
      ],
      "source": [
        "svc = LinearSVC(C=0.03, class_weight=\"balanced\", random_state=101)\n",
        "svc.fit(X_train_tf_idf,y_train)"
      ]
    },
    {
      "cell_type": "code",
      "source": [
        "print(\"SVC MODEL\")\n",
        "eval(svc, X_train_tf_idf, X_test_tf_idf)"
      ],
      "metadata": {
        "colab": {
          "base_uri": "https://localhost:8080/"
        },
        "id": "0YgQGxMsxk-8",
        "outputId": "6cd8cedb-d2de-4006-cd07-9e912acbccde"
      },
      "execution_count": 183,
      "outputs": [
        {
          "output_type": "stream",
          "name": "stdout",
          "text": [
            "SVC MODEL\n",
            "[[3020  432]\n",
            " [  88  695]]\n",
            "Test_Set\n",
            "              precision    recall  f1-score   support\n",
            "\n",
            "           0       0.97      0.87      0.92      3452\n",
            "           1       0.62      0.89      0.73       783\n",
            "\n",
            "    accuracy                           0.88      4235\n",
            "   macro avg       0.79      0.88      0.82      4235\n",
            "weighted avg       0.91      0.88      0.89      4235\n",
            "\n",
            "Train_Set\n",
            "              precision    recall  f1-score   support\n",
            "\n",
            "           0       0.98      0.89      0.94     13809\n",
            "           1       0.66      0.93      0.77      3131\n",
            "\n",
            "    accuracy                           0.90     16940\n",
            "   macro avg       0.82      0.91      0.86     16940\n",
            "weighted avg       0.92      0.90      0.91     16940\n",
            "\n"
          ]
        }
      ]
    },
    {
      "cell_type": "code",
      "source": [
        "model = LinearSVC(C=0.03, class_weight=\"balanced\", random_state=101)\n",
        "scores = cross_validate(model, X_train_tf_idf, y_train, scoring = scoring, cv = 10)\n",
        "df_scores = pd.DataFrame(scores, index = range(1, 11))\n",
        "df_scores.mean()[2:]"
      ],
      "metadata": {
        "colab": {
          "base_uri": "https://localhost:8080/"
        },
        "id": "l-c0Iz2IxlBS",
        "outputId": "b6d16830-9da0-4ba0-8536-04061d07cf1e"
      },
      "execution_count": 184,
      "outputs": [
        {
          "output_type": "execute_result",
          "data": {
            "text/plain": [
              "test_accuracy     0.883117\n",
              "test_f1           0.737164\n",
              "test_recall       0.886303\n",
              "test_precision    0.631120\n",
              "dtype: float64"
            ]
          },
          "metadata": {},
          "execution_count": 184
        }
      ]
    },
    {
      "cell_type": "code",
      "source": [
        "y_pred = svc.predict(X_test_tf_idf)\n",
        "svc_AP_tfidf = viz.score_\n",
        "svc_tfidf_rec = recall_score(y_test, y_pred)\n",
        "svc_tfidf_f1 = f1_score(y_test,y_pred)"
      ],
      "metadata": {
        "id": "0t8NNADQxuQ4"
      },
      "execution_count": 186,
      "outputs": []
    },
    {
      "cell_type": "markdown",
      "metadata": {
        "id": "qTECEchfCV4A"
      },
      "source": [
        "## Random Forest\n",
        "\n",
        "### Countvectorizer"
      ]
    },
    {
      "cell_type": "code",
      "execution_count": 187,
      "metadata": {
        "id": "abyaGe6M6Z_9",
        "colab": {
          "base_uri": "https://localhost:8080/"
        },
        "outputId": "018d37d6-d1cb-4019-efa7-ba19cbf51cfb"
      },
      "outputs": [
        {
          "output_type": "execute_result",
          "data": {
            "text/plain": [
              "RandomForestClassifier(class_weight='balanced', max_depth=9, n_jobs=-1,\n",
              "                       random_state=42)"
            ]
          },
          "metadata": {},
          "execution_count": 187
        }
      ],
      "source": [
        "from sklearn.ensemble import RandomForestClassifier\n",
        "rf = RandomForestClassifier(100, max_depth = 9, random_state = 42, n_jobs = -1, class_weight=\"balanced\")\n",
        "rf.fit(X_train_count, y_train)"
      ]
    },
    {
      "cell_type": "code",
      "source": [
        "print(\"RF MODEL\")\n",
        "eval(rf, X_train_count, X_test_count)"
      ],
      "metadata": {
        "colab": {
          "base_uri": "https://localhost:8080/"
        },
        "id": "146Q2Ho_xxp7",
        "outputId": "f63a3f4f-0e0c-47f1-ee0a-715518290f02"
      },
      "execution_count": 188,
      "outputs": [
        {
          "output_type": "stream",
          "name": "stdout",
          "text": [
            "RF MODEL\n",
            "[[2992  460]\n",
            " [ 144  639]]\n",
            "Test_Set\n",
            "              precision    recall  f1-score   support\n",
            "\n",
            "           0       0.95      0.87      0.91      3452\n",
            "           1       0.58      0.82      0.68       783\n",
            "\n",
            "    accuracy                           0.86      4235\n",
            "   macro avg       0.77      0.84      0.79      4235\n",
            "weighted avg       0.89      0.86      0.87      4235\n",
            "\n",
            "Train_Set\n",
            "              precision    recall  f1-score   support\n",
            "\n",
            "           0       0.97      0.89      0.93     13809\n",
            "           1       0.64      0.87      0.74      3131\n",
            "\n",
            "    accuracy                           0.89     16940\n",
            "   macro avg       0.81      0.88      0.83     16940\n",
            "weighted avg       0.91      0.89      0.89     16940\n",
            "\n"
          ]
        }
      ]
    },
    {
      "cell_type": "code",
      "source": [
        "model = RandomForestClassifier(100, max_depth = 9, random_state = 42, n_jobs = -1, class_weight=\"balanced\")\n",
        "scores = cross_validate(model, X_train_count, y_train, scoring = scoring, cv = 10)\n",
        "df_scores = pd.DataFrame(scores, index = range(1, 11))\n",
        "df_scores.mean()[2:]"
      ],
      "metadata": {
        "colab": {
          "base_uri": "https://localhost:8080/"
        },
        "id": "rpTrTeBYxxsl",
        "outputId": "f9099946-864a-4a30-d953-e9f26f83da5b"
      },
      "execution_count": 189,
      "outputs": [
        {
          "output_type": "execute_result",
          "data": {
            "text/plain": [
              "test_accuracy     0.865053\n",
              "test_f1           0.691423\n",
              "test_recall       0.816988\n",
              "test_precision    0.599714\n",
              "dtype: float64"
            ]
          },
          "metadata": {},
          "execution_count": 189
        }
      ]
    },
    {
      "cell_type": "code",
      "source": [
        "y_pred = rf.predict(X_test_count)\n",
        "rf_AP_count = viz.score_\n",
        "rf_count_rec = recall_score(y_test, y_pred)\n",
        "rf_count_f1 = f1_score(y_test,y_pred)"
      ],
      "metadata": {
        "id": "WReQ1tpZx-qT"
      },
      "execution_count": 191,
      "outputs": []
    },
    {
      "cell_type": "markdown",
      "metadata": {
        "id": "noDsCEXt6Z_-"
      },
      "source": [
        "### TF-IDF"
      ]
    },
    {
      "cell_type": "code",
      "execution_count": 192,
      "metadata": {
        "id": "B_HJ8u_R6Z_-",
        "colab": {
          "base_uri": "https://localhost:8080/"
        },
        "outputId": "ee2f2cbb-b942-4269-f6be-9568866cc52f"
      },
      "outputs": [
        {
          "output_type": "execute_result",
          "data": {
            "text/plain": [
              "RandomForestClassifier(class_weight='balanced', max_depth=9, n_jobs=-1,\n",
              "                       random_state=42)"
            ]
          },
          "metadata": {},
          "execution_count": 192
        }
      ],
      "source": [
        "rf = RandomForestClassifier(100, max_depth = 9, random_state = 42, n_jobs = -1, class_weight=\"balanced\")\n",
        "rf.fit(X_train_tf_idf, y_train)"
      ]
    },
    {
      "cell_type": "code",
      "source": [
        "print(\"RF MODEL\")\n",
        "eval(rf, X_train_tf_idf, X_test_tf_idf)"
      ],
      "metadata": {
        "colab": {
          "base_uri": "https://localhost:8080/"
        },
        "id": "A7X9-HPsyUVT",
        "outputId": "3f6a84a6-d738-4246-eee8-68af3f825971"
      },
      "execution_count": 193,
      "outputs": [
        {
          "output_type": "stream",
          "name": "stdout",
          "text": [
            "RF MODEL\n",
            "[[2933  519]\n",
            " [ 143  640]]\n",
            "Test_Set\n",
            "              precision    recall  f1-score   support\n",
            "\n",
            "           0       0.95      0.85      0.90      3452\n",
            "           1       0.55      0.82      0.66       783\n",
            "\n",
            "    accuracy                           0.84      4235\n",
            "   macro avg       0.75      0.83      0.78      4235\n",
            "weighted avg       0.88      0.84      0.85      4235\n",
            "\n",
            "Train_Set\n",
            "              precision    recall  f1-score   support\n",
            "\n",
            "           0       0.98      0.87      0.92     13809\n",
            "           1       0.62      0.90      0.73      3131\n",
            "\n",
            "    accuracy                           0.88     16940\n",
            "   macro avg       0.80      0.89      0.83     16940\n",
            "weighted avg       0.91      0.88      0.89     16940\n",
            "\n"
          ]
        }
      ]
    },
    {
      "cell_type": "code",
      "source": [
        "model = RandomForestClassifier(100, max_depth = 9, random_state = 42, n_jobs = -1, class_weight=\"balanced\")\n",
        "scores = cross_validate(model, X_train_tf_idf, y_train, scoring = scoring, cv = 10)\n",
        "df_scores = pd.DataFrame(scores, index = range(1, 11))\n",
        "df_scores.mean()[2:]"
      ],
      "metadata": {
        "colab": {
          "base_uri": "https://localhost:8080/"
        },
        "id": "HeD8fzVCyUX7",
        "outputId": "e776fd9e-1e1d-4eb1-e5ab-703337951aa7"
      },
      "execution_count": 194,
      "outputs": [
        {
          "output_type": "execute_result",
          "data": {
            "text/plain": [
              "test_accuracy     0.852952\n",
              "test_f1           0.670373\n",
              "test_recall       0.808048\n",
              "test_precision    0.573264\n",
              "dtype: float64"
            ]
          },
          "metadata": {},
          "execution_count": 194
        }
      ]
    },
    {
      "cell_type": "code",
      "source": [
        "y_pred = rf.predict(X_test_tf_idf)\n",
        "rf_AP_tfidf = viz.score_\n",
        "rf_tfidf_rec = recall_score(y_test, y_pred)\n",
        "rf_tfidf_f1 = f1_score(y_test,y_pred)"
      ],
      "metadata": {
        "id": "G_JswqZPyd7b"
      },
      "execution_count": 196,
      "outputs": []
    },
    {
      "cell_type": "markdown",
      "metadata": {
        "id": "GmVCxmcg6Z_-"
      },
      "source": [
        "## Ada Boosting\n",
        "\n",
        "### Countvectorizer"
      ]
    },
    {
      "cell_type": "code",
      "execution_count": 197,
      "metadata": {
        "id": "fyAhXRJ76Z_-",
        "colab": {
          "base_uri": "https://localhost:8080/"
        },
        "outputId": "56d9a3de-903a-4c67-c994-bc390162ee6a"
      },
      "outputs": [
        {
          "output_type": "execute_result",
          "data": {
            "text/plain": [
              "AdaBoostClassifier(learning_rate=0.8, n_estimators=500, random_state=42)"
            ]
          },
          "metadata": {},
          "execution_count": 197
        }
      ],
      "source": [
        "from sklearn.ensemble import AdaBoostClassifier\n",
        "ada = AdaBoostClassifier(n_estimators= 500, random_state = 42, learning_rate=0.8)\n",
        "ada.fit(X_train_count, y_train)"
      ]
    },
    {
      "cell_type": "code",
      "source": [
        "print(\"Ada MODEL\")\n",
        "eval(ada, X_train_count, X_test_count)"
      ],
      "metadata": {
        "colab": {
          "base_uri": "https://localhost:8080/"
        },
        "id": "g7-eMmrIypdU",
        "outputId": "94d550dd-7716-44ac-8b16-6d87b2f6ce97"
      },
      "execution_count": 198,
      "outputs": [
        {
          "output_type": "stream",
          "name": "stdout",
          "text": [
            "Ada MODEL\n",
            "[[3305  147]\n",
            " [ 280  503]]\n",
            "Test_Set\n",
            "              precision    recall  f1-score   support\n",
            "\n",
            "           0       0.92      0.96      0.94      3452\n",
            "           1       0.77      0.64      0.70       783\n",
            "\n",
            "    accuracy                           0.90      4235\n",
            "   macro avg       0.85      0.80      0.82      4235\n",
            "weighted avg       0.89      0.90      0.90      4235\n",
            "\n",
            "Train_Set\n",
            "              precision    recall  f1-score   support\n",
            "\n",
            "           0       0.94      0.97      0.96     13809\n",
            "           1       0.86      0.72      0.79      3131\n",
            "\n",
            "    accuracy                           0.93     16940\n",
            "   macro avg       0.90      0.85      0.87     16940\n",
            "weighted avg       0.92      0.93      0.92     16940\n",
            "\n"
          ]
        }
      ]
    },
    {
      "cell_type": "code",
      "source": [
        "model = AdaBoostClassifier(n_estimators= 500, random_state = 42, learning_rate=0.8)\n",
        "scores = cross_validate(model, X_train_count, y_train, scoring = scoring, cv = 10)\n",
        "df_scores = pd.DataFrame(scores, index = range(1, 11))\n",
        "df_scores.mean()[2:]"
      ],
      "metadata": {
        "colab": {
          "base_uri": "https://localhost:8080/"
        },
        "id": "0gmjNyxDypfx",
        "outputId": "88e28360-083e-49ff-dbca-bb6aa4191716"
      },
      "execution_count": 199,
      "outputs": [
        {
          "output_type": "execute_result",
          "data": {
            "text/plain": [
              "test_accuracy     0.901181\n",
              "test_f1           0.705764\n",
              "test_recall       0.641640\n",
              "test_precision    0.785008\n",
              "dtype: float64"
            ]
          },
          "metadata": {},
          "execution_count": 199
        }
      ]
    },
    {
      "cell_type": "code",
      "source": [
        "y_pred = ada.predict(X_test_count)\n",
        "ada_AP_count = viz.score_\n",
        "ada_count_rec = recall_score(y_test, y_pred)\n",
        "ada_count_f1 = f1_score(y_test,y_pred)"
      ],
      "metadata": {
        "id": "Knj6_hZtzc7i"
      },
      "execution_count": 201,
      "outputs": []
    },
    {
      "cell_type": "markdown",
      "metadata": {
        "id": "tUWxigqh6Z__"
      },
      "source": [
        "### TF-IDF"
      ]
    },
    {
      "cell_type": "code",
      "execution_count": 202,
      "metadata": {
        "id": "XMMaTfTW6Z__",
        "colab": {
          "base_uri": "https://localhost:8080/"
        },
        "outputId": "604dc093-6136-4040-bda0-6edd7fab5690"
      },
      "outputs": [
        {
          "output_type": "execute_result",
          "data": {
            "text/plain": [
              "AdaBoostClassifier(learning_rate=0.8, n_estimators=200, random_state=42)"
            ]
          },
          "metadata": {},
          "execution_count": 202
        }
      ],
      "source": [
        "ada = AdaBoostClassifier(n_estimators= 200, random_state = 42, learning_rate=0.8)\n",
        "ada.fit(X_train_tf_idf, y_train)"
      ]
    },
    {
      "cell_type": "code",
      "source": [
        "print(\"Ada MODEL\")\n",
        "eval(ada, X_train_tf_idf, X_test_tf_idf)"
      ],
      "metadata": {
        "colab": {
          "base_uri": "https://localhost:8080/"
        },
        "id": "56l_tDv5zoBk",
        "outputId": "edda1b10-73b8-47a0-aaa8-eb3fce144190"
      },
      "execution_count": 203,
      "outputs": [
        {
          "output_type": "stream",
          "name": "stdout",
          "text": [
            "Ada MODEL\n",
            "[[3299  153]\n",
            " [ 319  464]]\n",
            "Test_Set\n",
            "              precision    recall  f1-score   support\n",
            "\n",
            "           0       0.91      0.96      0.93      3452\n",
            "           1       0.75      0.59      0.66       783\n",
            "\n",
            "    accuracy                           0.89      4235\n",
            "   macro avg       0.83      0.77      0.80      4235\n",
            "weighted avg       0.88      0.89      0.88      4235\n",
            "\n",
            "Train_Set\n",
            "              precision    recall  f1-score   support\n",
            "\n",
            "           0       0.93      0.97      0.95     13809\n",
            "           1       0.83      0.67      0.74      3131\n",
            "\n",
            "    accuracy                           0.91     16940\n",
            "   macro avg       0.88      0.82      0.84     16940\n",
            "weighted avg       0.91      0.91      0.91     16940\n",
            "\n"
          ]
        }
      ]
    },
    {
      "cell_type": "code",
      "source": [
        "model = AdaBoostClassifier(n_estimators= 200, random_state = 42, learning_rate=0.8)\n",
        "scores = cross_validate(model, X_train_tf_idf, y_train, scoring = scoring, cv = 10)\n",
        "df_scores = pd.DataFrame(scores, index = range(1, 11))\n",
        "df_scores.mean()[2:]"
      ],
      "metadata": {
        "colab": {
          "base_uri": "https://localhost:8080/"
        },
        "id": "O4zNtpHJzoEZ",
        "outputId": "fe92fd9c-219b-4ab3-cf49-777d693718c7"
      },
      "execution_count": 204,
      "outputs": [
        {
          "output_type": "execute_result",
          "data": {
            "text/plain": [
              "test_accuracy     0.893034\n",
              "test_f1           0.675014\n",
              "test_recall       0.601411\n",
              "test_precision    0.770204\n",
              "dtype: float64"
            ]
          },
          "metadata": {},
          "execution_count": 204
        }
      ]
    },
    {
      "cell_type": "code",
      "source": [
        "y_pred = ada.predict(X_test_tf_idf)\n",
        "ada_AP_tfidf = viz.score_\n",
        "ada_tfidf_rec = recall_score(y_test, y_pred)\n",
        "ada_tfidf_f1 = f1_score(y_test,y_pred)"
      ],
      "metadata": {
        "id": "9-e7-55SzuKp"
      },
      "execution_count": 206,
      "outputs": []
    },
    {
      "cell_type": "markdown",
      "metadata": {
        "id": "15V3Ctnd6Z__"
      },
      "source": [
        "## DL modeling"
      ]
    },
    {
      "cell_type": "code",
      "execution_count": 207,
      "metadata": {
        "id": "BNkDcQ6Q6Z__"
      },
      "outputs": [],
      "source": [
        "from tensorflow.keras.models import Sequential\n",
        "from tensorflow.keras.layers import Dense, GRU, Embedding, Dropout\n",
        "from tensorflow.keras.optimizers import Adam\n",
        "from tensorflow.keras.preprocessing.text import Tokenizer\n",
        "from tensorflow.keras.preprocessing.sequence import pad_sequences"
      ]
    },
    {
      "cell_type": "code",
      "execution_count": 208,
      "metadata": {
        "id": "IUJCwGOE6aAA",
        "colab": {
          "base_uri": "https://localhost:8080/",
          "height": 206
        },
        "outputId": "4d4b768e-513a-476f-8adb-03bbc4edb67c"
      },
      "outputs": [
        {
          "output_type": "execute_result",
          "data": {
            "text/plain": [
              "                                                text  label\n",
              "0  Absolutely wonderful - silky and sexy and comf...      1\n",
              "1  Love this dress!  it's sooo pretty.  i happene...      1\n",
              "2  I had such high hopes for this dress and reall...      0\n",
              "3  I love, love, love this jumpsuit. it's fun, fl...      1\n",
              "4  This shirt is very flattering to all due to th...      1"
            ],
            "text/html": [
              "\n",
              "  <div id=\"df-8c15196c-2a2d-4822-b5c3-5c57661fb66f\">\n",
              "    <div class=\"colab-df-container\">\n",
              "      <div>\n",
              "<style scoped>\n",
              "    .dataframe tbody tr th:only-of-type {\n",
              "        vertical-align: middle;\n",
              "    }\n",
              "\n",
              "    .dataframe tbody tr th {\n",
              "        vertical-align: top;\n",
              "    }\n",
              "\n",
              "    .dataframe thead th {\n",
              "        text-align: right;\n",
              "    }\n",
              "</style>\n",
              "<table border=\"1\" class=\"dataframe\">\n",
              "  <thead>\n",
              "    <tr style=\"text-align: right;\">\n",
              "      <th></th>\n",
              "      <th>text</th>\n",
              "      <th>label</th>\n",
              "    </tr>\n",
              "  </thead>\n",
              "  <tbody>\n",
              "    <tr>\n",
              "      <th>0</th>\n",
              "      <td>Absolutely wonderful - silky and sexy and comf...</td>\n",
              "      <td>1</td>\n",
              "    </tr>\n",
              "    <tr>\n",
              "      <th>1</th>\n",
              "      <td>Love this dress!  it's sooo pretty.  i happene...</td>\n",
              "      <td>1</td>\n",
              "    </tr>\n",
              "    <tr>\n",
              "      <th>2</th>\n",
              "      <td>I had such high hopes for this dress and reall...</td>\n",
              "      <td>0</td>\n",
              "    </tr>\n",
              "    <tr>\n",
              "      <th>3</th>\n",
              "      <td>I love, love, love this jumpsuit. it's fun, fl...</td>\n",
              "      <td>1</td>\n",
              "    </tr>\n",
              "    <tr>\n",
              "      <th>4</th>\n",
              "      <td>This shirt is very flattering to all due to th...</td>\n",
              "      <td>1</td>\n",
              "    </tr>\n",
              "  </tbody>\n",
              "</table>\n",
              "</div>\n",
              "      <button class=\"colab-df-convert\" onclick=\"convertToInteractive('df-8c15196c-2a2d-4822-b5c3-5c57661fb66f')\"\n",
              "              title=\"Convert this dataframe to an interactive table.\"\n",
              "              style=\"display:none;\">\n",
              "        \n",
              "  <svg xmlns=\"http://www.w3.org/2000/svg\" height=\"24px\"viewBox=\"0 0 24 24\"\n",
              "       width=\"24px\">\n",
              "    <path d=\"M0 0h24v24H0V0z\" fill=\"none\"/>\n",
              "    <path d=\"M18.56 5.44l.94 2.06.94-2.06 2.06-.94-2.06-.94-.94-2.06-.94 2.06-2.06.94zm-11 1L8.5 8.5l.94-2.06 2.06-.94-2.06-.94L8.5 2.5l-.94 2.06-2.06.94zm10 10l.94 2.06.94-2.06 2.06-.94-2.06-.94-.94-2.06-.94 2.06-2.06.94z\"/><path d=\"M17.41 7.96l-1.37-1.37c-.4-.4-.92-.59-1.43-.59-.52 0-1.04.2-1.43.59L10.3 9.45l-7.72 7.72c-.78.78-.78 2.05 0 2.83L4 21.41c.39.39.9.59 1.41.59.51 0 1.02-.2 1.41-.59l7.78-7.78 2.81-2.81c.8-.78.8-2.07 0-2.86zM5.41 20L4 18.59l7.72-7.72 1.47 1.35L5.41 20z\"/>\n",
              "  </svg>\n",
              "      </button>\n",
              "      \n",
              "  <style>\n",
              "    .colab-df-container {\n",
              "      display:flex;\n",
              "      flex-wrap:wrap;\n",
              "      gap: 12px;\n",
              "    }\n",
              "\n",
              "    .colab-df-convert {\n",
              "      background-color: #E8F0FE;\n",
              "      border: none;\n",
              "      border-radius: 50%;\n",
              "      cursor: pointer;\n",
              "      display: none;\n",
              "      fill: #1967D2;\n",
              "      height: 32px;\n",
              "      padding: 0 0 0 0;\n",
              "      width: 32px;\n",
              "    }\n",
              "\n",
              "    .colab-df-convert:hover {\n",
              "      background-color: #E2EBFA;\n",
              "      box-shadow: 0px 1px 2px rgba(60, 64, 67, 0.3), 0px 1px 3px 1px rgba(60, 64, 67, 0.15);\n",
              "      fill: #174EA6;\n",
              "    }\n",
              "\n",
              "    [theme=dark] .colab-df-convert {\n",
              "      background-color: #3B4455;\n",
              "      fill: #D2E3FC;\n",
              "    }\n",
              "\n",
              "    [theme=dark] .colab-df-convert:hover {\n",
              "      background-color: #434B5C;\n",
              "      box-shadow: 0px 1px 3px 1px rgba(0, 0, 0, 0.15);\n",
              "      filter: drop-shadow(0px 1px 2px rgba(0, 0, 0, 0.3));\n",
              "      fill: #FFFFFF;\n",
              "    }\n",
              "  </style>\n",
              "\n",
              "      <script>\n",
              "        const buttonEl =\n",
              "          document.querySelector('#df-8c15196c-2a2d-4822-b5c3-5c57661fb66f button.colab-df-convert');\n",
              "        buttonEl.style.display =\n",
              "          google.colab.kernel.accessAllowed ? 'block' : 'none';\n",
              "\n",
              "        async function convertToInteractive(key) {\n",
              "          const element = document.querySelector('#df-8c15196c-2a2d-4822-b5c3-5c57661fb66f');\n",
              "          const dataTable =\n",
              "            await google.colab.kernel.invokeFunction('convertToInteractive',\n",
              "                                                     [key], {});\n",
              "          if (!dataTable) return;\n",
              "\n",
              "          const docLinkHtml = 'Like what you see? Visit the ' +\n",
              "            '<a target=\"_blank\" href=https://colab.research.google.com/notebooks/data_table.ipynb>data table notebook</a>'\n",
              "            + ' to learn more about interactive tables.';\n",
              "          element.innerHTML = '';\n",
              "          dataTable['output_type'] = 'display_data';\n",
              "          await google.colab.output.renderOutput(dataTable, element);\n",
              "          const docLink = document.createElement('div');\n",
              "          docLink.innerHTML = docLinkHtml;\n",
              "          element.appendChild(docLink);\n",
              "        }\n",
              "      </script>\n",
              "    </div>\n",
              "  </div>\n",
              "  "
            ]
          },
          "metadata": {},
          "execution_count": 208
        }
      ],
      "source": [
        "df.head()"
      ]
    },
    {
      "cell_type": "code",
      "source": [
        "df.shape"
      ],
      "metadata": {
        "colab": {
          "base_uri": "https://localhost:8080/"
        },
        "id": "32cmlEf4z7Pp",
        "outputId": "1b2a9130-08ec-43d0-f5e1-4b7cf7e9bbbc"
      },
      "execution_count": 209,
      "outputs": [
        {
          "output_type": "execute_result",
          "data": {
            "text/plain": [
              "(21175, 2)"
            ]
          },
          "metadata": {},
          "execution_count": 209
        }
      ]
    },
    {
      "cell_type": "markdown",
      "metadata": {
        "id": "PoVGV1Yw6aAA"
      },
      "source": [
        "### Tokenization"
      ]
    },
    {
      "cell_type": "code",
      "execution_count": 210,
      "metadata": {
        "id": "c_l8sO5D6aAA"
      },
      "outputs": [],
      "source": [
        "num_words = 15000 \n",
        "\n",
        "# corpusta geçen en fazla kullanılan ilk 15.000 kelimeyi(tokeni) alacağız gerisini yok sayacağız. \n",
        "# None değeri atanırsa tüm kelimeler dikkate alınır.\n",
        "\n",
        "\n",
        "tokenizer = Tokenizer(num_words=num_words) #filters='!\"#$%&()*+,-./:;<=>?@[\\\\]^_`{|}~\\t\\n1234567890' "
      ]
    },
    {
      "cell_type": "code",
      "source": [
        "tokenizer.fit_on_texts(X)"
      ],
      "metadata": {
        "id": "3GCUXFnLz9fj"
      },
      "execution_count": 211,
      "outputs": []
    },
    {
      "cell_type": "markdown",
      "metadata": {
        "id": "q_XoaVda6aAA"
      },
      "source": [
        "### Creating word index"
      ]
    },
    {
      "cell_type": "code",
      "execution_count": 212,
      "metadata": {
        "id": "O0y4NOyY6aAB",
        "colab": {
          "base_uri": "https://localhost:8080/"
        },
        "outputId": "b09a13cb-1717-44f7-9060-02a8cae87386"
      },
      "outputs": [
        {
          "output_type": "execute_result",
          "data": {
            "text/plain": [
              "{'the': 1,\n",
              " 'i': 2,\n",
              " 'and': 3,\n",
              " 'a': 4,\n",
              " 'it': 5,\n",
              " 'is': 6,\n",
              " 'this': 7,\n",
              " 'to': 8,\n",
              " 'in': 9,\n",
              " 'but': 10,\n",
              " 'on': 11,\n",
              " 'for': 12,\n",
              " 'of': 13,\n",
              " 'with': 14,\n",
              " 'so': 15,\n",
              " 'was': 16,\n",
              " 'my': 17,\n",
              " 'dress': 18,\n",
              " 'not': 19,\n",
              " 'that': 20,\n",
              " 'love': 21,\n",
              " 'size': 22,\n",
              " 'very': 23,\n",
              " 'have': 24,\n",
              " 'top': 25,\n",
              " 'are': 26,\n",
              " 'fit': 27,\n",
              " 'like': 28,\n",
              " 'be': 29,\n",
              " 'as': 30,\n",
              " 'wear': 31,\n",
              " 'me': 32,\n",
              " \"it's\": 33,\n",
              " 'great': 34,\n",
              " 'or': 35,\n",
              " 'too': 36,\n",
              " \"i'm\": 37,\n",
              " 'am': 38,\n",
              " 'just': 39,\n",
              " 'you': 40,\n",
              " 'they': 41,\n",
              " 'up': 42,\n",
              " 'would': 43,\n",
              " 'at': 44,\n",
              " 'fabric': 45,\n",
              " 'small': 46,\n",
              " 'color': 47,\n",
              " 'look': 48,\n",
              " 'more': 49,\n",
              " 'perfect': 50,\n",
              " 'really': 51,\n",
              " 'little': 52,\n",
              " 'ordered': 53,\n",
              " 'if': 54,\n",
              " 'these': 55,\n",
              " 'will': 56,\n",
              " 'one': 57,\n",
              " 'flattering': 58,\n",
              " 'soft': 59,\n",
              " 'well': 60,\n",
              " 'an': 61,\n",
              " 'out': 62,\n",
              " 'can': 63,\n",
              " 'comfortable': 64,\n",
              " 'back': 65,\n",
              " 'because': 66,\n",
              " 'had': 67,\n",
              " 'bought': 68,\n",
              " '\\r': 69,\n",
              " 'nice': 70,\n",
              " 'cute': 71,\n",
              " 'beautiful': 72,\n",
              " 'than': 73,\n",
              " 'fits': 74,\n",
              " 'looks': 75,\n",
              " 'all': 76,\n",
              " 'when': 77,\n",
              " 'bit': 78,\n",
              " 'down': 79,\n",
              " 'shirt': 80,\n",
              " 'which': 81,\n",
              " 'large': 82,\n",
              " 'material': 83,\n",
              " 'them': 84,\n",
              " 'length': 85,\n",
              " 'much': 86,\n",
              " 'sweater': 87,\n",
              " 'has': 88,\n",
              " 'also': 89,\n",
              " 'jeans': 90,\n",
              " 'long': 91,\n",
              " 'got': 92,\n",
              " 'colors': 93,\n",
              " 'petite': 94,\n",
              " 'waist': 95,\n",
              " 'quality': 96,\n",
              " 'medium': 97,\n",
              " 'xs': 98,\n",
              " 'think': 99,\n",
              " 'even': 100,\n",
              " 'pretty': 101,\n",
              " 'retailer': 102,\n",
              " 'work': 103,\n",
              " 'tried': 104,\n",
              " 'store': 105,\n",
              " 'from': 106,\n",
              " 'usually': 107,\n",
              " 'skirt': 108,\n",
              " 'other': 109,\n",
              " 'pants': 110,\n",
              " 'about': 111,\n",
              " 'good': 112,\n",
              " 'get': 113,\n",
              " 'only': 114,\n",
              " 'short': 115,\n",
              " 'made': 116,\n",
              " 'could': 117,\n",
              " 'way': 118,\n",
              " 'cut': 119,\n",
              " 'black': 120,\n",
              " 'big': 121,\n",
              " 'see': 122,\n",
              " 'super': 123,\n",
              " 'true': 124,\n",
              " 'still': 125,\n",
              " \"don't\": 126,\n",
              " 'right': 127,\n",
              " \"didn't\": 128,\n",
              " 'were': 129,\n",
              " 'there': 130,\n",
              " 'did': 131,\n",
              " 'runs': 132,\n",
              " 'style': 133,\n",
              " 'do': 134,\n",
              " 'online': 135,\n",
              " 'summer': 136,\n",
              " 'sleeves': 137,\n",
              " 'purchased': 138,\n",
              " 'no': 139,\n",
              " 'wearing': 140,\n",
              " 'white': 141,\n",
              " 'does': 142,\n",
              " 'go': 143,\n",
              " 'feel': 144,\n",
              " 'design': 145,\n",
              " 'perfectly': 146,\n",
              " 'enough': 147,\n",
              " 'off': 148,\n",
              " 'tight': 149,\n",
              " 'over': 150,\n",
              " 'however': 151,\n",
              " 'some': 152,\n",
              " 'definitely': 153,\n",
              " '4': 154,\n",
              " 'blue': 155,\n",
              " 'sale': 156,\n",
              " 'person': 157,\n",
              " 'model': 158,\n",
              " 'front': 159,\n",
              " '2': 160,\n",
              " 'though': 161,\n",
              " 'lbs': 162,\n",
              " 'price': 163,\n",
              " 'been': 164,\n",
              " 'how': 165,\n",
              " 'looked': 166,\n",
              " 'fall': 167,\n",
              " 'jacket': 168,\n",
              " 'loved': 169,\n",
              " 'what': 170,\n",
              " 'first': 171,\n",
              " 'your': 172,\n",
              " 'better': 173,\n",
              " 'bottom': 174,\n",
              " 'high': 175,\n",
              " 'worn': 176,\n",
              " 'loose': 177,\n",
              " 'body': 178,\n",
              " '6': 179,\n",
              " 'try': 180,\n",
              " 'going': 181,\n",
              " 'regular': 182,\n",
              " 'time': 183,\n",
              " 'many': 184,\n",
              " 'looking': 185,\n",
              " 'light': 186,\n",
              " 'around': 187,\n",
              " 'shape': 188,\n",
              " 'make': 189,\n",
              " 'both': 190,\n",
              " 'piece': 191,\n",
              " 'saw': 192,\n",
              " 'casual': 193,\n",
              " 'lovely': 194,\n",
              " 'gorgeous': 195,\n",
              " 'thought': 196,\n",
              " 's': 197,\n",
              " 'compliments': 198,\n",
              " 'makes': 199,\n",
              " 'without': 200,\n",
              " 'recommend': 201,\n",
              " 'chest': 202,\n",
              " 'through': 203,\n",
              " 'shoulders': 204,\n",
              " 'arms': 205,\n",
              " 'after': 206,\n",
              " 'wanted': 207,\n",
              " 'thin': 208,\n",
              " 'went': 209,\n",
              " \"doesn't\": 210,\n",
              " 'being': 211,\n",
              " 'pattern': 212,\n",
              " 'pair': 213,\n",
              " 'bust': 214,\n",
              " 'side': 215,\n",
              " 'wore': 216,\n",
              " 'blouse': 217,\n",
              " 'need': 218,\n",
              " 'found': 219,\n",
              " 'want': 220,\n",
              " 'find': 221,\n",
              " 'tops': 222,\n",
              " 'weight': 223,\n",
              " 'run': 224,\n",
              " \"can't\": 225,\n",
              " 'reviews': 226,\n",
              " \"i've\": 227,\n",
              " 'sure': 228,\n",
              " 'bra': 229,\n",
              " 'buy': 230,\n",
              " 'picture': 231,\n",
              " 'since': 232,\n",
              " 'wish': 233,\n",
              " 'print': 234,\n",
              " 'comfy': 235,\n",
              " 'usual': 236,\n",
              " 'dresses': 237,\n",
              " 'received': 238,\n",
              " '8': 239,\n",
              " 'normally': 240,\n",
              " 'its': 241,\n",
              " 'while': 242,\n",
              " 'hips': 243,\n",
              " 'by': 244,\n",
              " 'different': 245,\n",
              " 'lot': 246,\n",
              " 'order': 247,\n",
              " 'absolutely': 248,\n",
              " 'any': 249,\n",
              " 'longer': 250,\n",
              " 'most': 251,\n",
              " 'm': 252,\n",
              " 'slightly': 253,\n",
              " 'detail': 254,\n",
              " 'fitted': 255,\n",
              " 'overall': 256,\n",
              " 'nicely': 257,\n",
              " 'day': 258,\n",
              " 'may': 259,\n",
              " 'green': 260,\n",
              " 'quite': 261,\n",
              " 'red': 262,\n",
              " 'leggings': 263,\n",
              " '5': 264,\n",
              " 'two': 265,\n",
              " 'easy': 266,\n",
              " 'underneath': 267,\n",
              " 'another': 268,\n",
              " 'then': 269,\n",
              " 'happy': 270,\n",
              " 'keep': 271,\n",
              " 'might': 272,\n",
              " 'neck': 273,\n",
              " 'stretch': 274,\n",
              " 'unique': 275,\n",
              " 'fun': 276,\n",
              " 'say': 277,\n",
              " 'now': 278,\n",
              " 'under': 279,\n",
              " 'felt': 280,\n",
              " 'wide': 281,\n",
              " 'lace': 282,\n",
              " 'extra': 283,\n",
              " 'tank': 284,\n",
              " \"wasn't\": 285,\n",
              " 'boxy': 286,\n",
              " 'warm': 287,\n",
              " 'actually': 288,\n",
              " 'return': 289,\n",
              " '10': 290,\n",
              " 'almost': 291,\n",
              " 'photo': 292,\n",
              " 'sizing': 293,\n",
              " 'probably': 294,\n",
              " 'something': 295,\n",
              " 'dressed': 296,\n",
              " 'flowy': 297,\n",
              " 'sizes': 298,\n",
              " 'glad': 299,\n",
              " 'purchase': 300,\n",
              " 'fine': 301,\n",
              " 'tee': 302,\n",
              " 'boots': 303,\n",
              " 'sheer': 304,\n",
              " 'pockets': 305,\n",
              " 'low': 306,\n",
              " 'feels': 307,\n",
              " \"5'4\": 308,\n",
              " 't': 309,\n",
              " 'worth': 310,\n",
              " 'into': 311,\n",
              " 'every': 312,\n",
              " 'area': 313,\n",
              " 'such': 314,\n",
              " 'same': 315,\n",
              " 'full': 316,\n",
              " 'between': 317,\n",
              " 'give': 318,\n",
              " 'smaller': 319,\n",
              " 'spring': 320,\n",
              " 'yet': 321,\n",
              " 'put': 322,\n",
              " 'tts': 323,\n",
              " 'always': 324,\n",
              " 'said': 325,\n",
              " 'shorter': 326,\n",
              " 'denim': 327,\n",
              " 'buttons': 328,\n",
              " 'wait': 329,\n",
              " 'versatile': 330,\n",
              " 'tall': 331,\n",
              " 'everything': 332,\n",
              " 'navy': 333,\n",
              " 'reference': 334,\n",
              " 'skinny': 335,\n",
              " 'unfortunately': 336,\n",
              " 'sized': 337,\n",
              " 'winter': 338,\n",
              " 'neckline': 339,\n",
              " 'disappointed': 340,\n",
              " 'favorite': 341,\n",
              " 'line': 342,\n",
              " 'above': 343,\n",
              " 'adorable': 344,\n",
              " 'especially': 345,\n",
              " 'maybe': 346,\n",
              " 'should': 347,\n",
              " 'decided': 348,\n",
              " 'thick': 349,\n",
              " 'part': 350,\n",
              " 'liked': 351,\n",
              " 'easily': 352,\n",
              " 'shorts': 353,\n",
              " 'grey': 354,\n",
              " 'larger': 355,\n",
              " 'where': 356,\n",
              " \"i'd\": 357,\n",
              " 'amazing': 358,\n",
              " 'heavy': 359,\n",
              " 'pink': 360,\n",
              " 'fitting': 361,\n",
              " 'came': 362,\n",
              " 'huge': 363,\n",
              " 'coat': 364,\n",
              " 'details': 365,\n",
              " 'best': 366,\n",
              " 'room': 367,\n",
              " 'take': 368,\n",
              " 'lightweight': 369,\n",
              " 'thing': 370,\n",
              " 'snug': 371,\n",
              " 'problem': 372,\n",
              " 'returned': 373,\n",
              " 'button': 374,\n",
              " 'figure': 375,\n",
              " 'feminine': 376,\n",
              " 'reviewers': 377,\n",
              " \"5'3\": 378,\n",
              " \"isn't\": 379,\n",
              " 'slip': 380,\n",
              " 'seems': 381,\n",
              " 'wash': 382,\n",
              " 'normal': 383,\n",
              " 'few': 384,\n",
              " '3': 385,\n",
              " 'cotton': 386,\n",
              " 'hem': 387,\n",
              " 'tunic': 388,\n",
              " 'knee': 389,\n",
              " 'pictured': 390,\n",
              " 'took': 391,\n",
              " \"couldn't\": 392,\n",
              " 'knit': 393,\n",
              " 'cardigan': 394,\n",
              " 'know': 395,\n",
              " 'goes': 396,\n",
              " 'dark': 397,\n",
              " 'l': 398,\n",
              " 'beautifully': 399,\n",
              " 'cami': 400,\n",
              " 'highly': 401,\n",
              " 'works': 402,\n",
              " 'kind': 403,\n",
              " 'embroidery': 404,\n",
              " \"that's\": 405,\n",
              " \"5'2\": 406,\n",
              " '0': 407,\n",
              " 'hit': 408,\n",
              " 'hits': 409,\n",
              " \"5'5\": 410,\n",
              " 'belt': 411,\n",
              " 'curvy': 412,\n",
              " 'show': 413,\n",
              " 'reviewer': 414,\n",
              " 'lined': 415,\n",
              " 'extremely': 416,\n",
              " 'lining': 417,\n",
              " 'able': 418,\n",
              " 'xl': 419,\n",
              " 'expected': 420,\n",
              " 'although': 421,\n",
              " 'torso': 422,\n",
              " 'never': 423,\n",
              " 'typically': 424,\n",
              " 'once': 425,\n",
              " 'anything': 426,\n",
              " \"i'll\": 427,\n",
              " '12': 428,\n",
              " 'before': 429,\n",
              " 'legs': 430,\n",
              " 'today': 431,\n",
              " 'arm': 432,\n",
              " 'washed': 433,\n",
              " 'year': 434,\n",
              " 'returning': 435,\n",
              " 'frame': 436,\n",
              " 'excited': 437,\n",
              " 'new': 438,\n",
              " 'either': 439,\n",
              " 'weather': 440,\n",
              " \"5'7\": 441,\n",
              " 'those': 442,\n",
              " 'cool': 443,\n",
              " 'ended': 444,\n",
              " 'who': 445,\n",
              " 'sleeve': 446,\n",
              " 'xxs': 447,\n",
              " 'shown': 448,\n",
              " 'stretchy': 449,\n",
              " 'gray': 450,\n",
              " 'things': 451,\n",
              " 'needed': 452,\n",
              " 'sold': 453,\n",
              " \"5'6\": 454,\n",
              " 'below': 455,\n",
              " 'shoulder': 456,\n",
              " 'issue': 457,\n",
              " 'last': 458,\n",
              " 'photos': 459,\n",
              " 'bad': 460,\n",
              " 'trying': 461,\n",
              " 'tie': 462,\n",
              " 'already': 463,\n",
              " 'wardrobe': 464,\n",
              " 'fell': 465,\n",
              " 'days': 466,\n",
              " \"you're\": 467,\n",
              " 'hard': 468,\n",
              " 'cozy': 469,\n",
              " 'layer': 470,\n",
              " 'add': 471,\n",
              " 'zipper': 472,\n",
              " 'exactly': 473,\n",
              " 'holes': 474,\n",
              " 'agree': 475,\n",
              " 'someone': 476,\n",
              " 'why': 477,\n",
              " 'suit': 478,\n",
              " 'brand': 479,\n",
              " 'type': 480,\n",
              " 'arrived': 481,\n",
              " 'come': 482,\n",
              " 'heels': 483,\n",
              " '26': 484,\n",
              " 'local': 485,\n",
              " 'orange': 486,\n",
              " 'hot': 487,\n",
              " 'cheap': 488,\n",
              " 'due': 489,\n",
              " 'across': 490,\n",
              " 'ever': 491,\n",
              " 'otherwise': 492,\n",
              " 'straps': 493,\n",
              " 'skin': 494,\n",
              " 'again': 495,\n",
              " 'stylish': 496,\n",
              " 'away': 497,\n",
              " 'vest': 498,\n",
              " 'hoping': 499,\n",
              " 'tad': 500,\n",
              " 'classic': 501,\n",
              " \"5'8\": 502,\n",
              " 'swing': 503,\n",
              " 'plan': 504,\n",
              " \"5'\": 505,\n",
              " 'inches': 506,\n",
              " 'vibrant': 507,\n",
              " 'must': 508,\n",
              " 'open': 509,\n",
              " 'unflattering': 510,\n",
              " \"wouldn't\": 511,\n",
              " 'getting': 512,\n",
              " 'rather': 513,\n",
              " 'wonderful': 514,\n",
              " 'surprised': 515,\n",
              " \"they're\": 516,\n",
              " 'pilcro': 517,\n",
              " 'several': 518,\n",
              " 'dry': 519,\n",
              " 'sides': 520,\n",
              " 'keeping': 521,\n",
              " 'ran': 522,\n",
              " 'least': 523,\n",
              " 'touch': 524,\n",
              " 'delicate': 525,\n",
              " 'others': 526,\n",
              " '1': 527,\n",
              " 'plus': 528,\n",
              " 'pounds': 529,\n",
              " 'baggy': 530,\n",
              " 'pull': 531,\n",
              " 'pictures': 532,\n",
              " 'drapes': 533,\n",
              " 'slim': 534,\n",
              " 'sadly': 535,\n",
              " 'years': 536,\n",
              " 'less': 537,\n",
              " 'simple': 538,\n",
              " 'stunning': 539,\n",
              " 'roomy': 540,\n",
              " 'bright': 541,\n",
              " 'straight': 542,\n",
              " 'based': 543,\n",
              " 'nothing': 544,\n",
              " 'paired': 545,\n",
              " 'shirts': 546,\n",
              " 'use': 547,\n",
              " 'yellow': 548,\n",
              " 'ordering': 549,\n",
              " '27': 550,\n",
              " 'item': 551,\n",
              " 'night': 552,\n",
              " 'skirts': 553,\n",
              " 'drape': 554,\n",
              " 'hangs': 555,\n",
              " 'sometimes': 556,\n",
              " 'tights': 557,\n",
              " 'kept': 558,\n",
              " 'their': 559,\n",
              " 'gives': 560,\n",
              " 'available': 561,\n",
              " 'ankle': 562,\n",
              " 'cropped': 563,\n",
              " 'myself': 564,\n",
              " 'times': 565,\n",
              " 'seem': 566,\n",
              " 'waisted': 567,\n",
              " '28': 568,\n",
              " 'review': 569,\n",
              " 'own': 570,\n",
              " 'flat': 571,\n",
              " 'buying': 572,\n",
              " 'v': 573,\n",
              " 'itchy': 574,\n",
              " 'version': 575,\n",
              " 'wedding': 576,\n",
              " 'worked': 577,\n",
              " 'oversized': 578,\n",
              " 'adds': 579,\n",
              " 'instead': 580,\n",
              " 'far': 581,\n",
              " 'previous': 582,\n",
              " 'special': 583,\n",
              " 'bigger': 584,\n",
              " 'immediately': 585,\n",
              " 'lots': 586,\n",
              " 'staple': 587,\n",
              " 'comes': 588,\n",
              " 'tiny': 589,\n",
              " 'she': 590,\n",
              " 'sandals': 591,\n",
              " 'booties': 592,\n",
              " 'busty': 593,\n",
              " 'falls': 594,\n",
              " 'cover': 595,\n",
              " 'lower': 596,\n",
              " 'making': 597,\n",
              " 'ivory': 598,\n",
              " 'here': 599,\n",
              " 'flare': 600,\n",
              " 'season': 601,\n",
              " \"5'1\": 602,\n",
              " \"won't\": 603,\n",
              " 'mine': 604,\n",
              " 'mentioned': 605,\n",
              " 'seemed': 606,\n",
              " 'higher': 607,\n",
              " 'mid': 608,\n",
              " 'totally': 609,\n",
              " 'cold': 610,\n",
              " 'having': 611,\n",
              " '115': 612,\n",
              " 'jean': 613,\n",
              " \"5'9\": 614,\n",
              " 'second': 615,\n",
              " 'end': 616,\n",
              " 'elastic': 617,\n",
              " 'leg': 618,\n",
              " 'athletic': 619,\n",
              " 'form': 620,\n",
              " 'neutral': 621,\n",
              " 'texture': 622,\n",
              " 'collar': 623,\n",
              " 'completely': 624,\n",
              " 'often': 625,\n",
              " 'knees': 626,\n",
              " 'knew': 627,\n",
              " 'worried': 628,\n",
              " 'wool': 629,\n",
              " 'slimming': 630,\n",
              " 'clothes': 631,\n",
              " 'incredibly': 632,\n",
              " 'jumpsuit': 633,\n",
              " 'used': 634,\n",
              " 'months': 635,\n",
              " 'sexy': 636,\n",
              " 'shows': 637,\n",
              " 'read': 638,\n",
              " 'finally': 639,\n",
              " 'eye': 640,\n",
              " 'interesting': 641,\n",
              " 'flats': 642,\n",
              " 'basic': 643,\n",
              " 'layering': 644,\n",
              " 'cream': 645,\n",
              " 'thinking': 646,\n",
              " 'curves': 647,\n",
              " 'awesome': 648,\n",
              " 'prefer': 649,\n",
              " 'stiff': 650,\n",
              " 'clothing': 651,\n",
              " 'fact': 652,\n",
              " 'throw': 653,\n",
              " \"there's\": 654,\n",
              " 'similar': 655,\n",
              " '120': 656,\n",
              " 'people': 657,\n",
              " 'dressy': 658,\n",
              " 'weird': 659,\n",
              " 'hope': 660,\n",
              " 'elegant': 661,\n",
              " 'linen': 662,\n",
              " 'gotten': 663,\n",
              " 'substantial': 664,\n",
              " 'sweaters': 665,\n",
              " 'bulky': 666,\n",
              " 'inside': 667,\n",
              " 'amount': 668,\n",
              " 'outfit': 669,\n",
              " 'else': 670,\n",
              " 'brown': 671,\n",
              " 'rich': 672,\n",
              " 'b': 673,\n",
              " 'subtle': 674,\n",
              " 'closet': 675,\n",
              " 'broad': 676,\n",
              " 'ok': 677,\n",
              " 'mind': 678,\n",
              " 'deep': 679,\n",
              " 'half': 680,\n",
              " 'appears': 681,\n",
              " 'addition': 682,\n",
              " 'gave': 683,\n",
              " 'justice': 684,\n",
              " 'hourglass': 685,\n",
              " 'during': 686,\n",
              " 'c': 687,\n",
              " 'next': 688,\n",
              " 'hip': 689,\n",
              " 'upper': 690,\n",
              " 'depending': 691,\n",
              " 'wrong': 692,\n",
              " 'flow': 693,\n",
              " 'maternity': 694,\n",
              " 'home': 695,\n",
              " '135': 696,\n",
              " 'appropriate': 697,\n",
              " 'reason': 698,\n",
              " 'soon': 699,\n",
              " 'odd': 700,\n",
              " 'point': 701,\n",
              " 'couple': 702,\n",
              " 'mail': 703,\n",
              " '34b': 704,\n",
              " 'colored': 705,\n",
              " 'tell': 706,\n",
              " 'armholes': 707,\n",
              " '25': 708,\n",
              " 'washing': 709,\n",
              " 'detailing': 710,\n",
              " 'purple': 711,\n",
              " '30': 712,\n",
              " 'pleased': 713,\n",
              " 'baby': 714,\n",
              " 'left': 715,\n",
              " 'her': 716,\n",
              " 'pant': 717,\n",
              " 'somewhat': 718,\n",
              " 'expect': 719,\n",
              " 'forward': 720,\n",
              " 'nude': 721,\n",
              " 'peplum': 722,\n",
              " 'until': 723,\n",
              " 'complaint': 724,\n",
              " 'stripes': 725,\n",
              " 'thighs': 726,\n",
              " 'rise': 727,\n",
              " '34c': 728,\n",
              " 'yes': 729,\n",
              " 'close': 730,\n",
              " 'hang': 731,\n",
              " 'case': 732,\n",
              " 'cannot': 733,\n",
              " '125': 734,\n",
              " '140': 735,\n",
              " 'thicker': 736,\n",
              " 'hold': 737,\n",
              " 'hand': 738,\n",
              " 'looser': 739,\n",
              " 'together': 740,\n",
              " 'w': 741,\n",
              " 'anyway': 742,\n",
              " 'flows': 743,\n",
              " \"haven't\": 744,\n",
              " 'seam': 745,\n",
              " 'silk': 746,\n",
              " 'darker': 747,\n",
              " 'pieces': 748,\n",
              " 'gold': 749,\n",
              " 'classy': 750,\n",
              " 'fairly': 751,\n",
              " 'except': 752,\n",
              " 'expecting': 753,\n",
              " 'fabulous': 754,\n",
              " 'slight': 755,\n",
              " 'blazer': 756,\n",
              " '130': 757,\n",
              " 'office': 758,\n",
              " 'maeve': 759,\n",
              " 'floral': 760,\n",
              " 'fan': 761,\n",
              " 'real': 762,\n",
              " 'bottoms': 763,\n",
              " 'chic': 764,\n",
              " 'along': 765,\n",
              " 'bodice': 766,\n",
              " 'everywhere': 767,\n",
              " 'gone': 768,\n",
              " 'motif': 769,\n",
              " 'truly': 770,\n",
              " 'idea': 771,\n",
              " 'old': 772,\n",
              " 'items': 773,\n",
              " 'tent': 774,\n",
              " 'feeling': 775,\n",
              " 'build': 776,\n",
              " 'product': 777,\n",
              " 'deal': 778,\n",
              " 'exchange': 779,\n",
              " 'added': 780,\n",
              " 'spot': 781,\n",
              " 'fantastic': 782,\n",
              " 'middle': 783,\n",
              " 'heavier': 784,\n",
              " 'typical': 785,\n",
              " 'place': 786,\n",
              " 'zip': 787,\n",
              " 'perhaps': 788,\n",
              " 'sweatshirt': 789,\n",
              " 'live': 790,\n",
              " '34': 791,\n",
              " 'inch': 792,\n",
              " 'past': 793,\n",
              " 'awkward': 794,\n",
              " 'three': 795,\n",
              " 'we': 796,\n",
              " 'anyone': 797,\n",
              " 'taller': 798,\n",
              " 'pulled': 799,\n",
              " 'leather': 800,\n",
              " 'butt': 801,\n",
              " 'tummy': 802,\n",
              " 'pairs': 803,\n",
              " 'barely': 804,\n",
              " 'hung': 805,\n",
              " 'belly': 806,\n",
              " 'seen': 807,\n",
              " 'waistband': 808,\n",
              " 'imagine': 809,\n",
              " 'noticed': 810,\n",
              " 'sad': 811,\n",
              " 'opinion': 812,\n",
              " 'showing': 813,\n",
              " 'sort': 814,\n",
              " 'tag': 815,\n",
              " 'romper': 816,\n",
              " 'weekend': 817,\n",
              " 'issues': 818,\n",
              " 'necklace': 819,\n",
              " '34d': 820,\n",
              " 'band': 821,\n",
              " 'places': 822,\n",
              " 'meant': 823,\n",
              " 'transition': 824,\n",
              " 'whole': 825,\n",
              " 'each': 826,\n",
              " 'reading': 827,\n",
              " 'itself': 828,\n",
              " 'running': 829,\n",
              " 'coverage': 830,\n",
              " 'narrow': 831,\n",
              " 'comfort': 832,\n",
              " 'lay': 833,\n",
              " '29': 834,\n",
              " 'styling': 835,\n",
              " 'says': 836,\n",
              " \"5'10\": 837,\n",
              " 'party': 838,\n",
              " 'please': 839,\n",
              " 'seams': 840,\n",
              " 'stitching': 841,\n",
              " 'lighter': 842,\n",
              " 'glove': 843,\n",
              " 'generally': 844,\n",
              " 'clingy': 845,\n",
              " '14': 846,\n",
              " 'sewn': 847,\n",
              " 'women': 848,\n",
              " 'excellent': 849,\n",
              " 'stay': 850,\n",
              " 'believe': 851,\n",
              " 'caught': 852,\n",
              " 'beach': 853,\n",
              " 'ago': 854,\n",
              " 'needs': 855,\n",
              " 'done': 856,\n",
              " 'rest': 857,\n",
              " 'unless': 858,\n",
              " 'husband': 859,\n",
              " 'seasons': 860,\n",
              " 'stars': 861,\n",
              " 'dinner': 862,\n",
              " 'chested': 863,\n",
              " 'lines': 864,\n",
              " 'relaxed': 865,\n",
              " 'scratchy': 866,\n",
              " 'airy': 867,\n",
              " 'cup': 868,\n",
              " 'chance': 869,\n",
              " 'tucked': 870,\n",
              " 'pregnant': 871,\n",
              " \"aren't\": 872,\n",
              " 'sack': 873,\n",
              " 'finding': 874,\n",
              " 'difficult': 875,\n",
              " 'girls': 876,\n",
              " 'slender': 877,\n",
              " 'coral': 878,\n",
              " 'slits': 879,\n",
              " 'strange': 880,\n",
              " '100': 881,\n",
              " 'forgiving': 882,\n",
              " 'frumpy': 883,\n",
              " 'height': 884,\n",
              " 'house': 885,\n",
              " 'girl': 886,\n",
              " 'money': 887,\n",
              " 'hide': 888,\n",
              " 'portion': 889,\n",
              " 'plenty': 890,\n",
              " 'cooler': 891,\n",
              " 'etc': 892,\n",
              " 'shaped': 893,\n",
              " 'tailored': 894,\n",
              " 'silhouette': 895,\n",
              " 'shade': 896,\n",
              " 'everyone': 897,\n",
              " 'expensive': 898,\n",
              " 'wider': 899,\n",
              " 'camisole': 900,\n",
              " 'prettier': 901,\n",
              " 'd': 902,\n",
              " 'bag': 903,\n",
              " 'structured': 904,\n",
              " 'maxi': 905,\n",
              " 'silky': 906,\n",
              " 'solid': 907,\n",
              " 'simply': 908,\n",
              " 'keeper': 909,\n",
              " 'help': 910,\n",
              " '36': 911,\n",
              " 'life': 912,\n",
              " 'care': 913,\n",
              " 'swingy': 914,\n",
              " 'clean': 915,\n",
              " 'adore': 916,\n",
              " 'ladies': 917,\n",
              " 'originally': 918,\n",
              " 'despite': 919,\n",
              " 'patterns': 920,\n",
              " 'stomach': 921,\n",
              " 'purchasing': 922,\n",
              " 'pencil': 923,\n",
              " 'jackets': 924,\n",
              " 'option': 925,\n",
              " 'wrinkle': 926,\n",
              " 'pear': 927,\n",
              " 'p': 928,\n",
              " 'wow': 929,\n",
              " '39': 930,\n",
              " 'description': 931,\n",
              " 'pleats': 932,\n",
              " 'surprise': 933,\n",
              " 'hanging': 934,\n",
              " '38': 935,\n",
              " 'round': 936,\n",
              " 'stock': 937,\n",
              " 'dressing': 938,\n",
              " 'recently': 939,\n",
              " 'natural': 940,\n",
              " 'daughter': 941,\n",
              " '40': 942,\n",
              " 'layered': 943,\n",
              " 'beading': 944,\n",
              " 'yesterday': 945,\n",
              " 'thigh': 946,\n",
              " 'website': 947,\n",
              " 'ag': 948,\n",
              " 'plaid': 949,\n",
              " 'considering': 950,\n",
              " 'plain': 951,\n",
              " 'hanger': 952,\n",
              " 'shapeless': 953,\n",
              " 'note': 954,\n",
              " 'flowers': 955,\n",
              " 'polyester': 956,\n",
              " 'beige': 957,\n",
              " 'ways': 958,\n",
              " 'poor': 959,\n",
              " 'hole': 960,\n",
              " 'oh': 961,\n",
              " 'layers': 962,\n",
              " 'ruffle': 963,\n",
              " 'tend': 964,\n",
              " 'sweet': 965,\n",
              " 'given': 966,\n",
              " 'guess': 967,\n",
              " 'everyday': 968,\n",
              " 'week': 969,\n",
              " 'holiday': 970,\n",
              " '36c': 971,\n",
              " 'covers': 972,\n",
              " 'average': 973,\n",
              " 'hides': 974,\n",
              " '32': 975,\n",
              " 'pass': 976,\n",
              " 'afraid': 977,\n",
              " 'pale': 978,\n",
              " 'us': 979,\n",
              " 'flowing': 980,\n",
              " 'let': 981,\n",
              " 'shoes': 982,\n",
              " 'pricey': 983,\n",
              " 'designed': 984,\n",
              " 'helps': 985,\n",
              " 'uncomfortable': 986,\n",
              " 'scarf': 987,\n",
              " 'machine': 988,\n",
              " 'flares': 989,\n",
              " 'snag': 990,\n",
              " 'stated': 991,\n",
              " 'twice': 992,\n",
              " 'weeks': 993,\n",
              " 'cuter': 994,\n",
              " 'petites': 995,\n",
              " 'section': 996,\n",
              " 'throughout': 997,\n",
              " 'slit': 998,\n",
              " 'evening': 999,\n",
              " 'tons': 1000,\n",
              " ...}"
            ]
          },
          "metadata": {},
          "execution_count": 212
        }
      ],
      "source": [
        "tokenizer.word_index"
      ]
    },
    {
      "cell_type": "code",
      "execution_count": 213,
      "metadata": {
        "id": "fjrohIor6aAF",
        "colab": {
          "base_uri": "https://localhost:8080/"
        },
        "outputId": "308647a5-5d69-4782-f95b-e62f36d6eb1e"
      },
      "outputs": [
        {
          "output_type": "execute_result",
          "data": {
            "text/plain": [
              "14389"
            ]
          },
          "metadata": {},
          "execution_count": 213
        }
      ],
      "source": [
        "len(tokenizer.word_index)"
      ]
    },
    {
      "cell_type": "markdown",
      "metadata": {
        "id": "JzyJ5M9z6aAF"
      },
      "source": [
        "### Converting tokens to numeric"
      ]
    },
    {
      "cell_type": "code",
      "execution_count": 214,
      "metadata": {
        "id": "vschmJig6aAF"
      },
      "outputs": [],
      "source": [
        "X_num_tokens = tokenizer.texts_to_sequences(X)"
      ]
    },
    {
      "cell_type": "code",
      "execution_count": 215,
      "metadata": {
        "id": "4m8OT1pd6aAF",
        "colab": {
          "base_uri": "https://localhost:8080/",
          "height": 70
        },
        "outputId": "481f2039-9418-431d-defd-9674239b28ba"
      },
      "outputs": [
        {
          "output_type": "execute_result",
          "data": {
            "text/plain": [
              "'The shirt is exactly as it is pictured, i have the burnt orange color and love it! i received numerous compliments both paired with jeans and tucked into a fun skirt. it fits true to size, as i normally wear a small in all retailer however it is the slightest bit tight in the shoulders. i would give this top a 5/5.'"
            ],
            "application/vnd.google.colaboratory.intrinsic+json": {
              "type": "string"
            }
          },
          "metadata": {},
          "execution_count": 215
        }
      ],
      "source": [
        "X[100]"
      ]
    },
    {
      "cell_type": "code",
      "source": [
        "print(X_num_tokens[100])"
      ],
      "metadata": {
        "colab": {
          "base_uri": "https://localhost:8080/"
        },
        "id": "K4wyU0Sh1KSy",
        "outputId": "a281cc29-f7d9-40b1-de6c-7fa2613a0b53"
      },
      "execution_count": 216,
      "outputs": [
        {
          "output_type": "stream",
          "name": "stdout",
          "text": [
            "[1, 80, 6, 473, 30, 5, 6, 390, 2, 24, 1, 1909, 486, 47, 3, 21, 5, 2, 238, 2140, 198, 190, 545, 14, 90, 3, 870, 311, 4, 276, 108, 5, 74, 124, 8, 22, 30, 2, 240, 31, 4, 46, 9, 76, 102, 151, 5, 6, 1, 2848, 78, 149, 9, 1, 204, 2, 43, 318, 7, 25, 4, 264, 264]\n"
          ]
        }
      ]
    },
    {
      "cell_type": "markdown",
      "metadata": {
        "id": "BWZG5BzC6aAF"
      },
      "source": [
        "### Maximum number of tokens for all documents¶"
      ]
    },
    {
      "cell_type": "code",
      "execution_count": 217,
      "metadata": {
        "id": "1clym_Ap6aAF",
        "colab": {
          "base_uri": "https://localhost:8080/"
        },
        "outputId": "138a5bec-38de-4dec-c5e9-de8631d0cf07"
      },
      "outputs": [
        {
          "output_type": "execute_result",
          "data": {
            "text/plain": [
              "63"
            ]
          },
          "metadata": {},
          "execution_count": 217
        }
      ],
      "source": [
        "len(X_num_tokens[100])"
      ]
    },
    {
      "cell_type": "code",
      "execution_count": 218,
      "metadata": {
        "id": "l16oiyqE6aAG",
        "colab": {
          "base_uri": "https://localhost:8080/"
        },
        "outputId": "39c1d5b4-530a-498f-f112-1e4271d278f2"
      },
      "outputs": [
        {
          "output_type": "execute_result",
          "data": {
            "text/plain": [
              "30"
            ]
          },
          "metadata": {},
          "execution_count": 218
        }
      ],
      "source": [
        "len(X_num_tokens[150])"
      ]
    },
    {
      "cell_type": "code",
      "source": [
        "num_tokens = [len(tokens) for tokens in X_num_tokens]\n",
        "num_tokens = np.array(num_tokens)"
      ],
      "metadata": {
        "id": "fObNHBdt1RdB"
      },
      "execution_count": 219,
      "outputs": []
    },
    {
      "cell_type": "code",
      "source": [
        "num_tokens.mean()"
      ],
      "metadata": {
        "colab": {
          "base_uri": "https://localhost:8080/"
        },
        "id": "uLX49de71Rfa",
        "outputId": "5a5d66c1-48c8-4c25-a982-6e215f481c09"
      },
      "execution_count": 220,
      "outputs": [
        {
          "output_type": "execute_result",
          "data": {
            "text/plain": [
              "60.2330106257379"
            ]
          },
          "metadata": {},
          "execution_count": 220
        }
      ]
    },
    {
      "cell_type": "code",
      "source": [
        "num_tokens.max()"
      ],
      "metadata": {
        "colab": {
          "base_uri": "https://localhost:8080/"
        },
        "id": "qg2eNx3v1Rhp",
        "outputId": "8263b02f-050a-4702-9978-fe86c57022d9"
      },
      "execution_count": 221,
      "outputs": [
        {
          "output_type": "execute_result",
          "data": {
            "text/plain": [
              "116"
            ]
          },
          "metadata": {},
          "execution_count": 221
        }
      ]
    },
    {
      "cell_type": "code",
      "source": [
        "num_tokens.argmax()"
      ],
      "metadata": {
        "colab": {
          "base_uri": "https://localhost:8080/"
        },
        "id": "AUPmZ7SU1RkI",
        "outputId": "bc83b6be-4862-4ff5-df1e-ea1a6b6580e8"
      },
      "execution_count": 222,
      "outputs": [
        {
          "output_type": "execute_result",
          "data": {
            "text/plain": [
              "15213"
            ]
          },
          "metadata": {},
          "execution_count": 222
        }
      ]
    },
    {
      "cell_type": "code",
      "source": [
        "X[15213]"
      ],
      "metadata": {
        "colab": {
          "base_uri": "https://localhost:8080/",
          "height": 87
        },
        "id": "I8tsy00o1YAj",
        "outputId": "8f1e46de-c6e4-4617-912e-084fe0b35b8d"
      },
      "execution_count": 223,
      "outputs": [
        {
          "output_type": "execute_result",
          "data": {
            "text/plain": [
              "\"I love maeve tops. i love the material and feel of this brand. when i saw the new tops that came out i ran to my local store to try one on. i'm usually a large in a top, once in a while an xl. they only had a large to try so i tried it in the black motif.\\ni could barely get the top on. it looked like i was missing 1/2 of the top. i doubled checked the size and it was a large.\\nit's a shame, the top is really cute. if you are the least bit broad or busty, go up a size or two. if you are usually a\""
            ],
            "application/vnd.google.colaboratory.intrinsic+json": {
              "type": "string"
            }
          },
          "metadata": {},
          "execution_count": 223
        }
      ]
    },
    {
      "cell_type": "code",
      "source": [
        "max_tokens = 116"
      ],
      "metadata": {
        "id": "hdhbKHva1YCw"
      },
      "execution_count": 224,
      "outputs": []
    },
    {
      "cell_type": "code",
      "source": [
        "sum(num_tokens <= max_tokens) / len(num_tokens)"
      ],
      "metadata": {
        "colab": {
          "base_uri": "https://localhost:8080/"
        },
        "id": "rwZHWJWQ1cg9",
        "outputId": "8d9e50d2-ec19-4883-8352-35c2bed23ec5"
      },
      "execution_count": 225,
      "outputs": [
        {
          "output_type": "execute_result",
          "data": {
            "text/plain": [
              "1.0"
            ]
          },
          "metadata": {},
          "execution_count": 225
        }
      ]
    },
    {
      "cell_type": "markdown",
      "metadata": {
        "id": "oIvjxgbY6aAG"
      },
      "source": [
        "### Fixing token counts of all documents (pad_sequences)"
      ]
    },
    {
      "cell_type": "code",
      "execution_count": 226,
      "metadata": {
        "id": "GXsUpujT6aAG"
      },
      "outputs": [],
      "source": [
        "X_pad = pad_sequences(X_num_tokens, maxlen=max_tokens)"
      ]
    },
    {
      "cell_type": "code",
      "execution_count": 227,
      "metadata": {
        "id": "conozYTG6aAG",
        "colab": {
          "base_uri": "https://localhost:8080/"
        },
        "outputId": "8070dbaf-7523-4ca5-f7bc-69c22b0e373c"
      },
      "outputs": [
        {
          "output_type": "execute_result",
          "data": {
            "text/plain": [
              "(21175, 116)"
            ]
          },
          "metadata": {},
          "execution_count": 227
        }
      ],
      "source": [
        "X_pad.shape"
      ]
    },
    {
      "cell_type": "code",
      "source": [
        "np.array(X_num_tokens[500])"
      ],
      "metadata": {
        "id": "pRnhsoyt1gja"
      },
      "execution_count": null,
      "outputs": []
    },
    {
      "cell_type": "code",
      "source": [
        "X_pad[500]"
      ],
      "metadata": {
        "colab": {
          "base_uri": "https://localhost:8080/"
        },
        "id": "0WxtUp0m1gm0",
        "outputId": "1a37ba73-9a2b-4c25-bdc0-9c1babb6340d"
      },
      "execution_count": 229,
      "outputs": [
        {
          "output_type": "execute_result",
          "data": {
            "text/plain": [
              "array([   0,    0,    0,    0,    0,    0,    0,    0,    0,    0,    0,\n",
              "          0,    0,    0,    0,    0,    0,    0,    0,    0,    0,    0,\n",
              "          0,    0,    0,    0,    0,    0,    0,    0,    0,    0,    0,\n",
              "          0,    2,  104,    7,   18,   11,    3,  280,  358,    9,    5,\n",
              "          2,   92,  695,    3, 1300,   17,  859,   17, 1443,    2, 1908,\n",
              "       3320,    2,  285,  228,   54,    2,  347,   24,   68,    7,   57,\n",
              "          3, 1908, 3320,    8,   29, 2331,   14,   32, 1170,  325,    5,\n",
              "        166,   34,    3, 1170,   16,  299,    2,   68,    5,   15,   34,\n",
              "         12,    4,  320,  576,   74,  124,    8,   22,    2,   38,  734,\n",
              "        308,  687,  868,    3,    2,   68,   17,  383,   22,  407,    7,\n",
              "        116,   17,   95,   48,   51,   46], dtype=int32)"
            ]
          },
          "metadata": {},
          "execution_count": 229
        }
      ]
    },
    {
      "cell_type": "code",
      "source": [
        "np.array(X_num_tokens[15213])"
      ],
      "metadata": {
        "colab": {
          "base_uri": "https://localhost:8080/"
        },
        "id": "fW-A8Hri1gor",
        "outputId": "e7b7d8b0-8cb5-4f34-b913-8d69c5427128"
      },
      "execution_count": 230,
      "outputs": [
        {
          "output_type": "execute_result",
          "data": {
            "text/plain": [
              "array([   2,   21,  759,  222,    2,   21,    1,   83,    3,  144,   13,\n",
              "          7,  479,   77,    2,  192,    1,  438,  222,   20,  362,   62,\n",
              "          2,  522,    8,   17,  485,  105,    8,  180,   57,   11,   37,\n",
              "        107,    4,   82,    9,    4,   25,  425,    9,    4,  242,   61,\n",
              "        419,   41,  114,   67,    4,   82,    8,  180,   15,    2,  104,\n",
              "          5,    9,    1,  120,  769,    2,  117,  804,  113,    1,   25,\n",
              "         11,    5,  166,   28,    2,   16, 1633,  527,  160,   13,    1,\n",
              "         25,    2, 3982, 1761,    1,   22,    3,    5,   16,    4,   82,\n",
              "         33,    4, 1396,    1,   25,    6,   51,   71,   54,   40,   26,\n",
              "          1,  523,   78,  676,   35,  593,  143,   42,    4,   22,   35,\n",
              "        265,   54,   40,   26,  107,    4])"
            ]
          },
          "metadata": {},
          "execution_count": 230
        }
      ]
    },
    {
      "cell_type": "code",
      "source": [
        "X_pad[15213]"
      ],
      "metadata": {
        "colab": {
          "base_uri": "https://localhost:8080/"
        },
        "id": "jo0StAEe1gqW",
        "outputId": "01f2e50f-b553-4707-f455-e36fb6cf0ca8"
      },
      "execution_count": 231,
      "outputs": [
        {
          "output_type": "execute_result",
          "data": {
            "text/plain": [
              "array([   2,   21,  759,  222,    2,   21,    1,   83,    3,  144,   13,\n",
              "          7,  479,   77,    2,  192,    1,  438,  222,   20,  362,   62,\n",
              "          2,  522,    8,   17,  485,  105,    8,  180,   57,   11,   37,\n",
              "        107,    4,   82,    9,    4,   25,  425,    9,    4,  242,   61,\n",
              "        419,   41,  114,   67,    4,   82,    8,  180,   15,    2,  104,\n",
              "          5,    9,    1,  120,  769,    2,  117,  804,  113,    1,   25,\n",
              "         11,    5,  166,   28,    2,   16, 1633,  527,  160,   13,    1,\n",
              "         25,    2, 3982, 1761,    1,   22,    3,    5,   16,    4,   82,\n",
              "         33,    4, 1396,    1,   25,    6,   51,   71,   54,   40,   26,\n",
              "          1,  523,   78,  676,   35,  593,  143,   42,    4,   22,   35,\n",
              "        265,   54,   40,   26,  107,    4], dtype=int32)"
            ]
          },
          "metadata": {},
          "execution_count": 231
        }
      ]
    },
    {
      "cell_type": "code",
      "source": [
        ""
      ],
      "metadata": {
        "id": "ewfWRs901gst"
      },
      "execution_count": null,
      "outputs": []
    },
    {
      "cell_type": "markdown",
      "metadata": {
        "id": "xn78r6XM6aAG"
      },
      "source": [
        "### Train Set Split"
      ]
    },
    {
      "cell_type": "code",
      "execution_count": 232,
      "metadata": {
        "id": "JhkMq7bv6aAG"
      },
      "outputs": [],
      "source": [
        "from sklearn.model_selection import train_test_split"
      ]
    },
    {
      "cell_type": "code",
      "execution_count": 233,
      "metadata": {
        "id": "sbZ4ciIe6aAG"
      },
      "outputs": [],
      "source": [
        "X_train, X_test, y_train, y_test = train_test_split(X_pad, y, test_size=0.1, stratify=y, random_state=101)"
      ]
    },
    {
      "cell_type": "markdown",
      "metadata": {
        "id": "jYb7Ybru6aAG"
      },
      "source": [
        "### Modeling"
      ]
    },
    {
      "cell_type": "code",
      "execution_count": 234,
      "metadata": {
        "id": "kSeWybZT6aAH"
      },
      "outputs": [],
      "source": [
        "model = Sequential()"
      ]
    },
    {
      "cell_type": "code",
      "source": [
        "embedding_size = 50"
      ],
      "metadata": {
        "id": "y7a81nI_1xV0"
      },
      "execution_count": 235,
      "outputs": []
    },
    {
      "cell_type": "code",
      "source": [
        "model.add(Embedding(input_dim=num_words,\n",
        "                    output_dim=embedding_size,\n",
        "                    input_length=max_tokens))\n",
        "\n",
        "\n",
        "model.add(GRU(units=48, return_sequences=True))\n",
        "#model.add(Dropout(0.5))\n",
        "#model.add(GRU(units=24, return_sequences=True))\n",
        "#model.add(Dropout(0.5))\n",
        "model.add(GRU(units=24))\n",
        "model.add(Dense(1, activation='sigmoid'))"
      ],
      "metadata": {
        "id": "ezQ23y271xYX"
      },
      "execution_count": 236,
      "outputs": []
    },
    {
      "cell_type": "code",
      "source": [
        "optimizer = Adam(lr=0.001)"
      ],
      "metadata": {
        "id": "hI6CfrpT1xar"
      },
      "execution_count": 237,
      "outputs": []
    },
    {
      "cell_type": "code",
      "source": [
        "model.compile(loss='binary_crossentropy',\n",
        "              optimizer=optimizer,\n",
        "              metrics=[\"Recall\"])"
      ],
      "metadata": {
        "id": "xowFxyV31xcX"
      },
      "execution_count": 238,
      "outputs": []
    },
    {
      "cell_type": "code",
      "execution_count": 239,
      "metadata": {
        "id": "g7-X-uWE6aAH",
        "colab": {
          "base_uri": "https://localhost:8080/"
        },
        "outputId": "e78d7b77-a892-48ab-b6e6-21150f0d5677"
      },
      "outputs": [
        {
          "output_type": "stream",
          "name": "stdout",
          "text": [
            "Model: \"sequential\"\n",
            "_________________________________________________________________\n",
            " Layer (type)                Output Shape              Param #   \n",
            "=================================================================\n",
            " embedding (Embedding)       (None, 116, 50)           750000    \n",
            "                                                                 \n",
            " gru (GRU)                   (None, 116, 48)           14400     \n",
            "                                                                 \n",
            " gru_1 (GRU)                 (None, 24)                5328      \n",
            "                                                                 \n",
            " dense (Dense)               (None, 1)                 25        \n",
            "                                                                 \n",
            "=================================================================\n",
            "Total params: 769,753\n",
            "Trainable params: 769,753\n",
            "Non-trainable params: 0\n",
            "_________________________________________________________________\n"
          ]
        }
      ],
      "source": [
        "model.summary() \n",
        "# 3 x (n2 + nm + 2n) m= input, n= output\n",
        "# (48*48 + 100*48 +2*48)*3 ==> m = 100, n = 48\n",
        "# (48*48 + 48*48  +2*48)*3 ==> m =  48, n = 48\n",
        "# (48*48 + 48*48  +2*48)*3 ==> m =  48, n = 48"
      ]
    },
    {
      "cell_type": "code",
      "source": [
        "from tensorflow.keras.callbacks import EarlyStopping\n",
        "\n",
        "early_stop = EarlyStopping(monitor=\"val_recall\", mode=\"max\", \n",
        "                           verbose=1, patience = 1, restore_best_weights=True)"
      ],
      "metadata": {
        "id": "MaeEPUvT17kJ"
      },
      "execution_count": 240,
      "outputs": []
    },
    {
      "cell_type": "code",
      "source": [
        "from sklearn.utils import class_weight\n",
        "classes_weights = class_weight.compute_sample_weight(class_weight='balanced', y=y_train)\n",
        "pd.Series(classes_weights).unique()"
      ],
      "metadata": {
        "colab": {
          "base_uri": "https://localhost:8080/"
        },
        "id": "gm_orbgk17m8",
        "outputId": "0cd602e8-2959-4d6d-d29f-d7e42d3334a8"
      },
      "execution_count": 241,
      "outputs": [
        {
          "output_type": "execute_result",
          "data": {
            "text/plain": [
              "array([0.61339642, 2.70465512])"
            ]
          },
          "metadata": {},
          "execution_count": 241
        }
      ]
    },
    {
      "cell_type": "code",
      "source": [
        "model.fit(X_train, y_train, epochs=25, batch_size=128, sample_weight=classes_weights,\n",
        "         validation_data=(X_test, y_test), callbacks=[early_stop])"
      ],
      "metadata": {
        "colab": {
          "base_uri": "https://localhost:8080/"
        },
        "id": "6EZL9ISK2PUC",
        "outputId": "370f9792-13e9-45d6-bfb4-e467c97fe6f0"
      },
      "execution_count": 242,
      "outputs": [
        {
          "output_type": "stream",
          "name": "stdout",
          "text": [
            "Epoch 1/25\n",
            "149/149 [==============================] - 24s 129ms/step - loss: 0.4498 - recall: 0.8493 - val_loss: 0.3461 - val_recall: 0.9054\n",
            "Epoch 2/25\n",
            "149/149 [==============================] - ETA: 0s - loss: 0.2299 - recall: 0.9253Restoring model weights from the end of the best epoch: 1.\n",
            "149/149 [==============================] - 18s 123ms/step - loss: 0.2299 - recall: 0.9253 - val_loss: 0.2569 - val_recall: 0.8286\n",
            "Epoch 2: early stopping\n"
          ]
        },
        {
          "output_type": "execute_result",
          "data": {
            "text/plain": [
              "<keras.callbacks.History at 0x7f058213b650>"
            ]
          },
          "metadata": {},
          "execution_count": 242
        }
      ]
    },
    {
      "cell_type": "code",
      "source": [
        ""
      ],
      "metadata": {
        "id": "-vHpugah2PWs"
      },
      "execution_count": null,
      "outputs": []
    },
    {
      "cell_type": "markdown",
      "source": [
        "## Model Evaluation\n",
        "\n",
        "\n"
      ],
      "metadata": {
        "id": "LHSRzw0G2tk6"
      }
    },
    {
      "cell_type": "code",
      "source": [
        "model_loss = pd.DataFrame(model.history.history)\n",
        "model_loss.head()"
      ],
      "metadata": {
        "colab": {
          "base_uri": "https://localhost:8080/",
          "height": 112
        },
        "id": "vhZhoGf32PZR",
        "outputId": "b74b7049-8fec-4982-a642-f284d276b756"
      },
      "execution_count": 243,
      "outputs": [
        {
          "output_type": "execute_result",
          "data": {
            "text/plain": [
              "       loss    recall  val_loss  val_recall\n",
              "0  0.449811  0.849276  0.346150    0.905371\n",
              "1  0.229912  0.925348  0.256911    0.828645"
            ],
            "text/html": [
              "\n",
              "  <div id=\"df-ae595ead-4b52-4b9d-bd7c-da64204b4da4\">\n",
              "    <div class=\"colab-df-container\">\n",
              "      <div>\n",
              "<style scoped>\n",
              "    .dataframe tbody tr th:only-of-type {\n",
              "        vertical-align: middle;\n",
              "    }\n",
              "\n",
              "    .dataframe tbody tr th {\n",
              "        vertical-align: top;\n",
              "    }\n",
              "\n",
              "    .dataframe thead th {\n",
              "        text-align: right;\n",
              "    }\n",
              "</style>\n",
              "<table border=\"1\" class=\"dataframe\">\n",
              "  <thead>\n",
              "    <tr style=\"text-align: right;\">\n",
              "      <th></th>\n",
              "      <th>loss</th>\n",
              "      <th>recall</th>\n",
              "      <th>val_loss</th>\n",
              "      <th>val_recall</th>\n",
              "    </tr>\n",
              "  </thead>\n",
              "  <tbody>\n",
              "    <tr>\n",
              "      <th>0</th>\n",
              "      <td>0.449811</td>\n",
              "      <td>0.849276</td>\n",
              "      <td>0.346150</td>\n",
              "      <td>0.905371</td>\n",
              "    </tr>\n",
              "    <tr>\n",
              "      <th>1</th>\n",
              "      <td>0.229912</td>\n",
              "      <td>0.925348</td>\n",
              "      <td>0.256911</td>\n",
              "      <td>0.828645</td>\n",
              "    </tr>\n",
              "  </tbody>\n",
              "</table>\n",
              "</div>\n",
              "      <button class=\"colab-df-convert\" onclick=\"convertToInteractive('df-ae595ead-4b52-4b9d-bd7c-da64204b4da4')\"\n",
              "              title=\"Convert this dataframe to an interactive table.\"\n",
              "              style=\"display:none;\">\n",
              "        \n",
              "  <svg xmlns=\"http://www.w3.org/2000/svg\" height=\"24px\"viewBox=\"0 0 24 24\"\n",
              "       width=\"24px\">\n",
              "    <path d=\"M0 0h24v24H0V0z\" fill=\"none\"/>\n",
              "    <path d=\"M18.56 5.44l.94 2.06.94-2.06 2.06-.94-2.06-.94-.94-2.06-.94 2.06-2.06.94zm-11 1L8.5 8.5l.94-2.06 2.06-.94-2.06-.94L8.5 2.5l-.94 2.06-2.06.94zm10 10l.94 2.06.94-2.06 2.06-.94-2.06-.94-.94-2.06-.94 2.06-2.06.94z\"/><path d=\"M17.41 7.96l-1.37-1.37c-.4-.4-.92-.59-1.43-.59-.52 0-1.04.2-1.43.59L10.3 9.45l-7.72 7.72c-.78.78-.78 2.05 0 2.83L4 21.41c.39.39.9.59 1.41.59.51 0 1.02-.2 1.41-.59l7.78-7.78 2.81-2.81c.8-.78.8-2.07 0-2.86zM5.41 20L4 18.59l7.72-7.72 1.47 1.35L5.41 20z\"/>\n",
              "  </svg>\n",
              "      </button>\n",
              "      \n",
              "  <style>\n",
              "    .colab-df-container {\n",
              "      display:flex;\n",
              "      flex-wrap:wrap;\n",
              "      gap: 12px;\n",
              "    }\n",
              "\n",
              "    .colab-df-convert {\n",
              "      background-color: #E8F0FE;\n",
              "      border: none;\n",
              "      border-radius: 50%;\n",
              "      cursor: pointer;\n",
              "      display: none;\n",
              "      fill: #1967D2;\n",
              "      height: 32px;\n",
              "      padding: 0 0 0 0;\n",
              "      width: 32px;\n",
              "    }\n",
              "\n",
              "    .colab-df-convert:hover {\n",
              "      background-color: #E2EBFA;\n",
              "      box-shadow: 0px 1px 2px rgba(60, 64, 67, 0.3), 0px 1px 3px 1px rgba(60, 64, 67, 0.15);\n",
              "      fill: #174EA6;\n",
              "    }\n",
              "\n",
              "    [theme=dark] .colab-df-convert {\n",
              "      background-color: #3B4455;\n",
              "      fill: #D2E3FC;\n",
              "    }\n",
              "\n",
              "    [theme=dark] .colab-df-convert:hover {\n",
              "      background-color: #434B5C;\n",
              "      box-shadow: 0px 1px 3px 1px rgba(0, 0, 0, 0.15);\n",
              "      filter: drop-shadow(0px 1px 2px rgba(0, 0, 0, 0.3));\n",
              "      fill: #FFFFFF;\n",
              "    }\n",
              "  </style>\n",
              "\n",
              "      <script>\n",
              "        const buttonEl =\n",
              "          document.querySelector('#df-ae595ead-4b52-4b9d-bd7c-da64204b4da4 button.colab-df-convert');\n",
              "        buttonEl.style.display =\n",
              "          google.colab.kernel.accessAllowed ? 'block' : 'none';\n",
              "\n",
              "        async function convertToInteractive(key) {\n",
              "          const element = document.querySelector('#df-ae595ead-4b52-4b9d-bd7c-da64204b4da4');\n",
              "          const dataTable =\n",
              "            await google.colab.kernel.invokeFunction('convertToInteractive',\n",
              "                                                     [key], {});\n",
              "          if (!dataTable) return;\n",
              "\n",
              "          const docLinkHtml = 'Like what you see? Visit the ' +\n",
              "            '<a target=\"_blank\" href=https://colab.research.google.com/notebooks/data_table.ipynb>data table notebook</a>'\n",
              "            + ' to learn more about interactive tables.';\n",
              "          element.innerHTML = '';\n",
              "          dataTable['output_type'] = 'display_data';\n",
              "          await google.colab.output.renderOutput(dataTable, element);\n",
              "          const docLink = document.createElement('div');\n",
              "          docLink.innerHTML = docLinkHtml;\n",
              "          element.appendChild(docLink);\n",
              "        }\n",
              "      </script>\n",
              "    </div>\n",
              "  </div>\n",
              "  "
            ]
          },
          "metadata": {},
          "execution_count": 243
        }
      ]
    },
    {
      "cell_type": "code",
      "source": [
        "from sklearn.metrics import confusion_matrix, classification_report, accuracy_score, f1_score, roc_auc_score\n",
        "\n",
        "y_train_pred = model.predict(X_train) >= 0.5\n",
        "\n",
        "print(confusion_matrix(y_train, y_train_pred))\n",
        "print(\"-------------------------------------------------------\")\n",
        "print(classification_report(y_train, y_train_pred))"
      ],
      "metadata": {
        "colab": {
          "base_uri": "https://localhost:8080/"
        },
        "id": "BqRw028t2Pef",
        "outputId": "29d91a27-9faa-4473-fdf7-bc5db691b2f8"
      },
      "execution_count": 245,
      "outputs": [
        {
          "output_type": "stream",
          "name": "stdout",
          "text": [
            "[[13239  2295]\n",
            " [  162  3361]]\n",
            "-------------------------------------------------------\n",
            "              precision    recall  f1-score   support\n",
            "\n",
            "           0       0.99      0.85      0.92     15534\n",
            "           1       0.59      0.95      0.73      3523\n",
            "\n",
            "    accuracy                           0.87     19057\n",
            "   macro avg       0.79      0.90      0.82     19057\n",
            "weighted avg       0.92      0.87      0.88     19057\n",
            "\n"
          ]
        }
      ]
    },
    {
      "cell_type": "code",
      "source": [
        "y_pred = model.predict(X_test) >= 0.5\n",
        "\n",
        "print(confusion_matrix(y_test, y_pred))\n",
        "print(\"-------------------------------------------------------\")\n",
        "print(classification_report(y_test, y_pred))"
      ],
      "metadata": {
        "colab": {
          "base_uri": "https://localhost:8080/"
        },
        "id": "f4OhcDrH24LL",
        "outputId": "734d1f07-528c-4c8d-a4ca-d44e0472225a"
      },
      "execution_count": 246,
      "outputs": [
        {
          "output_type": "stream",
          "name": "stdout",
          "text": [
            "[[1427  300]\n",
            " [  37  354]]\n",
            "-------------------------------------------------------\n",
            "              precision    recall  f1-score   support\n",
            "\n",
            "           0       0.97      0.83      0.89      1727\n",
            "           1       0.54      0.91      0.68       391\n",
            "\n",
            "    accuracy                           0.84      2118\n",
            "   macro avg       0.76      0.87      0.79      2118\n",
            "weighted avg       0.89      0.84      0.85      2118\n",
            "\n"
          ]
        }
      ]
    },
    {
      "cell_type": "code",
      "source": [
        "from sklearn.metrics import precision_recall_curve, average_precision_score"
      ],
      "metadata": {
        "id": "mx2CEF0427Aw"
      },
      "execution_count": 247,
      "outputs": []
    },
    {
      "cell_type": "code",
      "source": [
        "average_precision_score(y_test, y_pred_proba)"
      ],
      "metadata": {
        "colab": {
          "base_uri": "https://localhost:8080/"
        },
        "id": "Esm7yzUL27Fj",
        "outputId": "62449a5a-04db-49e9-86c4-12e0eec9e33d"
      },
      "execution_count": 249,
      "outputs": [
        {
          "output_type": "execute_result",
          "data": {
            "text/plain": [
              "0.7850574563482249"
            ]
          },
          "metadata": {},
          "execution_count": 249
        }
      ]
    },
    {
      "cell_type": "code",
      "source": [
        "DL_AP = average_precision_score(y_test, y_pred_proba)\n",
        "DL_f1 = f1_score(y_test, y_pred)\n",
        "DL_rec = recall_score(y_test, y_pred)"
      ],
      "metadata": {
        "id": "qAqFQvJ63DD-"
      },
      "execution_count": 250,
      "outputs": []
    },
    {
      "cell_type": "markdown",
      "metadata": {
        "id": "NHaOJy066aAH"
      },
      "source": [
        "## BERT Modeling"
      ]
    },
    {
      "cell_type": "code",
      "execution_count": 251,
      "metadata": {
        "id": "2XAIG05v6aAH",
        "colab": {
          "base_uri": "https://localhost:8080/"
        },
        "outputId": "485efe05-125f-49b9-9f7a-b34d5f351540"
      },
      "outputs": [
        {
          "output_type": "stream",
          "name": "stdout",
          "text": [
            "Looking in indexes: https://pypi.org/simple, https://us-python.pkg.dev/colab-wheels/public/simple/\n",
            "Collecting transformers\n",
            "  Downloading transformers-4.20.1-py3-none-any.whl (4.4 MB)\n",
            "\u001b[K     |████████████████████████████████| 4.4 MB 5.2 MB/s \n",
            "\u001b[?25hCollecting pyyaml>=5.1\n",
            "  Downloading PyYAML-6.0-cp37-cp37m-manylinux_2_5_x86_64.manylinux1_x86_64.manylinux_2_12_x86_64.manylinux2010_x86_64.whl (596 kB)\n",
            "\u001b[K     |████████████████████████████████| 596 kB 11.8 MB/s \n",
            "\u001b[?25hCollecting tokenizers!=0.11.3,<0.13,>=0.11.1\n",
            "  Downloading tokenizers-0.12.1-cp37-cp37m-manylinux_2_12_x86_64.manylinux2010_x86_64.whl (6.6 MB)\n",
            "\u001b[K     |████████████████████████████████| 6.6 MB 34.1 MB/s \n",
            "\u001b[?25hRequirement already satisfied: numpy>=1.17 in /usr/local/lib/python3.7/dist-packages (from transformers) (1.21.6)\n",
            "Collecting huggingface-hub<1.0,>=0.1.0\n",
            "  Downloading huggingface_hub-0.8.1-py3-none-any.whl (101 kB)\n",
            "\u001b[K     |████████████████████████████████| 101 kB 4.9 MB/s \n",
            "\u001b[?25hRequirement already satisfied: importlib-metadata in /usr/local/lib/python3.7/dist-packages (from transformers) (4.12.0)\n",
            "Requirement already satisfied: filelock in /usr/local/lib/python3.7/dist-packages (from transformers) (3.7.1)\n",
            "Requirement already satisfied: regex!=2019.12.17 in /usr/local/lib/python3.7/dist-packages (from transformers) (2022.6.2)\n",
            "Requirement already satisfied: packaging>=20.0 in /usr/local/lib/python3.7/dist-packages (from transformers) (21.3)\n",
            "Requirement already satisfied: tqdm>=4.27 in /usr/local/lib/python3.7/dist-packages (from transformers) (4.64.0)\n",
            "Requirement already satisfied: requests in /usr/local/lib/python3.7/dist-packages (from transformers) (2.23.0)\n",
            "Requirement already satisfied: typing-extensions>=3.7.4.3 in /usr/local/lib/python3.7/dist-packages (from huggingface-hub<1.0,>=0.1.0->transformers) (4.1.1)\n",
            "Requirement already satisfied: pyparsing!=3.0.5,>=2.0.2 in /usr/local/lib/python3.7/dist-packages (from packaging>=20.0->transformers) (3.0.9)\n",
            "Requirement already satisfied: zipp>=0.5 in /usr/local/lib/python3.7/dist-packages (from importlib-metadata->transformers) (3.8.1)\n",
            "Requirement already satisfied: idna<3,>=2.5 in /usr/local/lib/python3.7/dist-packages (from requests->transformers) (2.10)\n",
            "Requirement already satisfied: chardet<4,>=3.0.2 in /usr/local/lib/python3.7/dist-packages (from requests->transformers) (3.0.4)\n",
            "Requirement already satisfied: urllib3!=1.25.0,!=1.25.1,<1.26,>=1.21.1 in /usr/local/lib/python3.7/dist-packages (from requests->transformers) (1.24.3)\n",
            "Requirement already satisfied: certifi>=2017.4.17 in /usr/local/lib/python3.7/dist-packages (from requests->transformers) (2022.6.15)\n",
            "Installing collected packages: pyyaml, tokenizers, huggingface-hub, transformers\n",
            "  Attempting uninstall: pyyaml\n",
            "    Found existing installation: PyYAML 3.13\n",
            "    Uninstalling PyYAML-3.13:\n",
            "      Successfully uninstalled PyYAML-3.13\n",
            "Successfully installed huggingface-hub-0.8.1 pyyaml-6.0 tokenizers-0.12.1 transformers-4.20.1\n"
          ]
        }
      ],
      "source": [
        "!pip install transformers"
      ]
    },
    {
      "cell_type": "markdown",
      "metadata": {
        "id": "s7OURM1n6aAH"
      },
      "source": [
        "### Tokenization"
      ]
    },
    {
      "cell_type": "code",
      "execution_count": 252,
      "metadata": {
        "id": "MV_ip9NM6aAH"
      },
      "outputs": [],
      "source": [
        "import numpy as np\n",
        "import pandas as pd"
      ]
    },
    {
      "cell_type": "code",
      "execution_count": 253,
      "metadata": {
        "id": "sDkZnMgU6aAH",
        "colab": {
          "base_uri": "https://localhost:8080/",
          "height": 162,
          "referenced_widgets": [
            "19a2c6adfb064dfb83132043eeb6b315",
            "9810af5d2dcc406ba0ab56d6d3934c97",
            "b56f9a03c5f64ee299c869dd2a30c08e",
            "145d37febfcd4cedb93a30f968f54542",
            "62f76b6664b543be86c9865bc5d04465",
            "c1b8576525c8489092cf20aaf643cc68",
            "a15517c2a55f4e7e8af4bd881c1a5691",
            "10c8d5f841fe41cea8234ff03b0f7e75",
            "51ed9889c519463f822d3c17ca5a263f",
            "896e75dea1404bb497cfc7c3b859f54d",
            "aa241c0a84f6498c9def5a8f6b298844",
            "f95f4a8ba4fa4894ab69b94443c2dd54",
            "9d79bea8abb944efb02c6e6abd82a66d",
            "8157189049d645608e4674a28e17af99",
            "29816949e0f74206932a6b92e5ffcb42",
            "c9605eb84bd24f95b381692b7833d944",
            "ac60c608c65f4032916d2650fa103f73",
            "4504516ceffb48d89c03042c10a64136",
            "df829d7bbecd44309a849bea5bde2077",
            "f5568d12c73c493ebb63de1a56d79304",
            "5c7c5390c27d470e89ee533e9b2ba679",
            "7fa32bf9259a43ea8a24484a888454dc",
            "c6dfc371078d4b408e5e6921259c1703",
            "8558e1d6a1c048d186793ad02d3ce54a",
            "40bc4bb77620457ba78d0da6d7f91382",
            "39dc0969100a49ef9953c1f486e9696a",
            "0f2f5493a10b49928f38fe6f74e8473d",
            "50bebc4d8e9149d296ec41fe38099ffa",
            "714be45e53dc4754b3153ee3bba2ff05",
            "1c553fd2a11a478c92ae78bbfb0fa0fc",
            "ce9ef61795b74e13a194e7d76ecf755a",
            "3e588e89c3c54694aefb0e68db281922",
            "0dbde910cb1e4369aa2584e9d04a20b7",
            "4a7f3916c8214f47884f896c8076d0ca",
            "4ee071212eed4685ba203d52e10f032f",
            "e4f4cf98f4a7490b975cacedbc1c5dc6",
            "9bfc96ed6b68430cbaf7b67957a20689",
            "9b9d07d16c11458789839b850b4daa1a",
            "3f927419d72b49959cf8853de3b2e165",
            "22bdaec425d74e1b80004491f59235fa",
            "917c1ad494c4439cb706ae4db85c9f54",
            "7bee0342122e46879a9e604b69a8bd85",
            "204107f929cb401dbf83af540874efde",
            "5092e1d71bd94bb2a4fe992ae630cf38"
          ]
        },
        "outputId": "81bfc2c3-dcf7-4338-8c87-b67cc25329a2"
      },
      "outputs": [
        {
          "output_type": "display_data",
          "data": {
            "text/plain": [
              "Downloading:   0%|          | 0.00/28.0 [00:00<?, ?B/s]"
            ],
            "application/vnd.jupyter.widget-view+json": {
              "version_major": 2,
              "version_minor": 0,
              "model_id": "19a2c6adfb064dfb83132043eeb6b315"
            }
          },
          "metadata": {}
        },
        {
          "output_type": "display_data",
          "data": {
            "text/plain": [
              "Downloading:   0%|          | 0.00/570 [00:00<?, ?B/s]"
            ],
            "application/vnd.jupyter.widget-view+json": {
              "version_major": 2,
              "version_minor": 0,
              "model_id": "f95f4a8ba4fa4894ab69b94443c2dd54"
            }
          },
          "metadata": {}
        },
        {
          "output_type": "display_data",
          "data": {
            "text/plain": [
              "Downloading:   0%|          | 0.00/226k [00:00<?, ?B/s]"
            ],
            "application/vnd.jupyter.widget-view+json": {
              "version_major": 2,
              "version_minor": 0,
              "model_id": "c6dfc371078d4b408e5e6921259c1703"
            }
          },
          "metadata": {}
        },
        {
          "output_type": "display_data",
          "data": {
            "text/plain": [
              "Downloading:   0%|          | 0.00/455k [00:00<?, ?B/s]"
            ],
            "application/vnd.jupyter.widget-view+json": {
              "version_major": 2,
              "version_minor": 0,
              "model_id": "4a7f3916c8214f47884f896c8076d0ca"
            }
          },
          "metadata": {}
        },
        {
          "output_type": "stream",
          "name": "stdout",
          "text": [
            "Max sentence length:  162\n"
          ]
        }
      ],
      "source": [
        "from transformers import AutoTokenizer\n",
        "\n",
        "tokenizer = AutoTokenizer.from_pretrained(\"bert-base-uncased\")\n",
        "\n",
        "max_len = 0\n",
        "\n",
        "# For every sentence...\n",
        "max_token = []\n",
        "for sent in X:\n",
        "\n",
        "    # Tokenize the text and add `[CLS]` and `[SEP]` tokens.\n",
        "    \n",
        "    input_ids = tokenizer.encode(sent, add_special_tokens=True)\n",
        "    max_token.append(len(input_ids))\n",
        "\n",
        "    # Update the maximum sentence length.\n",
        "    max_len = max(max_len, len(input_ids))\n",
        "\n",
        "print('Max sentence length: ', max_len)"
      ]
    },
    {
      "cell_type": "code",
      "source": [
        "np.array(max_token).mean()"
      ],
      "metadata": {
        "colab": {
          "base_uri": "https://localhost:8080/"
        },
        "id": "Sb11adyZ3WcW",
        "outputId": "d97938f9-8026-493d-a29b-6ad2263d15a4"
      },
      "execution_count": 255,
      "outputs": [
        {
          "output_type": "execute_result",
          "data": {
            "text/plain": [
              "76.31556080283353"
            ]
          },
          "metadata": {},
          "execution_count": 255
        }
      ]
    },
    {
      "cell_type": "code",
      "source": [
        "sum(np.array(max_token) <= 162) / len(max_token)"
      ],
      "metadata": {
        "colab": {
          "base_uri": "https://localhost:8080/"
        },
        "id": "RViM9E-z3Yhm",
        "outputId": "1f0ce0e6-1a5e-4157-f05e-1f80e1162d82"
      },
      "execution_count": 254,
      "outputs": [
        {
          "output_type": "execute_result",
          "data": {
            "text/plain": [
              "1.0"
            ]
          },
          "metadata": {},
          "execution_count": 254
        }
      ]
    },
    {
      "cell_type": "code",
      "source": [
        "def transformation(X):\n",
        "  # set array dimensions\n",
        "  seq_len = 162\n",
        "  num_samples = len(X)\n",
        "\n",
        "  # initialize empty zero arrays\n",
        "  Xids = np.zeros((num_samples, seq_len))\n",
        "  Xmask = np.zeros((num_samples, seq_len))\n",
        "\n",
        "    \n",
        "  for i, phrase in enumerate(X):\n",
        "      tokens = tokenizer.encode_plus(phrase, max_length=seq_len, truncation=True,\n",
        "                                      padding='max_length', add_special_tokens=True) \n",
        "      # assign tokenized outputs to respective rows in numpy arrays\n",
        "      Xids[i, :] = tokens['input_ids']\n",
        "      Xmask[i, :] = tokens['attention_mask']\n",
        "  return Xids, Xmask"
      ],
      "metadata": {
        "id": "V_sI0NvF3YkH"
      },
      "execution_count": 256,
      "outputs": []
    },
    {
      "cell_type": "code",
      "source": [
        "Xids, Xmask = transformation(X)"
      ],
      "metadata": {
        "id": "_XM7DHjT3ikp"
      },
      "execution_count": 257,
      "outputs": []
    },
    {
      "cell_type": "code",
      "source": [
        "Xids.shape"
      ],
      "metadata": {
        "colab": {
          "base_uri": "https://localhost:8080/"
        },
        "id": "JVhxva863iw3",
        "outputId": "7c5fff82-3e31-45df-c089-f869910114bb"
      },
      "execution_count": 258,
      "outputs": [
        {
          "output_type": "execute_result",
          "data": {
            "text/plain": [
              "(21175, 162)"
            ]
          },
          "metadata": {},
          "execution_count": 258
        }
      ]
    },
    {
      "cell_type": "code",
      "source": [
        "Xmask.shape"
      ],
      "metadata": {
        "colab": {
          "base_uri": "https://localhost:8080/"
        },
        "id": "aoqizQoL3izc",
        "outputId": "3014283b-7fe6-4633-c75b-f83e32ec5094"
      },
      "execution_count": 259,
      "outputs": [
        {
          "output_type": "execute_result",
          "data": {
            "text/plain": [
              "(21175, 162)"
            ]
          },
          "metadata": {},
          "execution_count": 259
        }
      ]
    },
    {
      "cell_type": "code",
      "source": [
        "labels = y.reshape(-1,1)\n",
        "labels"
      ],
      "metadata": {
        "colab": {
          "base_uri": "https://localhost:8080/"
        },
        "id": "JD9ZbY8c3mXp",
        "outputId": "8293cd9e-9e64-46c7-c0d7-b549a345eeac"
      },
      "execution_count": 260,
      "outputs": [
        {
          "output_type": "execute_result",
          "data": {
            "text/plain": [
              "array([[0],\n",
              "       [0],\n",
              "       [1],\n",
              "       ...,\n",
              "       [0],\n",
              "       [1],\n",
              "       [0]])"
            ]
          },
          "metadata": {},
          "execution_count": 260
        }
      ]
    },
    {
      "cell_type": "code",
      "source": [
        ""
      ],
      "metadata": {
        "id": "rB36g0YK3maB"
      },
      "execution_count": null,
      "outputs": []
    },
    {
      "cell_type": "markdown",
      "metadata": {
        "id": "qJO-F14f6aAH"
      },
      "source": [
        "### Transformation text to tensor"
      ]
    },
    {
      "cell_type": "code",
      "execution_count": 261,
      "metadata": {
        "id": "AraU4iFk6aAI"
      },
      "outputs": [],
      "source": [
        "import tensorflow as tf\n",
        "\n",
        "dataset = tf.data.Dataset.from_tensor_slices((Xids, Xmask, labels)) #tf.data.Dataset.from_tensors((Xids, Xmask, labels))\n",
        "\n",
        "def map_func(Xids, Xmask, labels):\n",
        "    # we convert our three-item tuple into a two-item tuple where the input item is a dictionary\n",
        "    return {'input_ids': Xids, 'attention_mask': Xmask}, labels\n",
        "\n",
        "# then we use the dataset map method to apply this transformation\n",
        "dataset = dataset.map(map_func)"
      ]
    },
    {
      "cell_type": "code",
      "source": [
        "len(X)"
      ],
      "metadata": {
        "colab": {
          "base_uri": "https://localhost:8080/"
        },
        "id": "C6kuWGpM3q_U",
        "outputId": "36094cf4-67b2-4b70-fc06-855489ce91e7"
      },
      "execution_count": 262,
      "outputs": [
        {
          "output_type": "execute_result",
          "data": {
            "text/plain": [
              "21175"
            ]
          },
          "metadata": {},
          "execution_count": 262
        }
      ]
    },
    {
      "cell_type": "code",
      "execution_count": 263,
      "metadata": {
        "id": "3WtOdjzY6aAI"
      },
      "outputs": [],
      "source": [
        "batch_size = 16\n",
        "length = len(X)\n",
        "# shuffle and batch\n",
        "# fit into a batch of 16\n",
        "dataset = dataset.shuffle(length, reshuffle_each_iteration=False).batch(batch_size, drop_remainder=True)"
      ]
    },
    {
      "cell_type": "markdown",
      "metadata": {
        "id": "fVoI42qM6aAI"
      },
      "source": [
        "### Train test split"
      ]
    },
    {
      "cell_type": "code",
      "execution_count": 264,
      "metadata": {
        "id": "CGd76q0H6aAI"
      },
      "outputs": [],
      "source": [
        "# set split size (90% training data) and calculate training set size\n",
        "split = 0.9\n",
        "size = int(len(dataset)*split) #int((Xids.shape[0]/batch_size)*split)\n",
        "\n",
        "# get training and validation sets\n",
        "train_ds = dataset.take(size)\n",
        "val_ds = dataset.skip(size)"
      ]
    },
    {
      "cell_type": "code",
      "execution_count": null,
      "metadata": {
        "id": "D-54B8206aAI"
      },
      "outputs": [],
      "source": [
        ""
      ]
    },
    {
      "cell_type": "code",
      "execution_count": null,
      "metadata": {
        "id": "zMwiIE2-6aAI"
      },
      "outputs": [],
      "source": [
        ""
      ]
    },
    {
      "cell_type": "code",
      "execution_count": null,
      "metadata": {
        "id": "ZjY-bN-g6aAI"
      },
      "outputs": [],
      "source": [
        ""
      ]
    },
    {
      "cell_type": "markdown",
      "metadata": {
        "id": "xXvi6YO_6aAJ"
      },
      "source": [
        "### Creating Model"
      ]
    },
    {
      "cell_type": "code",
      "execution_count": 265,
      "metadata": {
        "id": "n6hFyVLh6aAJ"
      },
      "outputs": [],
      "source": [
        "def create_model():\n",
        "    from transformers import TFAutoModel\n",
        "    model = TFAutoModel.from_pretrained(\"bert-base-uncased\")\n",
        "    input_ids = tf.keras.layers.Input(shape=(162,), name='input_ids', dtype='int32')\n",
        "    attention_mask = tf.keras.layers.Input(shape=(162,), name='attention_mask', dtype='int32')\n",
        "\n",
        "    embeddings = model.bert(input_ids=input_ids, attention_mask=attention_mask)[\"pooler_output\"] #[1]\n",
        "\n",
        "    x = tf.keras.layers.Dense(80, activation='relu')(embeddings) \n",
        "    x = tf.keras.layers.Dropout(0.1, name=\"dropout\")(x) #0.1\n",
        "    y = tf.keras.layers.Dense(1, activation='sigmoid', name='outputs')(x)\n",
        "\n",
        "    return tf.keras.Model(inputs=[input_ids, attention_mask], outputs=y)"
      ]
    },
    {
      "cell_type": "code",
      "execution_count": 266,
      "metadata": {
        "id": "5CN6OlZN6aAJ",
        "colab": {
          "base_uri": "https://localhost:8080/",
          "height": 156,
          "referenced_widgets": [
            "e385e257ed9c4a45a5d9566b4c078cf4",
            "dbee4f9e8ae447718eb397c18bfaa6c1",
            "aa29507df3df4db0904448725f04c1e5",
            "83c94ad5554f4219b390f61caeacf4f1",
            "693dab4aff864d3e9b39a01d01d37455",
            "e0ec741813e94730bb28f7e5c8fbef89",
            "560482cbec5a43df9625a03957543cb5",
            "cf5e985dc4f7485d825a66119a40070c",
            "bd0d9db56265460f9e3e4f16b5923d07",
            "9626dbb8ae8c4dc497652a2164a20de9",
            "b825dd7b0e4042fcbdcb90ba17f4433d"
          ]
        },
        "outputId": "aa9affce-f6ff-47d6-f126-5e3050cb048e"
      },
      "outputs": [
        {
          "output_type": "display_data",
          "data": {
            "text/plain": [
              "Downloading:   0%|          | 0.00/511M [00:00<?, ?B/s]"
            ],
            "application/vnd.jupyter.widget-view+json": {
              "version_major": 2,
              "version_minor": 0,
              "model_id": "e385e257ed9c4a45a5d9566b4c078cf4"
            }
          },
          "metadata": {}
        },
        {
          "output_type": "stream",
          "name": "stderr",
          "text": [
            "Some layers from the model checkpoint at bert-base-uncased were not used when initializing TFBertModel: ['mlm___cls', 'nsp___cls']\n",
            "- This IS expected if you are initializing TFBertModel from the checkpoint of a model trained on another task or with another architecture (e.g. initializing a BertForSequenceClassification model from a BertForPreTraining model).\n",
            "- This IS NOT expected if you are initializing TFBertModel from the checkpoint of a model that you expect to be exactly identical (initializing a BertForSequenceClassification model from a BertForSequenceClassification model).\n",
            "All the layers of TFBertModel were initialized from the model checkpoint at bert-base-uncased.\n",
            "If your task is similar to the task the model of the checkpoint was trained on, you can already use TFBertModel for predictions without further training.\n"
          ]
        }
      ],
      "source": [
        "with strategy.scope():\n",
        "  \n",
        "  optimizer = tf.keras.optimizers.Adam(learning_rate=2e-5) #3e-5, 5e-5\n",
        "  loss = tf.keras.losses.BinaryCrossentropy()\n",
        "  recall = tf.keras.metrics.Recall()\n",
        "  model3 = create_model()\n",
        "  model3.compile(optimizer=optimizer, loss=loss, metrics=[recall])"
      ]
    },
    {
      "cell_type": "code",
      "execution_count": 267,
      "metadata": {
        "id": "XRW75_Q36aAJ",
        "colab": {
          "base_uri": "https://localhost:8080/"
        },
        "outputId": "7f8bc01a-241c-4343-c5a8-ee9216cdae23"
      },
      "outputs": [
        {
          "output_type": "stream",
          "name": "stdout",
          "text": [
            "Model: \"model\"\n",
            "__________________________________________________________________________________________________\n",
            " Layer (type)                   Output Shape         Param #     Connected to                     \n",
            "==================================================================================================\n",
            " input_ids (InputLayer)         [(None, 162)]        0           []                               \n",
            "                                                                                                  \n",
            " attention_mask (InputLayer)    [(None, 162)]        0           []                               \n",
            "                                                                                                  \n",
            " bert (TFBertMainLayer)         TFBaseModelOutputWi  109482240   ['input_ids[0][0]',              \n",
            "                                thPoolingAndCrossAt               'attention_mask[0][0]']         \n",
            "                                tentions(last_hidde                                               \n",
            "                                n_state=(None, 162,                                               \n",
            "                                 768),                                                            \n",
            "                                 pooler_output=(Non                                               \n",
            "                                e, 768),                                                          \n",
            "                                 past_key_values=No                                               \n",
            "                                ne, hidden_states=N                                               \n",
            "                                one, attentions=Non                                               \n",
            "                                e, cross_attentions                                               \n",
            "                                =None)                                                            \n",
            "                                                                                                  \n",
            " dense_1 (Dense)                (None, 80)           61520       ['bert[0][1]']                   \n",
            "                                                                                                  \n",
            " dropout (Dropout)              (None, 80)           0           ['dense_1[0][0]']                \n",
            "                                                                                                  \n",
            " outputs (Dense)                (None, 1)            81          ['dropout[0][0]']                \n",
            "                                                                                                  \n",
            "==================================================================================================\n",
            "Total params: 109,543,841\n",
            "Trainable params: 109,543,841\n",
            "Non-trainable params: 0\n",
            "__________________________________________________________________________________________________\n"
          ]
        }
      ],
      "source": [
        "model3.summary()"
      ]
    },
    {
      "cell_type": "code",
      "execution_count": 268,
      "metadata": {
        "id": "oYRWkK0K6aAJ",
        "colab": {
          "base_uri": "https://localhost:8080/"
        },
        "outputId": "ba138b06-1212-4ed9-f7ae-cc6c4d1f077f"
      },
      "outputs": [
        {
          "output_type": "stream",
          "name": "stdout",
          "text": [
            "1190/1190 [==============================] - 173s 80ms/step - loss: 0.1789 - recall: 0.7878 - val_loss: 0.1565 - val_recall: 0.9071\n"
          ]
        }
      ],
      "source": [
        "history = model3.fit(\n",
        "    train_ds, validation_data= val_ds,\n",
        "    epochs=1)"
      ]
    },
    {
      "cell_type": "code",
      "execution_count": null,
      "metadata": {
        "id": "P9QdD60Z6aAJ"
      },
      "outputs": [],
      "source": [
        ""
      ]
    },
    {
      "cell_type": "code",
      "execution_count": null,
      "metadata": {
        "id": "TrJ8MJSK6aAJ"
      },
      "outputs": [],
      "source": [
        ""
      ]
    },
    {
      "cell_type": "code",
      "execution_count": null,
      "metadata": {
        "id": "x1sM0uTD6aAJ"
      },
      "outputs": [],
      "source": [
        ""
      ]
    },
    {
      "cell_type": "markdown",
      "metadata": {
        "id": "hCrQFSxf6aAJ"
      },
      "source": [
        "### Model evaluation"
      ]
    },
    {
      "cell_type": "code",
      "execution_count": 269,
      "metadata": {
        "id": "ncPwe8QR6aAK",
        "colab": {
          "base_uri": "https://localhost:8080/"
        },
        "outputId": "e8dc3014-df64-465d-ba5d-8fae53bdb39d"
      },
      "outputs": [
        {
          "output_type": "stream",
          "name": "stdout",
          "text": [
            "              precision    recall  f1-score   support\n",
            "\n",
            "           0       0.98      0.95      0.96      1708\n",
            "           1       0.81      0.91      0.85       420\n",
            "\n",
            "    accuracy                           0.94      2128\n",
            "   macro avg       0.89      0.93      0.91      2128\n",
            "weighted avg       0.94      0.94      0.94      2128\n",
            "\n"
          ]
        }
      ],
      "source": [
        "from sklearn.metrics import classification_report, confusion_matrix\n",
        "\n",
        "y_pred = model3.predict(val_ds) >= 0.5\n",
        "\n",
        "y_test = [j for i in val_ds for j in np.array(i[1])]\n",
        "\n",
        "\n",
        "print(classification_report(y_test, y_pred))"
      ]
    },
    {
      "cell_type": "code",
      "execution_count": 270,
      "metadata": {
        "id": "xBDcKwpu6aAK",
        "colab": {
          "base_uri": "https://localhost:8080/"
        },
        "outputId": "10e056a8-c0f0-4be5-d69b-f2c4487c7d62"
      },
      "outputs": [
        {
          "output_type": "stream",
          "name": "stdout",
          "text": [
            "              precision    recall  f1-score   support\n",
            "\n",
            "           0       0.99      0.97      0.98     15548\n",
            "           1       0.87      0.96      0.92      3492\n",
            "\n",
            "    accuracy                           0.97     19040\n",
            "   macro avg       0.93      0.96      0.95     19040\n",
            "weighted avg       0.97      0.97      0.97     19040\n",
            "\n"
          ]
        }
      ],
      "source": [
        "y_train_pred = model3.predict(train_ds) >= 0.5\n",
        "\n",
        "y_train = [j for i in train_ds for j in np.array(i[1])]\n",
        "\n",
        "print(classification_report(y_train, y_train_pred)) "
      ]
    },
    {
      "cell_type": "code",
      "source": [
        "from sklearn.metrics import precision_recall_curve, average_precision_score\n",
        "import matplotlib.pyplot as plt\n",
        "\n",
        "y_pred_proba = model3.predict(val_ds)\n",
        "precision, recall, thresholds = precision_recall_curve(y_test, y_pred_proba)\n",
        "plt.plot([1,0],[0,1],'k--')\n",
        "plt.plot(recall, precision)\n",
        "plt.xlabel('recall')\n",
        "plt.ylabel('precision')\n",
        "plt.title('precision recall curve')\n",
        "plt.show()"
      ],
      "metadata": {
        "id": "wkwoMc1w8lrU"
      },
      "execution_count": null,
      "outputs": []
    },
    {
      "cell_type": "code",
      "source": [
        "average_precision_score(y_test, y_pred_proba)"
      ],
      "metadata": {
        "colab": {
          "base_uri": "https://localhost:8080/"
        },
        "id": "q_-S14Wb4Vly",
        "outputId": "9531125a-d381-46c3-8e49-aa943afc8970"
      },
      "execution_count": 272,
      "outputs": [
        {
          "output_type": "execute_result",
          "data": {
            "text/plain": [
              "0.9269844410712808"
            ]
          },
          "metadata": {},
          "execution_count": 272
        }
      ]
    },
    {
      "cell_type": "code",
      "source": [
        "BERT_without_weighted_AP = average_precision_score(y_test, y_pred_proba)\n",
        "BERT_without_weighted_f1 = f1_score(y_test, y_pred)\n",
        "BERT_without_weighted_rec = recall_score(y_test, y_pred)"
      ],
      "metadata": {
        "id": "SItzA0uy4V2M"
      },
      "execution_count": 273,
      "outputs": []
    },
    {
      "cell_type": "code",
      "source": [
        ""
      ],
      "metadata": {
        "id": "bxL7muzV5vID"
      },
      "execution_count": null,
      "outputs": []
    },
    {
      "cell_type": "markdown",
      "source": [
        "## Bert Model with Weighted"
      ],
      "metadata": {
        "id": "wuX6_o4S5vv-"
      }
    },
    {
      "cell_type": "code",
      "source": [
        "def create_model():\n",
        "    from transformers import TFAutoModel\n",
        "    model = TFAutoModel.from_pretrained(\"bert-base-uncased\")\n",
        "    input_ids = tf.keras.layers.Input(shape=(162,), name='input_ids', dtype='int32')\n",
        "    attention_mask = tf.keras.layers.Input(shape=(162,), name='attention_mask', dtype='int32')\n",
        "\n",
        "    embeddings = model.bert(input_ids=input_ids, attention_mask=attention_mask)[\"pooler_output\"] #[1]\n",
        "\n",
        "    x = tf.keras.layers.Dense(80, activation='relu')(embeddings) \n",
        "    x = tf.keras.layers.Dropout(0.2, name=\"dropout\")(x) #0.1\n",
        "    y = tf.keras.layers.Dense(1, activation='sigmoid', name='outputs')(x)\n",
        "\n",
        "    return tf.keras.Model(inputs=[input_ids, attention_mask], outputs=y)"
      ],
      "metadata": {
        "id": "wZn0v9uD53aP"
      },
      "execution_count": 274,
      "outputs": []
    },
    {
      "cell_type": "code",
      "source": [
        "with strategy.scope():\n",
        "  \n",
        "  optimizer = tf.keras.optimizers.Adam(learning_rate=5e-5) #3e-5, 2e-5\n",
        "  loss = tf.keras.losses.BinaryCrossentropy()\n",
        "  precision = tf.keras.metrics.Precision()\n",
        "  model3 = create_model()\n",
        "  model3.compile(optimizer=optimizer, loss=loss, metrics=[precision])"
      ],
      "metadata": {
        "colab": {
          "base_uri": "https://localhost:8080/"
        },
        "id": "UUeoPNbs53lL",
        "outputId": "2f9dd96e-17e4-4590-fbee-c4dd6161e82d"
      },
      "execution_count": 275,
      "outputs": [
        {
          "output_type": "stream",
          "name": "stderr",
          "text": [
            "Some layers from the model checkpoint at bert-base-uncased were not used when initializing TFBertModel: ['mlm___cls', 'nsp___cls']\n",
            "- This IS expected if you are initializing TFBertModel from the checkpoint of a model trained on another task or with another architecture (e.g. initializing a BertForSequenceClassification model from a BertForPreTraining model).\n",
            "- This IS NOT expected if you are initializing TFBertModel from the checkpoint of a model that you expect to be exactly identical (initializing a BertForSequenceClassification model from a BertForSequenceClassification model).\n",
            "All the layers of TFBertModel were initialized from the model checkpoint at bert-base-uncased.\n",
            "If your task is similar to the task the model of the checkpoint was trained on, you can already use TFBertModel for predictions without further training.\n"
          ]
        }
      ]
    },
    {
      "cell_type": "code",
      "source": [
        "pd.Series(y).value_counts(normalize=True)"
      ],
      "metadata": {
        "colab": {
          "base_uri": "https://localhost:8080/"
        },
        "id": "zqOw0gT656aZ",
        "outputId": "179685e2-425b-4b0d-e065-17e0f54ef851"
      },
      "execution_count": 276,
      "outputs": [
        {
          "output_type": "execute_result",
          "data": {
            "text/plain": [
              "0    0.815159\n",
              "1    0.184841\n",
              "dtype: float64"
            ]
          },
          "metadata": {},
          "execution_count": 276
        }
      ]
    },
    {
      "cell_type": "code",
      "source": [
        "weights = {0:0.2, 1:0.8}"
      ],
      "metadata": {
        "id": "hYXuMEEy56fO"
      },
      "execution_count": 277,
      "outputs": []
    },
    {
      "cell_type": "code",
      "source": [
        "history = model3.fit(\n",
        "    train_ds, validation_data= val_ds,\n",
        "    epochs=1, class_weight=weights)"
      ],
      "metadata": {
        "colab": {
          "base_uri": "https://localhost:8080/"
        },
        "id": "idFYZHUj56iJ",
        "outputId": "515d49d1-e216-4fe0-886a-9c18a28112f1"
      },
      "execution_count": 278,
      "outputs": [
        {
          "output_type": "stream",
          "name": "stdout",
          "text": [
            "1190/1190 [==============================] - 167s 82ms/step - loss: 0.0845 - precision: 0.6301 - val_loss: 0.3902 - val_precision: 0.5928\n"
          ]
        }
      ]
    },
    {
      "cell_type": "code",
      "source": [
        "y_pred = model3.predict(val_ds) >= 0.5\n",
        "\n",
        "y_test = [j for i in val_ds for j in np.array(i[1])]\n",
        "\n",
        "\n",
        "print(classification_report(y_test, y_pred))"
      ],
      "metadata": {
        "colab": {
          "base_uri": "https://localhost:8080/"
        },
        "id": "bnVA7IIV5_y7",
        "outputId": "d1c24be8-138e-4758-ac76-ffdc4898bf4e"
      },
      "execution_count": 279,
      "outputs": [
        {
          "output_type": "stream",
          "name": "stdout",
          "text": [
            "              precision    recall  f1-score   support\n",
            "\n",
            "           0       0.99      0.83      0.91      1708\n",
            "           1       0.59      0.98      0.74       420\n",
            "\n",
            "    accuracy                           0.86      2128\n",
            "   macro avg       0.79      0.91      0.82      2128\n",
            "weighted avg       0.92      0.86      0.87      2128\n",
            "\n"
          ]
        }
      ]
    },
    {
      "cell_type": "code",
      "source": [
        "y_train_pred = model3.predict(train_ds) >= 0.5\n",
        "\n",
        "y_train = [j for i in train_ds for j in np.array(i[1])]\n",
        "\n",
        "print(classification_report(y_train, y_train_pred)) "
      ],
      "metadata": {
        "colab": {
          "base_uri": "https://localhost:8080/"
        },
        "id": "TWpGAFGJ5_1m",
        "outputId": "801e1c33-23ba-42e6-9f32-3b3e3899d6b8"
      },
      "execution_count": 280,
      "outputs": [
        {
          "output_type": "stream",
          "name": "stdout",
          "text": [
            "              precision    recall  f1-score   support\n",
            "\n",
            "           0       1.00      0.88      0.93     15548\n",
            "           1       0.64      1.00      0.78      3492\n",
            "\n",
            "    accuracy                           0.90     19040\n",
            "   macro avg       0.82      0.94      0.86     19040\n",
            "weighted avg       0.93      0.90      0.91     19040\n",
            "\n"
          ]
        }
      ]
    },
    {
      "cell_type": "code",
      "source": [
        "y_pred_proba = model3.predict(val_ds)\n",
        "average_precision_score(y_test, y_pred_proba)"
      ],
      "metadata": {
        "colab": {
          "base_uri": "https://localhost:8080/"
        },
        "id": "NB7UT9a-6GCg",
        "outputId": "7c8da25f-c137-4a1e-c79d-4ebec1f80884"
      },
      "execution_count": 281,
      "outputs": [
        {
          "output_type": "execute_result",
          "data": {
            "text/plain": [
              "0.9075923728368103"
            ]
          },
          "metadata": {},
          "execution_count": 281
        }
      ]
    },
    {
      "cell_type": "code",
      "source": [
        "BERT_with_weighted_AP = average_precision_score(y_test, y_pred_proba)\n",
        "BERT_with_weighted_f1 = f1_score(y_test, y_pred)\n",
        "BERT_with_weighted_rec = recall_score(y_test, y_pred)"
      ],
      "metadata": {
        "id": "DbZswubz6GE8"
      },
      "execution_count": 282,
      "outputs": []
    },
    {
      "cell_type": "markdown",
      "metadata": {
        "id": "Hdc5JYOXCV4A"
      },
      "source": [
        "### Compare Models F1 Scores, Recall Scores and Average Precision Score"
      ]
    },
    {
      "cell_type": "code",
      "execution_count": null,
      "metadata": {
        "id": "XNHPU19B6aAK"
      },
      "outputs": [],
      "source": [
        "compare = pd.DataFrame({\"Model\": [\"NaiveBayes_count\", \"LogReg_count\", \"SVM_count\", \"Random Forest_count\", \n",
        "                                  \"AdaBoost_count\", \"NaiveBayes_tfidf\", \"LogReg_tfidf\", \"SVM_tfidf\", \n",
        "                                  \"Random Forest_tfidf\", \"AdaBoost_tfidf\", \"DL\", \"BERT_Weighted\", \"BERT_Without_Weighted\"],\n",
        "                        \n",
        "                        \"F1_Score\": [nb_count_f1, log_count_f1, svc_count_f1,\n",
        "                                             rf_count_f1, ada_count_f1, nb_tfidf_f1, log_tfidf_f1,\n",
        "                                             svc_tfidf_f1, rf_tfidf_f1, ada_tfidf_f1, DL_f1, BERT_with_weighted_f1, BERT_without_weighted_f1],\n",
        "                        \n",
        "                        \"Recall_Score\": [nb_count_rec, log_count_rec, svc_count_rec, \n",
        "                                                   rf_count_rec, ada_count_rec, \n",
        "                                                  nb_tfidf_rec, log_tfidf_rec, svc_tfidf_rec, \n",
        "                                                  rf_tfidf_rec, ada_tfidf_rec, DL_rec, BERT_with_weighted_rec, BERT_without_weighted_rec],\n",
        "                        \n",
        "                        \"Average_Precision_Score\": [nb_AP_count, log_AP_count, svc_AP_count, rf_AP_count,\n",
        "                                                   ada_AP_count, nb_AP_tfidf, log_AP_tfidf, svc_AP_tfidf,\n",
        "                                                   rf_AP_tfidf, ada_AP_tfidf, DL_AP, BERT_with_weighted_AP, BERT_without_weighted_AP]})\n",
        "\n",
        "def labels(ax):\n",
        "                        \n",
        "     for p in ax.patches:\n",
        "        ax.bar_label(ax.containers[0],fmt=\"%.3f\")\n",
        "    \n",
        "plt.figure(figsize=(15,30))\n",
        "plt.subplot(311)\n",
        "compare = compare.sort_values(by=\"Recall_Score\", ascending=False)\n",
        "ax=sns.barplot(x=\"Recall_Score\", y=\"Model\", data=compare, palette=\"Blues_d\")\n",
        "labels(ax)\n",
        "\n",
        "plt.subplot(312)\n",
        "compare = compare.sort_values(by=\"F1_Score\", ascending=False)\n",
        "ax=sns.barplot(x=\"F1_Score\", y=\"Model\", data=compare, palette=\"Blues_d\")\n",
        "labels(ax)\n",
        "\n",
        "\n",
        "plt.subplot(313)\n",
        "compare = compare.sort_values(by=\"Average_Precision_Score\", ascending=False)\n",
        "ax=sns.barplot(x=\"Average_Precision_Score\", y=\"Model\", data=compare, palette=\"Blues_d\")\n",
        "labels(ax)\n",
        "plt.show();"
      ]
    },
    {
      "cell_type": "code",
      "execution_count": null,
      "metadata": {
        "id": "mJ4wfXRF6aAK"
      },
      "outputs": [],
      "source": [
        ""
      ]
    },
    {
      "cell_type": "code",
      "execution_count": null,
      "metadata": {
        "id": "ezuuQPJt6aAK"
      },
      "outputs": [],
      "source": [
        ""
      ]
    },
    {
      "cell_type": "markdown",
      "metadata": {
        "id": "mfUL4ZaXCV4A"
      },
      "source": [
        "### Conclusion"
      ]
    },
    {
      "cell_type": "code",
      "execution_count": null,
      "metadata": {
        "id": "gtY0hTdRCV4A"
      },
      "outputs": [],
      "source": [
        ""
      ]
    },
    {
      "cell_type": "markdown",
      "metadata": {
        "id": "gwF_x1BY6aAL"
      },
      "source": [
        "___\n",
        "\n",
        "<p style=\"text-align: center;\"><img src=\"https://docs.google.com/uc?id=1lY0Uj5R04yMY3-ZppPWxqCr5pvBLYPnV\" class=\"img-fluid\" alt=\"CLRSWY\"></p>\n",
        "\n",
        "___"
      ]
    }
  ],
  "metadata": {
    "colab": {
      "collapsed_sections": [
        "xaVrkxRpCV3_"
      ],
      "name": "NLP_Sentiment_Analysis_Project_D1123-Fatih.ipynb",
      "provenance": [],
      "include_colab_link": true
    },
    "kernelspec": {
      "display_name": "Python 3 (ipykernel)",
      "language": "python",
      "name": "python3"
    },
    "language_info": {
      "codemirror_mode": {
        "name": "ipython",
        "version": 3
      },
      "file_extension": ".py",
      "mimetype": "text/x-python",
      "name": "python",
      "nbconvert_exporter": "python",
      "pygments_lexer": "ipython3",
      "version": "3.7.9"
    },
    "accelerator": "TPU",
    "gpuClass": "standard",
    "widgets": {
      "application/vnd.jupyter.widget-state+json": {
        "19a2c6adfb064dfb83132043eeb6b315": {
          "model_module": "@jupyter-widgets/controls",
          "model_name": "HBoxModel",
          "model_module_version": "1.5.0",
          "state": {
            "_dom_classes": [],
            "_model_module": "@jupyter-widgets/controls",
            "_model_module_version": "1.5.0",
            "_model_name": "HBoxModel",
            "_view_count": null,
            "_view_module": "@jupyter-widgets/controls",
            "_view_module_version": "1.5.0",
            "_view_name": "HBoxView",
            "box_style": "",
            "children": [
              "IPY_MODEL_9810af5d2dcc406ba0ab56d6d3934c97",
              "IPY_MODEL_b56f9a03c5f64ee299c869dd2a30c08e",
              "IPY_MODEL_145d37febfcd4cedb93a30f968f54542"
            ],
            "layout": "IPY_MODEL_62f76b6664b543be86c9865bc5d04465"
          }
        },
        "9810af5d2dcc406ba0ab56d6d3934c97": {
          "model_module": "@jupyter-widgets/controls",
          "model_name": "HTMLModel",
          "model_module_version": "1.5.0",
          "state": {
            "_dom_classes": [],
            "_model_module": "@jupyter-widgets/controls",
            "_model_module_version": "1.5.0",
            "_model_name": "HTMLModel",
            "_view_count": null,
            "_view_module": "@jupyter-widgets/controls",
            "_view_module_version": "1.5.0",
            "_view_name": "HTMLView",
            "description": "",
            "description_tooltip": null,
            "layout": "IPY_MODEL_c1b8576525c8489092cf20aaf643cc68",
            "placeholder": "​",
            "style": "IPY_MODEL_a15517c2a55f4e7e8af4bd881c1a5691",
            "value": "Downloading: 100%"
          }
        },
        "b56f9a03c5f64ee299c869dd2a30c08e": {
          "model_module": "@jupyter-widgets/controls",
          "model_name": "FloatProgressModel",
          "model_module_version": "1.5.0",
          "state": {
            "_dom_classes": [],
            "_model_module": "@jupyter-widgets/controls",
            "_model_module_version": "1.5.0",
            "_model_name": "FloatProgressModel",
            "_view_count": null,
            "_view_module": "@jupyter-widgets/controls",
            "_view_module_version": "1.5.0",
            "_view_name": "ProgressView",
            "bar_style": "success",
            "description": "",
            "description_tooltip": null,
            "layout": "IPY_MODEL_10c8d5f841fe41cea8234ff03b0f7e75",
            "max": 28,
            "min": 0,
            "orientation": "horizontal",
            "style": "IPY_MODEL_51ed9889c519463f822d3c17ca5a263f",
            "value": 28
          }
        },
        "145d37febfcd4cedb93a30f968f54542": {
          "model_module": "@jupyter-widgets/controls",
          "model_name": "HTMLModel",
          "model_module_version": "1.5.0",
          "state": {
            "_dom_classes": [],
            "_model_module": "@jupyter-widgets/controls",
            "_model_module_version": "1.5.0",
            "_model_name": "HTMLModel",
            "_view_count": null,
            "_view_module": "@jupyter-widgets/controls",
            "_view_module_version": "1.5.0",
            "_view_name": "HTMLView",
            "description": "",
            "description_tooltip": null,
            "layout": "IPY_MODEL_896e75dea1404bb497cfc7c3b859f54d",
            "placeholder": "​",
            "style": "IPY_MODEL_aa241c0a84f6498c9def5a8f6b298844",
            "value": " 28.0/28.0 [00:00&lt;00:00, 315B/s]"
          }
        },
        "62f76b6664b543be86c9865bc5d04465": {
          "model_module": "@jupyter-widgets/base",
          "model_name": "LayoutModel",
          "model_module_version": "1.2.0",
          "state": {
            "_model_module": "@jupyter-widgets/base",
            "_model_module_version": "1.2.0",
            "_model_name": "LayoutModel",
            "_view_count": null,
            "_view_module": "@jupyter-widgets/base",
            "_view_module_version": "1.2.0",
            "_view_name": "LayoutView",
            "align_content": null,
            "align_items": null,
            "align_self": null,
            "border": null,
            "bottom": null,
            "display": null,
            "flex": null,
            "flex_flow": null,
            "grid_area": null,
            "grid_auto_columns": null,
            "grid_auto_flow": null,
            "grid_auto_rows": null,
            "grid_column": null,
            "grid_gap": null,
            "grid_row": null,
            "grid_template_areas": null,
            "grid_template_columns": null,
            "grid_template_rows": null,
            "height": null,
            "justify_content": null,
            "justify_items": null,
            "left": null,
            "margin": null,
            "max_height": null,
            "max_width": null,
            "min_height": null,
            "min_width": null,
            "object_fit": null,
            "object_position": null,
            "order": null,
            "overflow": null,
            "overflow_x": null,
            "overflow_y": null,
            "padding": null,
            "right": null,
            "top": null,
            "visibility": null,
            "width": null
          }
        },
        "c1b8576525c8489092cf20aaf643cc68": {
          "model_module": "@jupyter-widgets/base",
          "model_name": "LayoutModel",
          "model_module_version": "1.2.0",
          "state": {
            "_model_module": "@jupyter-widgets/base",
            "_model_module_version": "1.2.0",
            "_model_name": "LayoutModel",
            "_view_count": null,
            "_view_module": "@jupyter-widgets/base",
            "_view_module_version": "1.2.0",
            "_view_name": "LayoutView",
            "align_content": null,
            "align_items": null,
            "align_self": null,
            "border": null,
            "bottom": null,
            "display": null,
            "flex": null,
            "flex_flow": null,
            "grid_area": null,
            "grid_auto_columns": null,
            "grid_auto_flow": null,
            "grid_auto_rows": null,
            "grid_column": null,
            "grid_gap": null,
            "grid_row": null,
            "grid_template_areas": null,
            "grid_template_columns": null,
            "grid_template_rows": null,
            "height": null,
            "justify_content": null,
            "justify_items": null,
            "left": null,
            "margin": null,
            "max_height": null,
            "max_width": null,
            "min_height": null,
            "min_width": null,
            "object_fit": null,
            "object_position": null,
            "order": null,
            "overflow": null,
            "overflow_x": null,
            "overflow_y": null,
            "padding": null,
            "right": null,
            "top": null,
            "visibility": null,
            "width": null
          }
        },
        "a15517c2a55f4e7e8af4bd881c1a5691": {
          "model_module": "@jupyter-widgets/controls",
          "model_name": "DescriptionStyleModel",
          "model_module_version": "1.5.0",
          "state": {
            "_model_module": "@jupyter-widgets/controls",
            "_model_module_version": "1.5.0",
            "_model_name": "DescriptionStyleModel",
            "_view_count": null,
            "_view_module": "@jupyter-widgets/base",
            "_view_module_version": "1.2.0",
            "_view_name": "StyleView",
            "description_width": ""
          }
        },
        "10c8d5f841fe41cea8234ff03b0f7e75": {
          "model_module": "@jupyter-widgets/base",
          "model_name": "LayoutModel",
          "model_module_version": "1.2.0",
          "state": {
            "_model_module": "@jupyter-widgets/base",
            "_model_module_version": "1.2.0",
            "_model_name": "LayoutModel",
            "_view_count": null,
            "_view_module": "@jupyter-widgets/base",
            "_view_module_version": "1.2.0",
            "_view_name": "LayoutView",
            "align_content": null,
            "align_items": null,
            "align_self": null,
            "border": null,
            "bottom": null,
            "display": null,
            "flex": null,
            "flex_flow": null,
            "grid_area": null,
            "grid_auto_columns": null,
            "grid_auto_flow": null,
            "grid_auto_rows": null,
            "grid_column": null,
            "grid_gap": null,
            "grid_row": null,
            "grid_template_areas": null,
            "grid_template_columns": null,
            "grid_template_rows": null,
            "height": null,
            "justify_content": null,
            "justify_items": null,
            "left": null,
            "margin": null,
            "max_height": null,
            "max_width": null,
            "min_height": null,
            "min_width": null,
            "object_fit": null,
            "object_position": null,
            "order": null,
            "overflow": null,
            "overflow_x": null,
            "overflow_y": null,
            "padding": null,
            "right": null,
            "top": null,
            "visibility": null,
            "width": null
          }
        },
        "51ed9889c519463f822d3c17ca5a263f": {
          "model_module": "@jupyter-widgets/controls",
          "model_name": "ProgressStyleModel",
          "model_module_version": "1.5.0",
          "state": {
            "_model_module": "@jupyter-widgets/controls",
            "_model_module_version": "1.5.0",
            "_model_name": "ProgressStyleModel",
            "_view_count": null,
            "_view_module": "@jupyter-widgets/base",
            "_view_module_version": "1.2.0",
            "_view_name": "StyleView",
            "bar_color": null,
            "description_width": ""
          }
        },
        "896e75dea1404bb497cfc7c3b859f54d": {
          "model_module": "@jupyter-widgets/base",
          "model_name": "LayoutModel",
          "model_module_version": "1.2.0",
          "state": {
            "_model_module": "@jupyter-widgets/base",
            "_model_module_version": "1.2.0",
            "_model_name": "LayoutModel",
            "_view_count": null,
            "_view_module": "@jupyter-widgets/base",
            "_view_module_version": "1.2.0",
            "_view_name": "LayoutView",
            "align_content": null,
            "align_items": null,
            "align_self": null,
            "border": null,
            "bottom": null,
            "display": null,
            "flex": null,
            "flex_flow": null,
            "grid_area": null,
            "grid_auto_columns": null,
            "grid_auto_flow": null,
            "grid_auto_rows": null,
            "grid_column": null,
            "grid_gap": null,
            "grid_row": null,
            "grid_template_areas": null,
            "grid_template_columns": null,
            "grid_template_rows": null,
            "height": null,
            "justify_content": null,
            "justify_items": null,
            "left": null,
            "margin": null,
            "max_height": null,
            "max_width": null,
            "min_height": null,
            "min_width": null,
            "object_fit": null,
            "object_position": null,
            "order": null,
            "overflow": null,
            "overflow_x": null,
            "overflow_y": null,
            "padding": null,
            "right": null,
            "top": null,
            "visibility": null,
            "width": null
          }
        },
        "aa241c0a84f6498c9def5a8f6b298844": {
          "model_module": "@jupyter-widgets/controls",
          "model_name": "DescriptionStyleModel",
          "model_module_version": "1.5.0",
          "state": {
            "_model_module": "@jupyter-widgets/controls",
            "_model_module_version": "1.5.0",
            "_model_name": "DescriptionStyleModel",
            "_view_count": null,
            "_view_module": "@jupyter-widgets/base",
            "_view_module_version": "1.2.0",
            "_view_name": "StyleView",
            "description_width": ""
          }
        },
        "f95f4a8ba4fa4894ab69b94443c2dd54": {
          "model_module": "@jupyter-widgets/controls",
          "model_name": "HBoxModel",
          "model_module_version": "1.5.0",
          "state": {
            "_dom_classes": [],
            "_model_module": "@jupyter-widgets/controls",
            "_model_module_version": "1.5.0",
            "_model_name": "HBoxModel",
            "_view_count": null,
            "_view_module": "@jupyter-widgets/controls",
            "_view_module_version": "1.5.0",
            "_view_name": "HBoxView",
            "box_style": "",
            "children": [
              "IPY_MODEL_9d79bea8abb944efb02c6e6abd82a66d",
              "IPY_MODEL_8157189049d645608e4674a28e17af99",
              "IPY_MODEL_29816949e0f74206932a6b92e5ffcb42"
            ],
            "layout": "IPY_MODEL_c9605eb84bd24f95b381692b7833d944"
          }
        },
        "9d79bea8abb944efb02c6e6abd82a66d": {
          "model_module": "@jupyter-widgets/controls",
          "model_name": "HTMLModel",
          "model_module_version": "1.5.0",
          "state": {
            "_dom_classes": [],
            "_model_module": "@jupyter-widgets/controls",
            "_model_module_version": "1.5.0",
            "_model_name": "HTMLModel",
            "_view_count": null,
            "_view_module": "@jupyter-widgets/controls",
            "_view_module_version": "1.5.0",
            "_view_name": "HTMLView",
            "description": "",
            "description_tooltip": null,
            "layout": "IPY_MODEL_ac60c608c65f4032916d2650fa103f73",
            "placeholder": "​",
            "style": "IPY_MODEL_4504516ceffb48d89c03042c10a64136",
            "value": "Downloading: 100%"
          }
        },
        "8157189049d645608e4674a28e17af99": {
          "model_module": "@jupyter-widgets/controls",
          "model_name": "FloatProgressModel",
          "model_module_version": "1.5.0",
          "state": {
            "_dom_classes": [],
            "_model_module": "@jupyter-widgets/controls",
            "_model_module_version": "1.5.0",
            "_model_name": "FloatProgressModel",
            "_view_count": null,
            "_view_module": "@jupyter-widgets/controls",
            "_view_module_version": "1.5.0",
            "_view_name": "ProgressView",
            "bar_style": "success",
            "description": "",
            "description_tooltip": null,
            "layout": "IPY_MODEL_df829d7bbecd44309a849bea5bde2077",
            "max": 570,
            "min": 0,
            "orientation": "horizontal",
            "style": "IPY_MODEL_f5568d12c73c493ebb63de1a56d79304",
            "value": 570
          }
        },
        "29816949e0f74206932a6b92e5ffcb42": {
          "model_module": "@jupyter-widgets/controls",
          "model_name": "HTMLModel",
          "model_module_version": "1.5.0",
          "state": {
            "_dom_classes": [],
            "_model_module": "@jupyter-widgets/controls",
            "_model_module_version": "1.5.0",
            "_model_name": "HTMLModel",
            "_view_count": null,
            "_view_module": "@jupyter-widgets/controls",
            "_view_module_version": "1.5.0",
            "_view_name": "HTMLView",
            "description": "",
            "description_tooltip": null,
            "layout": "IPY_MODEL_5c7c5390c27d470e89ee533e9b2ba679",
            "placeholder": "​",
            "style": "IPY_MODEL_7fa32bf9259a43ea8a24484a888454dc",
            "value": " 570/570 [00:00&lt;00:00, 4.30kB/s]"
          }
        },
        "c9605eb84bd24f95b381692b7833d944": {
          "model_module": "@jupyter-widgets/base",
          "model_name": "LayoutModel",
          "model_module_version": "1.2.0",
          "state": {
            "_model_module": "@jupyter-widgets/base",
            "_model_module_version": "1.2.0",
            "_model_name": "LayoutModel",
            "_view_count": null,
            "_view_module": "@jupyter-widgets/base",
            "_view_module_version": "1.2.0",
            "_view_name": "LayoutView",
            "align_content": null,
            "align_items": null,
            "align_self": null,
            "border": null,
            "bottom": null,
            "display": null,
            "flex": null,
            "flex_flow": null,
            "grid_area": null,
            "grid_auto_columns": null,
            "grid_auto_flow": null,
            "grid_auto_rows": null,
            "grid_column": null,
            "grid_gap": null,
            "grid_row": null,
            "grid_template_areas": null,
            "grid_template_columns": null,
            "grid_template_rows": null,
            "height": null,
            "justify_content": null,
            "justify_items": null,
            "left": null,
            "margin": null,
            "max_height": null,
            "max_width": null,
            "min_height": null,
            "min_width": null,
            "object_fit": null,
            "object_position": null,
            "order": null,
            "overflow": null,
            "overflow_x": null,
            "overflow_y": null,
            "padding": null,
            "right": null,
            "top": null,
            "visibility": null,
            "width": null
          }
        },
        "ac60c608c65f4032916d2650fa103f73": {
          "model_module": "@jupyter-widgets/base",
          "model_name": "LayoutModel",
          "model_module_version": "1.2.0",
          "state": {
            "_model_module": "@jupyter-widgets/base",
            "_model_module_version": "1.2.0",
            "_model_name": "LayoutModel",
            "_view_count": null,
            "_view_module": "@jupyter-widgets/base",
            "_view_module_version": "1.2.0",
            "_view_name": "LayoutView",
            "align_content": null,
            "align_items": null,
            "align_self": null,
            "border": null,
            "bottom": null,
            "display": null,
            "flex": null,
            "flex_flow": null,
            "grid_area": null,
            "grid_auto_columns": null,
            "grid_auto_flow": null,
            "grid_auto_rows": null,
            "grid_column": null,
            "grid_gap": null,
            "grid_row": null,
            "grid_template_areas": null,
            "grid_template_columns": null,
            "grid_template_rows": null,
            "height": null,
            "justify_content": null,
            "justify_items": null,
            "left": null,
            "margin": null,
            "max_height": null,
            "max_width": null,
            "min_height": null,
            "min_width": null,
            "object_fit": null,
            "object_position": null,
            "order": null,
            "overflow": null,
            "overflow_x": null,
            "overflow_y": null,
            "padding": null,
            "right": null,
            "top": null,
            "visibility": null,
            "width": null
          }
        },
        "4504516ceffb48d89c03042c10a64136": {
          "model_module": "@jupyter-widgets/controls",
          "model_name": "DescriptionStyleModel",
          "model_module_version": "1.5.0",
          "state": {
            "_model_module": "@jupyter-widgets/controls",
            "_model_module_version": "1.5.0",
            "_model_name": "DescriptionStyleModel",
            "_view_count": null,
            "_view_module": "@jupyter-widgets/base",
            "_view_module_version": "1.2.0",
            "_view_name": "StyleView",
            "description_width": ""
          }
        },
        "df829d7bbecd44309a849bea5bde2077": {
          "model_module": "@jupyter-widgets/base",
          "model_name": "LayoutModel",
          "model_module_version": "1.2.0",
          "state": {
            "_model_module": "@jupyter-widgets/base",
            "_model_module_version": "1.2.0",
            "_model_name": "LayoutModel",
            "_view_count": null,
            "_view_module": "@jupyter-widgets/base",
            "_view_module_version": "1.2.0",
            "_view_name": "LayoutView",
            "align_content": null,
            "align_items": null,
            "align_self": null,
            "border": null,
            "bottom": null,
            "display": null,
            "flex": null,
            "flex_flow": null,
            "grid_area": null,
            "grid_auto_columns": null,
            "grid_auto_flow": null,
            "grid_auto_rows": null,
            "grid_column": null,
            "grid_gap": null,
            "grid_row": null,
            "grid_template_areas": null,
            "grid_template_columns": null,
            "grid_template_rows": null,
            "height": null,
            "justify_content": null,
            "justify_items": null,
            "left": null,
            "margin": null,
            "max_height": null,
            "max_width": null,
            "min_height": null,
            "min_width": null,
            "object_fit": null,
            "object_position": null,
            "order": null,
            "overflow": null,
            "overflow_x": null,
            "overflow_y": null,
            "padding": null,
            "right": null,
            "top": null,
            "visibility": null,
            "width": null
          }
        },
        "f5568d12c73c493ebb63de1a56d79304": {
          "model_module": "@jupyter-widgets/controls",
          "model_name": "ProgressStyleModel",
          "model_module_version": "1.5.0",
          "state": {
            "_model_module": "@jupyter-widgets/controls",
            "_model_module_version": "1.5.0",
            "_model_name": "ProgressStyleModel",
            "_view_count": null,
            "_view_module": "@jupyter-widgets/base",
            "_view_module_version": "1.2.0",
            "_view_name": "StyleView",
            "bar_color": null,
            "description_width": ""
          }
        },
        "5c7c5390c27d470e89ee533e9b2ba679": {
          "model_module": "@jupyter-widgets/base",
          "model_name": "LayoutModel",
          "model_module_version": "1.2.0",
          "state": {
            "_model_module": "@jupyter-widgets/base",
            "_model_module_version": "1.2.0",
            "_model_name": "LayoutModel",
            "_view_count": null,
            "_view_module": "@jupyter-widgets/base",
            "_view_module_version": "1.2.0",
            "_view_name": "LayoutView",
            "align_content": null,
            "align_items": null,
            "align_self": null,
            "border": null,
            "bottom": null,
            "display": null,
            "flex": null,
            "flex_flow": null,
            "grid_area": null,
            "grid_auto_columns": null,
            "grid_auto_flow": null,
            "grid_auto_rows": null,
            "grid_column": null,
            "grid_gap": null,
            "grid_row": null,
            "grid_template_areas": null,
            "grid_template_columns": null,
            "grid_template_rows": null,
            "height": null,
            "justify_content": null,
            "justify_items": null,
            "left": null,
            "margin": null,
            "max_height": null,
            "max_width": null,
            "min_height": null,
            "min_width": null,
            "object_fit": null,
            "object_position": null,
            "order": null,
            "overflow": null,
            "overflow_x": null,
            "overflow_y": null,
            "padding": null,
            "right": null,
            "top": null,
            "visibility": null,
            "width": null
          }
        },
        "7fa32bf9259a43ea8a24484a888454dc": {
          "model_module": "@jupyter-widgets/controls",
          "model_name": "DescriptionStyleModel",
          "model_module_version": "1.5.0",
          "state": {
            "_model_module": "@jupyter-widgets/controls",
            "_model_module_version": "1.5.0",
            "_model_name": "DescriptionStyleModel",
            "_view_count": null,
            "_view_module": "@jupyter-widgets/base",
            "_view_module_version": "1.2.0",
            "_view_name": "StyleView",
            "description_width": ""
          }
        },
        "c6dfc371078d4b408e5e6921259c1703": {
          "model_module": "@jupyter-widgets/controls",
          "model_name": "HBoxModel",
          "model_module_version": "1.5.0",
          "state": {
            "_dom_classes": [],
            "_model_module": "@jupyter-widgets/controls",
            "_model_module_version": "1.5.0",
            "_model_name": "HBoxModel",
            "_view_count": null,
            "_view_module": "@jupyter-widgets/controls",
            "_view_module_version": "1.5.0",
            "_view_name": "HBoxView",
            "box_style": "",
            "children": [
              "IPY_MODEL_8558e1d6a1c048d186793ad02d3ce54a",
              "IPY_MODEL_40bc4bb77620457ba78d0da6d7f91382",
              "IPY_MODEL_39dc0969100a49ef9953c1f486e9696a"
            ],
            "layout": "IPY_MODEL_0f2f5493a10b49928f38fe6f74e8473d"
          }
        },
        "8558e1d6a1c048d186793ad02d3ce54a": {
          "model_module": "@jupyter-widgets/controls",
          "model_name": "HTMLModel",
          "model_module_version": "1.5.0",
          "state": {
            "_dom_classes": [],
            "_model_module": "@jupyter-widgets/controls",
            "_model_module_version": "1.5.0",
            "_model_name": "HTMLModel",
            "_view_count": null,
            "_view_module": "@jupyter-widgets/controls",
            "_view_module_version": "1.5.0",
            "_view_name": "HTMLView",
            "description": "",
            "description_tooltip": null,
            "layout": "IPY_MODEL_50bebc4d8e9149d296ec41fe38099ffa",
            "placeholder": "​",
            "style": "IPY_MODEL_714be45e53dc4754b3153ee3bba2ff05",
            "value": "Downloading: 100%"
          }
        },
        "40bc4bb77620457ba78d0da6d7f91382": {
          "model_module": "@jupyter-widgets/controls",
          "model_name": "FloatProgressModel",
          "model_module_version": "1.5.0",
          "state": {
            "_dom_classes": [],
            "_model_module": "@jupyter-widgets/controls",
            "_model_module_version": "1.5.0",
            "_model_name": "FloatProgressModel",
            "_view_count": null,
            "_view_module": "@jupyter-widgets/controls",
            "_view_module_version": "1.5.0",
            "_view_name": "ProgressView",
            "bar_style": "success",
            "description": "",
            "description_tooltip": null,
            "layout": "IPY_MODEL_1c553fd2a11a478c92ae78bbfb0fa0fc",
            "max": 231508,
            "min": 0,
            "orientation": "horizontal",
            "style": "IPY_MODEL_ce9ef61795b74e13a194e7d76ecf755a",
            "value": 231508
          }
        },
        "39dc0969100a49ef9953c1f486e9696a": {
          "model_module": "@jupyter-widgets/controls",
          "model_name": "HTMLModel",
          "model_module_version": "1.5.0",
          "state": {
            "_dom_classes": [],
            "_model_module": "@jupyter-widgets/controls",
            "_model_module_version": "1.5.0",
            "_model_name": "HTMLModel",
            "_view_count": null,
            "_view_module": "@jupyter-widgets/controls",
            "_view_module_version": "1.5.0",
            "_view_name": "HTMLView",
            "description": "",
            "description_tooltip": null,
            "layout": "IPY_MODEL_3e588e89c3c54694aefb0e68db281922",
            "placeholder": "​",
            "style": "IPY_MODEL_0dbde910cb1e4369aa2584e9d04a20b7",
            "value": " 226k/226k [00:00&lt;00:00, 8.00kB/s]"
          }
        },
        "0f2f5493a10b49928f38fe6f74e8473d": {
          "model_module": "@jupyter-widgets/base",
          "model_name": "LayoutModel",
          "model_module_version": "1.2.0",
          "state": {
            "_model_module": "@jupyter-widgets/base",
            "_model_module_version": "1.2.0",
            "_model_name": "LayoutModel",
            "_view_count": null,
            "_view_module": "@jupyter-widgets/base",
            "_view_module_version": "1.2.0",
            "_view_name": "LayoutView",
            "align_content": null,
            "align_items": null,
            "align_self": null,
            "border": null,
            "bottom": null,
            "display": null,
            "flex": null,
            "flex_flow": null,
            "grid_area": null,
            "grid_auto_columns": null,
            "grid_auto_flow": null,
            "grid_auto_rows": null,
            "grid_column": null,
            "grid_gap": null,
            "grid_row": null,
            "grid_template_areas": null,
            "grid_template_columns": null,
            "grid_template_rows": null,
            "height": null,
            "justify_content": null,
            "justify_items": null,
            "left": null,
            "margin": null,
            "max_height": null,
            "max_width": null,
            "min_height": null,
            "min_width": null,
            "object_fit": null,
            "object_position": null,
            "order": null,
            "overflow": null,
            "overflow_x": null,
            "overflow_y": null,
            "padding": null,
            "right": null,
            "top": null,
            "visibility": null,
            "width": null
          }
        },
        "50bebc4d8e9149d296ec41fe38099ffa": {
          "model_module": "@jupyter-widgets/base",
          "model_name": "LayoutModel",
          "model_module_version": "1.2.0",
          "state": {
            "_model_module": "@jupyter-widgets/base",
            "_model_module_version": "1.2.0",
            "_model_name": "LayoutModel",
            "_view_count": null,
            "_view_module": "@jupyter-widgets/base",
            "_view_module_version": "1.2.0",
            "_view_name": "LayoutView",
            "align_content": null,
            "align_items": null,
            "align_self": null,
            "border": null,
            "bottom": null,
            "display": null,
            "flex": null,
            "flex_flow": null,
            "grid_area": null,
            "grid_auto_columns": null,
            "grid_auto_flow": null,
            "grid_auto_rows": null,
            "grid_column": null,
            "grid_gap": null,
            "grid_row": null,
            "grid_template_areas": null,
            "grid_template_columns": null,
            "grid_template_rows": null,
            "height": null,
            "justify_content": null,
            "justify_items": null,
            "left": null,
            "margin": null,
            "max_height": null,
            "max_width": null,
            "min_height": null,
            "min_width": null,
            "object_fit": null,
            "object_position": null,
            "order": null,
            "overflow": null,
            "overflow_x": null,
            "overflow_y": null,
            "padding": null,
            "right": null,
            "top": null,
            "visibility": null,
            "width": null
          }
        },
        "714be45e53dc4754b3153ee3bba2ff05": {
          "model_module": "@jupyter-widgets/controls",
          "model_name": "DescriptionStyleModel",
          "model_module_version": "1.5.0",
          "state": {
            "_model_module": "@jupyter-widgets/controls",
            "_model_module_version": "1.5.0",
            "_model_name": "DescriptionStyleModel",
            "_view_count": null,
            "_view_module": "@jupyter-widgets/base",
            "_view_module_version": "1.2.0",
            "_view_name": "StyleView",
            "description_width": ""
          }
        },
        "1c553fd2a11a478c92ae78bbfb0fa0fc": {
          "model_module": "@jupyter-widgets/base",
          "model_name": "LayoutModel",
          "model_module_version": "1.2.0",
          "state": {
            "_model_module": "@jupyter-widgets/base",
            "_model_module_version": "1.2.0",
            "_model_name": "LayoutModel",
            "_view_count": null,
            "_view_module": "@jupyter-widgets/base",
            "_view_module_version": "1.2.0",
            "_view_name": "LayoutView",
            "align_content": null,
            "align_items": null,
            "align_self": null,
            "border": null,
            "bottom": null,
            "display": null,
            "flex": null,
            "flex_flow": null,
            "grid_area": null,
            "grid_auto_columns": null,
            "grid_auto_flow": null,
            "grid_auto_rows": null,
            "grid_column": null,
            "grid_gap": null,
            "grid_row": null,
            "grid_template_areas": null,
            "grid_template_columns": null,
            "grid_template_rows": null,
            "height": null,
            "justify_content": null,
            "justify_items": null,
            "left": null,
            "margin": null,
            "max_height": null,
            "max_width": null,
            "min_height": null,
            "min_width": null,
            "object_fit": null,
            "object_position": null,
            "order": null,
            "overflow": null,
            "overflow_x": null,
            "overflow_y": null,
            "padding": null,
            "right": null,
            "top": null,
            "visibility": null,
            "width": null
          }
        },
        "ce9ef61795b74e13a194e7d76ecf755a": {
          "model_module": "@jupyter-widgets/controls",
          "model_name": "ProgressStyleModel",
          "model_module_version": "1.5.0",
          "state": {
            "_model_module": "@jupyter-widgets/controls",
            "_model_module_version": "1.5.0",
            "_model_name": "ProgressStyleModel",
            "_view_count": null,
            "_view_module": "@jupyter-widgets/base",
            "_view_module_version": "1.2.0",
            "_view_name": "StyleView",
            "bar_color": null,
            "description_width": ""
          }
        },
        "3e588e89c3c54694aefb0e68db281922": {
          "model_module": "@jupyter-widgets/base",
          "model_name": "LayoutModel",
          "model_module_version": "1.2.0",
          "state": {
            "_model_module": "@jupyter-widgets/base",
            "_model_module_version": "1.2.0",
            "_model_name": "LayoutModel",
            "_view_count": null,
            "_view_module": "@jupyter-widgets/base",
            "_view_module_version": "1.2.0",
            "_view_name": "LayoutView",
            "align_content": null,
            "align_items": null,
            "align_self": null,
            "border": null,
            "bottom": null,
            "display": null,
            "flex": null,
            "flex_flow": null,
            "grid_area": null,
            "grid_auto_columns": null,
            "grid_auto_flow": null,
            "grid_auto_rows": null,
            "grid_column": null,
            "grid_gap": null,
            "grid_row": null,
            "grid_template_areas": null,
            "grid_template_columns": null,
            "grid_template_rows": null,
            "height": null,
            "justify_content": null,
            "justify_items": null,
            "left": null,
            "margin": null,
            "max_height": null,
            "max_width": null,
            "min_height": null,
            "min_width": null,
            "object_fit": null,
            "object_position": null,
            "order": null,
            "overflow": null,
            "overflow_x": null,
            "overflow_y": null,
            "padding": null,
            "right": null,
            "top": null,
            "visibility": null,
            "width": null
          }
        },
        "0dbde910cb1e4369aa2584e9d04a20b7": {
          "model_module": "@jupyter-widgets/controls",
          "model_name": "DescriptionStyleModel",
          "model_module_version": "1.5.0",
          "state": {
            "_model_module": "@jupyter-widgets/controls",
            "_model_module_version": "1.5.0",
            "_model_name": "DescriptionStyleModel",
            "_view_count": null,
            "_view_module": "@jupyter-widgets/base",
            "_view_module_version": "1.2.0",
            "_view_name": "StyleView",
            "description_width": ""
          }
        },
        "4a7f3916c8214f47884f896c8076d0ca": {
          "model_module": "@jupyter-widgets/controls",
          "model_name": "HBoxModel",
          "model_module_version": "1.5.0",
          "state": {
            "_dom_classes": [],
            "_model_module": "@jupyter-widgets/controls",
            "_model_module_version": "1.5.0",
            "_model_name": "HBoxModel",
            "_view_count": null,
            "_view_module": "@jupyter-widgets/controls",
            "_view_module_version": "1.5.0",
            "_view_name": "HBoxView",
            "box_style": "",
            "children": [
              "IPY_MODEL_4ee071212eed4685ba203d52e10f032f",
              "IPY_MODEL_e4f4cf98f4a7490b975cacedbc1c5dc6",
              "IPY_MODEL_9bfc96ed6b68430cbaf7b67957a20689"
            ],
            "layout": "IPY_MODEL_9b9d07d16c11458789839b850b4daa1a"
          }
        },
        "4ee071212eed4685ba203d52e10f032f": {
          "model_module": "@jupyter-widgets/controls",
          "model_name": "HTMLModel",
          "model_module_version": "1.5.0",
          "state": {
            "_dom_classes": [],
            "_model_module": "@jupyter-widgets/controls",
            "_model_module_version": "1.5.0",
            "_model_name": "HTMLModel",
            "_view_count": null,
            "_view_module": "@jupyter-widgets/controls",
            "_view_module_version": "1.5.0",
            "_view_name": "HTMLView",
            "description": "",
            "description_tooltip": null,
            "layout": "IPY_MODEL_3f927419d72b49959cf8853de3b2e165",
            "placeholder": "​",
            "style": "IPY_MODEL_22bdaec425d74e1b80004491f59235fa",
            "value": "Downloading: 100%"
          }
        },
        "e4f4cf98f4a7490b975cacedbc1c5dc6": {
          "model_module": "@jupyter-widgets/controls",
          "model_name": "FloatProgressModel",
          "model_module_version": "1.5.0",
          "state": {
            "_dom_classes": [],
            "_model_module": "@jupyter-widgets/controls",
            "_model_module_version": "1.5.0",
            "_model_name": "FloatProgressModel",
            "_view_count": null,
            "_view_module": "@jupyter-widgets/controls",
            "_view_module_version": "1.5.0",
            "_view_name": "ProgressView",
            "bar_style": "success",
            "description": "",
            "description_tooltip": null,
            "layout": "IPY_MODEL_917c1ad494c4439cb706ae4db85c9f54",
            "max": 466062,
            "min": 0,
            "orientation": "horizontal",
            "style": "IPY_MODEL_7bee0342122e46879a9e604b69a8bd85",
            "value": 466062
          }
        },
        "9bfc96ed6b68430cbaf7b67957a20689": {
          "model_module": "@jupyter-widgets/controls",
          "model_name": "HTMLModel",
          "model_module_version": "1.5.0",
          "state": {
            "_dom_classes": [],
            "_model_module": "@jupyter-widgets/controls",
            "_model_module_version": "1.5.0",
            "_model_name": "HTMLModel",
            "_view_count": null,
            "_view_module": "@jupyter-widgets/controls",
            "_view_module_version": "1.5.0",
            "_view_name": "HTMLView",
            "description": "",
            "description_tooltip": null,
            "layout": "IPY_MODEL_204107f929cb401dbf83af540874efde",
            "placeholder": "​",
            "style": "IPY_MODEL_5092e1d71bd94bb2a4fe992ae630cf38",
            "value": " 455k/455k [00:00&lt;00:00, 1.63MB/s]"
          }
        },
        "9b9d07d16c11458789839b850b4daa1a": {
          "model_module": "@jupyter-widgets/base",
          "model_name": "LayoutModel",
          "model_module_version": "1.2.0",
          "state": {
            "_model_module": "@jupyter-widgets/base",
            "_model_module_version": "1.2.0",
            "_model_name": "LayoutModel",
            "_view_count": null,
            "_view_module": "@jupyter-widgets/base",
            "_view_module_version": "1.2.0",
            "_view_name": "LayoutView",
            "align_content": null,
            "align_items": null,
            "align_self": null,
            "border": null,
            "bottom": null,
            "display": null,
            "flex": null,
            "flex_flow": null,
            "grid_area": null,
            "grid_auto_columns": null,
            "grid_auto_flow": null,
            "grid_auto_rows": null,
            "grid_column": null,
            "grid_gap": null,
            "grid_row": null,
            "grid_template_areas": null,
            "grid_template_columns": null,
            "grid_template_rows": null,
            "height": null,
            "justify_content": null,
            "justify_items": null,
            "left": null,
            "margin": null,
            "max_height": null,
            "max_width": null,
            "min_height": null,
            "min_width": null,
            "object_fit": null,
            "object_position": null,
            "order": null,
            "overflow": null,
            "overflow_x": null,
            "overflow_y": null,
            "padding": null,
            "right": null,
            "top": null,
            "visibility": null,
            "width": null
          }
        },
        "3f927419d72b49959cf8853de3b2e165": {
          "model_module": "@jupyter-widgets/base",
          "model_name": "LayoutModel",
          "model_module_version": "1.2.0",
          "state": {
            "_model_module": "@jupyter-widgets/base",
            "_model_module_version": "1.2.0",
            "_model_name": "LayoutModel",
            "_view_count": null,
            "_view_module": "@jupyter-widgets/base",
            "_view_module_version": "1.2.0",
            "_view_name": "LayoutView",
            "align_content": null,
            "align_items": null,
            "align_self": null,
            "border": null,
            "bottom": null,
            "display": null,
            "flex": null,
            "flex_flow": null,
            "grid_area": null,
            "grid_auto_columns": null,
            "grid_auto_flow": null,
            "grid_auto_rows": null,
            "grid_column": null,
            "grid_gap": null,
            "grid_row": null,
            "grid_template_areas": null,
            "grid_template_columns": null,
            "grid_template_rows": null,
            "height": null,
            "justify_content": null,
            "justify_items": null,
            "left": null,
            "margin": null,
            "max_height": null,
            "max_width": null,
            "min_height": null,
            "min_width": null,
            "object_fit": null,
            "object_position": null,
            "order": null,
            "overflow": null,
            "overflow_x": null,
            "overflow_y": null,
            "padding": null,
            "right": null,
            "top": null,
            "visibility": null,
            "width": null
          }
        },
        "22bdaec425d74e1b80004491f59235fa": {
          "model_module": "@jupyter-widgets/controls",
          "model_name": "DescriptionStyleModel",
          "model_module_version": "1.5.0",
          "state": {
            "_model_module": "@jupyter-widgets/controls",
            "_model_module_version": "1.5.0",
            "_model_name": "DescriptionStyleModel",
            "_view_count": null,
            "_view_module": "@jupyter-widgets/base",
            "_view_module_version": "1.2.0",
            "_view_name": "StyleView",
            "description_width": ""
          }
        },
        "917c1ad494c4439cb706ae4db85c9f54": {
          "model_module": "@jupyter-widgets/base",
          "model_name": "LayoutModel",
          "model_module_version": "1.2.0",
          "state": {
            "_model_module": "@jupyter-widgets/base",
            "_model_module_version": "1.2.0",
            "_model_name": "LayoutModel",
            "_view_count": null,
            "_view_module": "@jupyter-widgets/base",
            "_view_module_version": "1.2.0",
            "_view_name": "LayoutView",
            "align_content": null,
            "align_items": null,
            "align_self": null,
            "border": null,
            "bottom": null,
            "display": null,
            "flex": null,
            "flex_flow": null,
            "grid_area": null,
            "grid_auto_columns": null,
            "grid_auto_flow": null,
            "grid_auto_rows": null,
            "grid_column": null,
            "grid_gap": null,
            "grid_row": null,
            "grid_template_areas": null,
            "grid_template_columns": null,
            "grid_template_rows": null,
            "height": null,
            "justify_content": null,
            "justify_items": null,
            "left": null,
            "margin": null,
            "max_height": null,
            "max_width": null,
            "min_height": null,
            "min_width": null,
            "object_fit": null,
            "object_position": null,
            "order": null,
            "overflow": null,
            "overflow_x": null,
            "overflow_y": null,
            "padding": null,
            "right": null,
            "top": null,
            "visibility": null,
            "width": null
          }
        },
        "7bee0342122e46879a9e604b69a8bd85": {
          "model_module": "@jupyter-widgets/controls",
          "model_name": "ProgressStyleModel",
          "model_module_version": "1.5.0",
          "state": {
            "_model_module": "@jupyter-widgets/controls",
            "_model_module_version": "1.5.0",
            "_model_name": "ProgressStyleModel",
            "_view_count": null,
            "_view_module": "@jupyter-widgets/base",
            "_view_module_version": "1.2.0",
            "_view_name": "StyleView",
            "bar_color": null,
            "description_width": ""
          }
        },
        "204107f929cb401dbf83af540874efde": {
          "model_module": "@jupyter-widgets/base",
          "model_name": "LayoutModel",
          "model_module_version": "1.2.0",
          "state": {
            "_model_module": "@jupyter-widgets/base",
            "_model_module_version": "1.2.0",
            "_model_name": "LayoutModel",
            "_view_count": null,
            "_view_module": "@jupyter-widgets/base",
            "_view_module_version": "1.2.0",
            "_view_name": "LayoutView",
            "align_content": null,
            "align_items": null,
            "align_self": null,
            "border": null,
            "bottom": null,
            "display": null,
            "flex": null,
            "flex_flow": null,
            "grid_area": null,
            "grid_auto_columns": null,
            "grid_auto_flow": null,
            "grid_auto_rows": null,
            "grid_column": null,
            "grid_gap": null,
            "grid_row": null,
            "grid_template_areas": null,
            "grid_template_columns": null,
            "grid_template_rows": null,
            "height": null,
            "justify_content": null,
            "justify_items": null,
            "left": null,
            "margin": null,
            "max_height": null,
            "max_width": null,
            "min_height": null,
            "min_width": null,
            "object_fit": null,
            "object_position": null,
            "order": null,
            "overflow": null,
            "overflow_x": null,
            "overflow_y": null,
            "padding": null,
            "right": null,
            "top": null,
            "visibility": null,
            "width": null
          }
        },
        "5092e1d71bd94bb2a4fe992ae630cf38": {
          "model_module": "@jupyter-widgets/controls",
          "model_name": "DescriptionStyleModel",
          "model_module_version": "1.5.0",
          "state": {
            "_model_module": "@jupyter-widgets/controls",
            "_model_module_version": "1.5.0",
            "_model_name": "DescriptionStyleModel",
            "_view_count": null,
            "_view_module": "@jupyter-widgets/base",
            "_view_module_version": "1.2.0",
            "_view_name": "StyleView",
            "description_width": ""
          }
        },
        "e385e257ed9c4a45a5d9566b4c078cf4": {
          "model_module": "@jupyter-widgets/controls",
          "model_name": "HBoxModel",
          "model_module_version": "1.5.0",
          "state": {
            "_dom_classes": [],
            "_model_module": "@jupyter-widgets/controls",
            "_model_module_version": "1.5.0",
            "_model_name": "HBoxModel",
            "_view_count": null,
            "_view_module": "@jupyter-widgets/controls",
            "_view_module_version": "1.5.0",
            "_view_name": "HBoxView",
            "box_style": "",
            "children": [
              "IPY_MODEL_dbee4f9e8ae447718eb397c18bfaa6c1",
              "IPY_MODEL_aa29507df3df4db0904448725f04c1e5",
              "IPY_MODEL_83c94ad5554f4219b390f61caeacf4f1"
            ],
            "layout": "IPY_MODEL_693dab4aff864d3e9b39a01d01d37455"
          }
        },
        "dbee4f9e8ae447718eb397c18bfaa6c1": {
          "model_module": "@jupyter-widgets/controls",
          "model_name": "HTMLModel",
          "model_module_version": "1.5.0",
          "state": {
            "_dom_classes": [],
            "_model_module": "@jupyter-widgets/controls",
            "_model_module_version": "1.5.0",
            "_model_name": "HTMLModel",
            "_view_count": null,
            "_view_module": "@jupyter-widgets/controls",
            "_view_module_version": "1.5.0",
            "_view_name": "HTMLView",
            "description": "",
            "description_tooltip": null,
            "layout": "IPY_MODEL_e0ec741813e94730bb28f7e5c8fbef89",
            "placeholder": "​",
            "style": "IPY_MODEL_560482cbec5a43df9625a03957543cb5",
            "value": "Downloading: 100%"
          }
        },
        "aa29507df3df4db0904448725f04c1e5": {
          "model_module": "@jupyter-widgets/controls",
          "model_name": "FloatProgressModel",
          "model_module_version": "1.5.0",
          "state": {
            "_dom_classes": [],
            "_model_module": "@jupyter-widgets/controls",
            "_model_module_version": "1.5.0",
            "_model_name": "FloatProgressModel",
            "_view_count": null,
            "_view_module": "@jupyter-widgets/controls",
            "_view_module_version": "1.5.0",
            "_view_name": "ProgressView",
            "bar_style": "success",
            "description": "",
            "description_tooltip": null,
            "layout": "IPY_MODEL_cf5e985dc4f7485d825a66119a40070c",
            "max": 536063208,
            "min": 0,
            "orientation": "horizontal",
            "style": "IPY_MODEL_bd0d9db56265460f9e3e4f16b5923d07",
            "value": 536063208
          }
        },
        "83c94ad5554f4219b390f61caeacf4f1": {
          "model_module": "@jupyter-widgets/controls",
          "model_name": "HTMLModel",
          "model_module_version": "1.5.0",
          "state": {
            "_dom_classes": [],
            "_model_module": "@jupyter-widgets/controls",
            "_model_module_version": "1.5.0",
            "_model_name": "HTMLModel",
            "_view_count": null,
            "_view_module": "@jupyter-widgets/controls",
            "_view_module_version": "1.5.0",
            "_view_name": "HTMLView",
            "description": "",
            "description_tooltip": null,
            "layout": "IPY_MODEL_9626dbb8ae8c4dc497652a2164a20de9",
            "placeholder": "​",
            "style": "IPY_MODEL_b825dd7b0e4042fcbdcb90ba17f4433d",
            "value": " 511M/511M [00:25&lt;00:00, 24.0MB/s]"
          }
        },
        "693dab4aff864d3e9b39a01d01d37455": {
          "model_module": "@jupyter-widgets/base",
          "model_name": "LayoutModel",
          "model_module_version": "1.2.0",
          "state": {
            "_model_module": "@jupyter-widgets/base",
            "_model_module_version": "1.2.0",
            "_model_name": "LayoutModel",
            "_view_count": null,
            "_view_module": "@jupyter-widgets/base",
            "_view_module_version": "1.2.0",
            "_view_name": "LayoutView",
            "align_content": null,
            "align_items": null,
            "align_self": null,
            "border": null,
            "bottom": null,
            "display": null,
            "flex": null,
            "flex_flow": null,
            "grid_area": null,
            "grid_auto_columns": null,
            "grid_auto_flow": null,
            "grid_auto_rows": null,
            "grid_column": null,
            "grid_gap": null,
            "grid_row": null,
            "grid_template_areas": null,
            "grid_template_columns": null,
            "grid_template_rows": null,
            "height": null,
            "justify_content": null,
            "justify_items": null,
            "left": null,
            "margin": null,
            "max_height": null,
            "max_width": null,
            "min_height": null,
            "min_width": null,
            "object_fit": null,
            "object_position": null,
            "order": null,
            "overflow": null,
            "overflow_x": null,
            "overflow_y": null,
            "padding": null,
            "right": null,
            "top": null,
            "visibility": null,
            "width": null
          }
        },
        "e0ec741813e94730bb28f7e5c8fbef89": {
          "model_module": "@jupyter-widgets/base",
          "model_name": "LayoutModel",
          "model_module_version": "1.2.0",
          "state": {
            "_model_module": "@jupyter-widgets/base",
            "_model_module_version": "1.2.0",
            "_model_name": "LayoutModel",
            "_view_count": null,
            "_view_module": "@jupyter-widgets/base",
            "_view_module_version": "1.2.0",
            "_view_name": "LayoutView",
            "align_content": null,
            "align_items": null,
            "align_self": null,
            "border": null,
            "bottom": null,
            "display": null,
            "flex": null,
            "flex_flow": null,
            "grid_area": null,
            "grid_auto_columns": null,
            "grid_auto_flow": null,
            "grid_auto_rows": null,
            "grid_column": null,
            "grid_gap": null,
            "grid_row": null,
            "grid_template_areas": null,
            "grid_template_columns": null,
            "grid_template_rows": null,
            "height": null,
            "justify_content": null,
            "justify_items": null,
            "left": null,
            "margin": null,
            "max_height": null,
            "max_width": null,
            "min_height": null,
            "min_width": null,
            "object_fit": null,
            "object_position": null,
            "order": null,
            "overflow": null,
            "overflow_x": null,
            "overflow_y": null,
            "padding": null,
            "right": null,
            "top": null,
            "visibility": null,
            "width": null
          }
        },
        "560482cbec5a43df9625a03957543cb5": {
          "model_module": "@jupyter-widgets/controls",
          "model_name": "DescriptionStyleModel",
          "model_module_version": "1.5.0",
          "state": {
            "_model_module": "@jupyter-widgets/controls",
            "_model_module_version": "1.5.0",
            "_model_name": "DescriptionStyleModel",
            "_view_count": null,
            "_view_module": "@jupyter-widgets/base",
            "_view_module_version": "1.2.0",
            "_view_name": "StyleView",
            "description_width": ""
          }
        },
        "cf5e985dc4f7485d825a66119a40070c": {
          "model_module": "@jupyter-widgets/base",
          "model_name": "LayoutModel",
          "model_module_version": "1.2.0",
          "state": {
            "_model_module": "@jupyter-widgets/base",
            "_model_module_version": "1.2.0",
            "_model_name": "LayoutModel",
            "_view_count": null,
            "_view_module": "@jupyter-widgets/base",
            "_view_module_version": "1.2.0",
            "_view_name": "LayoutView",
            "align_content": null,
            "align_items": null,
            "align_self": null,
            "border": null,
            "bottom": null,
            "display": null,
            "flex": null,
            "flex_flow": null,
            "grid_area": null,
            "grid_auto_columns": null,
            "grid_auto_flow": null,
            "grid_auto_rows": null,
            "grid_column": null,
            "grid_gap": null,
            "grid_row": null,
            "grid_template_areas": null,
            "grid_template_columns": null,
            "grid_template_rows": null,
            "height": null,
            "justify_content": null,
            "justify_items": null,
            "left": null,
            "margin": null,
            "max_height": null,
            "max_width": null,
            "min_height": null,
            "min_width": null,
            "object_fit": null,
            "object_position": null,
            "order": null,
            "overflow": null,
            "overflow_x": null,
            "overflow_y": null,
            "padding": null,
            "right": null,
            "top": null,
            "visibility": null,
            "width": null
          }
        },
        "bd0d9db56265460f9e3e4f16b5923d07": {
          "model_module": "@jupyter-widgets/controls",
          "model_name": "ProgressStyleModel",
          "model_module_version": "1.5.0",
          "state": {
            "_model_module": "@jupyter-widgets/controls",
            "_model_module_version": "1.5.0",
            "_model_name": "ProgressStyleModel",
            "_view_count": null,
            "_view_module": "@jupyter-widgets/base",
            "_view_module_version": "1.2.0",
            "_view_name": "StyleView",
            "bar_color": null,
            "description_width": ""
          }
        },
        "9626dbb8ae8c4dc497652a2164a20de9": {
          "model_module": "@jupyter-widgets/base",
          "model_name": "LayoutModel",
          "model_module_version": "1.2.0",
          "state": {
            "_model_module": "@jupyter-widgets/base",
            "_model_module_version": "1.2.0",
            "_model_name": "LayoutModel",
            "_view_count": null,
            "_view_module": "@jupyter-widgets/base",
            "_view_module_version": "1.2.0",
            "_view_name": "LayoutView",
            "align_content": null,
            "align_items": null,
            "align_self": null,
            "border": null,
            "bottom": null,
            "display": null,
            "flex": null,
            "flex_flow": null,
            "grid_area": null,
            "grid_auto_columns": null,
            "grid_auto_flow": null,
            "grid_auto_rows": null,
            "grid_column": null,
            "grid_gap": null,
            "grid_row": null,
            "grid_template_areas": null,
            "grid_template_columns": null,
            "grid_template_rows": null,
            "height": null,
            "justify_content": null,
            "justify_items": null,
            "left": null,
            "margin": null,
            "max_height": null,
            "max_width": null,
            "min_height": null,
            "min_width": null,
            "object_fit": null,
            "object_position": null,
            "order": null,
            "overflow": null,
            "overflow_x": null,
            "overflow_y": null,
            "padding": null,
            "right": null,
            "top": null,
            "visibility": null,
            "width": null
          }
        },
        "b825dd7b0e4042fcbdcb90ba17f4433d": {
          "model_module": "@jupyter-widgets/controls",
          "model_name": "DescriptionStyleModel",
          "model_module_version": "1.5.0",
          "state": {
            "_model_module": "@jupyter-widgets/controls",
            "_model_module_version": "1.5.0",
            "_model_name": "DescriptionStyleModel",
            "_view_count": null,
            "_view_module": "@jupyter-widgets/base",
            "_view_module_version": "1.2.0",
            "_view_name": "StyleView",
            "description_width": ""
          }
        }
      }
    }
  },
  "nbformat": 4,
  "nbformat_minor": 0
}